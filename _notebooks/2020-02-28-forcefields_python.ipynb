{
 "cells": [
  {
   "cell_type": "markdown",
   "metadata": {
    "colab_type": "text",
    "id": "vImysCW5ModB"
   },
   "source": [
    "# Building a Simple Molecular Force Field with Python\n",
    "\n",
    "> This  jupyter-notebook contains some commented code showing  how to build a simple molecular forcefield with Python.\n",
    "- toc: True\n",
    "- metadata_key1: forcefield\n",
    "- metadata_key2: lennard-jones cluster\n"
   ]
  },
  {
   "cell_type": "markdown",
   "metadata": {},
   "source": [
    "This  jupyter-notebook contains some commented code showing  how to build a simple molecular forcefield with Python using the libraries numpy and scipy. It is hosted on the [google colab platform](https://colab.research.google.com/drive/1nxv8pMykWkkahoVp3kKmO7IBPPtziUsD) and only a web browser is needed to run it.\n",
    "\n",
    "Force Field are used to determine molecular structures and their respective (relative) energies. They are used in very different settings, ranging from drug development to materials research.\n",
    "\n",
    "Usually empirical potential energy functions are used that map  the atomic coordinates of a specifc configuration for a molecular, cluster or crystal $\\textbf{X}$ to an scalar energy value $E$. $\\textbf{X}$ just contains the (e.g. cartesian) coordinates of all the atoms in vector or matrix form. As the atomic positions are changed so changes the total energy.   <br>\n",
    "\n",
    "$E = f(\\textbf{X})$\n",
    "\n",
    "Variations of the atomic coordinates may then be carried out in order to find a (local) minimum of the energy, or more exact of the so-called potential energy surface (PES). If the gradient of the energy function is given, the efficiency of the optimization process can be significantly improved. Analytical gradients are functions that map the coordinates to a vector field giving the direction of the strongest rate of function value change at the point $\\textbf{X}$.\n",
    "\n",
    "Hence, energy and gradient evaluations are typical made for a given atomic configuration, the coordinates are updated with this information from the gradients, and a new configuration  $\\textbf{X}'$ is obtained. This process is iterated until the energy or the gradient does not change anymore with respect to a given threshold.\n",
    "\n",
    "To further characterize those states, 2nd order derivatives of the PES are also sometimes computed.\n",
    "\n",
    "\n",
    "***\n",
    "##Optimizing Lennard-Jones Cluster\n",
    "In order to construct our own little Force Field we deal with a very simple model system. Lennard-Jones clusters are atomic ensembles which are held together only by comparatively weak Van der Waals (VdW) Forces. No strong bonds are involved such as covalent bonds or hydrogen bonds, which typically define real molecules. However, the lack of directed bonds renders this system somewhat easier to treat. The VdW forces are experienced by all atoms and only depend on the interatomic distance:\n",
    "\n",
    "\n",
    "$E = 4\\epsilon\\sum_{i<j}\\bigg[\\bigg( \\frac{\\sigma}{r_{ij}}\\bigg)^{12}-\\bigg( \\frac{\\sigma}{r_{ij}}\\bigg)^{6}\\bigg]$"
   ]
  },
  {
   "cell_type": "markdown",
   "metadata": {
    "colab_type": "text",
    "id": "xntEXYGvjoat"
   },
   "source": [
    "## Coding\n",
    "First we import the necessary libraries. In particular numpy (http://www.numpy.org/) for linear algebra and scipy (https://www.scipy.org/) for some  handy functions such as different optimizers. Its always a good idea not to re-invent the wheel..."
   ]
  },
  {
   "cell_type": "code",
   "execution_count": 0,
   "metadata": {
    "colab": {},
    "colab_type": "code",
    "id": "C78zUNiFXHTg"
   },
   "outputs": [],
   "source": [
    "import numpy as np\n",
    "from io import StringIO\n",
    "from scipy.optimize import minimize\n",
    "from scipy.optimize import basinhopping"
   ]
  },
  {
   "cell_type": "markdown",
   "metadata": {
    "colab_type": "text",
    "id": "MdNfeEqGABx9"
   },
   "source": [
    "Let us define the computation of the energy in a separate function.  Here its useful to introduce the concept of the distance matrix, which is a $n_{atoms} \\times n_{atoms}$ matrix containing all the possible distances between the atoms of the system. Effectively, we compute only the upper triangular part of the distance matrix, as only unique distances are needed."
   ]
  },
  {
   "cell_type": "code",
   "execution_count": 0,
   "metadata": {
    "colab": {},
    "colab_type": "code",
    "id": "SiGPTGjT9Qj5"
   },
   "outputs": [],
   "source": [
    "def calc_energy(coords,epsilon=1.0,sigma=1.0):\n",
    "  #reshape coordinates to original 2D array\n",
    "  tmpv = coords.reshape((natoms,3))\n",
    "  E=0.0\n",
    "  for i in range(natoms):\n",
    "    for j in range(i+1,natoms):      \n",
    "      distv = tmpv[i] - tmpv[j]\n",
    "      d = np.linalg.norm(distv)\n",
    "      E += ((sigma/d)**12-(sigma/d)**6)        \n",
    "  \n",
    "  E = 4*epsilon*E\n",
    "  return(E)"
   ]
  },
  {
   "cell_type": "markdown",
   "metadata": {
    "colab_type": "text",
    "id": "T78OM8m3kmD5"
   },
   "source": [
    "Defining the random seed for reproducibility. We want to get the same results for the same input in case we use a stochastic process."
   ]
  },
  {
   "cell_type": "code",
   "execution_count": 0,
   "metadata": {
    "colab": {},
    "colab_type": "code",
    "id": "M_KThCP1kmeE"
   },
   "outputs": [],
   "source": [
    "np.random.seed(42)"
   ]
  },
  {
   "cell_type": "markdown",
   "metadata": {
    "colab_type": "text",
    "id": "IX7zMC27lTqt"
   },
   "source": [
    "Let us parameterize the size of the system, so we can change it later on. Be careful not to enter too large integers here, computations may become quite costly."
   ]
  },
  {
   "cell_type": "code",
   "execution_count": 0,
   "metadata": {
    "colab": {},
    "colab_type": "code",
    "id": "jO-4GJNZlaS2"
   },
   "outputs": [],
   "source": [
    "natoms = 5"
   ]
  },
  {
   "cell_type": "markdown",
   "metadata": {
    "colab_type": "text",
    "id": "C6llMGF9kX7I"
   },
   "source": [
    "Generating some  random arrays via numpy, representing the initial atomic coordinates. Those will be far away from the minimum geometry, but we have to start somewhere. In this case we use  a $n_{atoms} \\times 3$ matrix, containing in each row the x,y,z coordinates of an atom.<br>\n",
    "For later use, we then  reshape the coordinates into a 1D vector, because the scipy minimize function expects this shape. "
   ]
  },
  {
   "cell_type": "code",
   "execution_count": 0,
   "metadata": {
    "colab": {
     "base_uri": "https://localhost:8080/",
     "height": 68
    },
    "colab_type": "code",
    "executionInfo": {
     "elapsed": 581,
     "status": "ok",
     "timestamp": 1582997458107,
     "user": {
      "displayName": "Christoph Loschen",
      "photoUrl": "",
      "userId": "06846131955017515958"
     },
     "user_tz": -60
    },
    "id": "eARPzcYIWOCi",
    "outputId": "38733b27-d48a-4542-be18-7aba049cc5bb"
   },
   "outputs": [
    {
     "data": {
      "text/plain": [
       "array([0.03438852, 0.9093204 , 0.25877998, 0.66252228, 0.31171108,\n",
       "       0.52006802, 0.54671028, 0.18485446, 0.96958463, 0.77513282,\n",
       "       0.93949894, 0.89482735, 0.59789998, 0.92187424, 0.0884925 ])"
      ]
     },
     "execution_count": 15,
     "metadata": {
      "tags": []
     },
     "output_type": "execute_result"
    }
   ],
   "source": [
    "coords = np.random.random((natoms,3))\n",
    "coords = coords.reshape((natoms*3,))\n",
    "coords\n"
   ]
  },
  {
   "cell_type": "markdown",
   "metadata": {
    "colab_type": "text",
    "id": "lH5VdIb2lKqL"
   },
   "source": [
    "Lets call and test the energy function, which we have defined earlier. It should give a rather large value, due to the randomness of the coordinates used as initial input."
   ]
  },
  {
   "cell_type": "markdown",
   "metadata": {
    "colab_type": "text",
    "id": "JDgEeM7RBQPo"
   },
   "source": [
    "## Energies and Structure Optimisation"
   ]
  },
  {
   "cell_type": "code",
   "execution_count": 0,
   "metadata": {
    "colab": {
     "base_uri": "https://localhost:8080/",
     "height": 34
    },
    "colab_type": "code",
    "executionInfo": {
     "elapsed": 539,
     "status": "ok",
     "timestamp": 1582997459511,
     "user": {
      "displayName": "Christoph Loschen",
      "photoUrl": "",
      "userId": "06846131955017515958"
     },
     "user_tz": -60
    },
    "id": "a2J9k8ARNGSw",
    "outputId": "929c672d-bb09-4de2-b140-6c9ac0d67857"
   },
   "outputs": [
    {
     "data": {
      "text/plain": [
       "28134.0478850889"
      ]
     },
     "execution_count": 16,
     "metadata": {
      "tags": []
     },
     "output_type": "execute_result"
    }
   ],
   "source": [
    "calc_energy(coords)"
   ]
  },
  {
   "cell_type": "markdown",
   "metadata": {
    "colab_type": "text",
    "id": "bBp6sv_bNGvU"
   },
   "source": [
    "Now lets minimze the energy via the internal scipy minimize function. It containts a lot of different varations of minimizers, one is the Nealder-Mead simplex\n",
    "method (by the way, not to be confused with the \"simplex\" method used in linear programming).<br>\n",
    "The Nealder-Mead simplex does not need any gradients and hence is quite useful if no gradients are available. <br>For better performance we will have to implement gradients later on."
   ]
  },
  {
   "cell_type": "code",
   "execution_count": 0,
   "metadata": {
    "colab": {
     "base_uri": "https://localhost:8080/",
     "height": 34
    },
    "colab_type": "code",
    "executionInfo": {
     "elapsed": 846,
     "status": "ok",
     "timestamp": 1582997474204,
     "user": {
      "displayName": "Christoph Loschen",
      "photoUrl": "",
      "userId": "06846131955017515958"
     },
     "user_tz": -60
    },
    "id": "RB5C8uFYWrXy",
    "outputId": "0af79d24-9983-4a3e-bbc7-39c1fbddc835"
   },
   "outputs": [
    {
     "name": "stdout",
     "output_type": "stream",
     "text": [
      "Energy:        -9.103852 after 2323 function evaluations using the simplex optimizer.\n"
     ]
    }
   ],
   "source": [
    "\n",
    "res = minimize(calc_energy, x0=coords, method='Nelder-Mead', tol=1e-6)\n",
    "print(\"Energy: %16.6f after %d function evaluations using the simplex optimizer.\"%(res.fun,res.nfev))\n",
    "coords_opt = res.x.reshape((natoms,3))\n"
   ]
  },
  {
   "cell_type": "markdown",
   "metadata": {
    "colab_type": "text",
    "id": "NwkXlPPFdhzf"
   },
   "source": [
    "Ok lets try another minimizer, the Broyden-Fletcher-Goldfarb-Shanno (BFGS) algorithm."
   ]
  },
  {
   "cell_type": "code",
   "execution_count": 0,
   "metadata": {
    "colab": {
     "base_uri": "https://localhost:8080/",
     "height": 34
    },
    "colab_type": "code",
    "executionInfo": {
     "elapsed": 976,
     "status": "ok",
     "timestamp": 1582997476827,
     "user": {
      "displayName": "Christoph Loschen",
      "photoUrl": "",
      "userId": "06846131955017515958"
     },
     "user_tz": -60
    },
    "id": "LH0ULPHH2Vtq",
    "outputId": "86d99155-45ee-4ca7-c3b6-3eaca0302a15"
   },
   "outputs": [
    {
     "name": "stdout",
     "output_type": "stream",
     "text": [
      "Energy:        -9.103852 after 3802 function evaluations using Broyden-Fletcher-Goldfarb-Shanno algorithm.\n"
     ]
    }
   ],
   "source": [
    "res = minimize(calc_energy, x0=coords, method='BFGS', tol=1e-6)\n",
    "print(\"Energy: %16.6f after %d function evaluations using Broyden-Fletcher-Goldfarb-Shanno algorithm.\"%(res.fun,res.nfev))\n",
    "coords_opt = res.x.reshape((natoms,3))"
   ]
  },
  {
   "cell_type": "markdown",
   "metadata": {
    "colab_type": "text",
    "id": "sqfUoWQfS6q2"
   },
   "source": [
    "## Global optimisation\n",
    "\n",
    "We just performed a local optimisation and hence it is possible that we missed the energetically lowest structure.\n",
    "\n",
    "A global optimisation algorithm is ussually applied in order to to find the energetically lowest structure. Of course, we can never be 100% sure that we did not miss a lower energy structure with our search.\n",
    "\n",
    "However, for this kind of small clusters however the possibilities are limited and we should have an energy of E=-6.0000 for 4 atom and E=-9.103 852 for 5 atoms. The difference between a normal optimisation and a global one will be much more significant for larger atom numbers. But be careful, computation will also like increase. \n",
    "\n",
    "For pre-computed results on larger systems and on details of the basin-hopping algorithm have a look at:\n",
    "\n",
    "D. J. Wales and J. P. K. Doye\n",
    "The Journal of Physical Chemistry A **1997** 101 (28), 5111-5116.<br>\n",
    " (http://www-wales.ch.cam.ac.uk/pdf/JPCA.101.5111.1997.pdf)\n",
    "\n"
   ]
  },
  {
   "cell_type": "code",
   "execution_count": 0,
   "metadata": {
    "colab": {
     "base_uri": "https://localhost:8080/",
     "height": 34
    },
    "colab_type": "code",
    "executionInfo": {
     "elapsed": 24919,
     "status": "ok",
     "timestamp": 1582997518414,
     "user": {
      "displayName": "Christoph Loschen",
      "photoUrl": "",
      "userId": "06846131955017515958"
     },
     "user_tz": -60
    },
    "id": "-Fd3TQqCTMyC",
    "outputId": "e15011e0-d15f-4571-eaf7-2dc69b908eb8"
   },
   "outputs": [
    {
     "name": "stdout",
     "output_type": "stream",
     "text": [
      "Energy:        -9.103852 after 234060 iterations.\n"
     ]
    }
   ],
   "source": [
    "res = basinhopping(calc_energy, x0=coords_opt,niter=100,T=1.0, stepsize=0.5)\n",
    "print(\"Energy: %16.6f after %d iterations.\"%(res.fun,res.nfev))"
   ]
  },
  {
   "cell_type": "markdown",
   "metadata": {
    "colab_type": "text",
    "id": "4u_6y6CeBYfn"
   },
   "source": [
    "### Visualization"
   ]
  },
  {
   "cell_type": "code",
   "execution_count": 0,
   "metadata": {
    "colab": {},
    "colab_type": "code",
    "id": "DYFHIuL5jbhZ"
   },
   "outputs": [],
   "source": [
    "%matplotlib inline\n",
    "import matplotlib.pyplot as plt\n",
    "from mpl_toolkits import mplot3d"
   ]
  },
  {
   "cell_type": "markdown",
   "metadata": {
    "colab_type": "text",
    "id": "WEaBlPPaGx7S"
   },
   "source": [
    "Now some visualization to inspect the results.\n",
    "\n",
    "\n"
   ]
  },
  {
   "cell_type": "code",
   "execution_count": 0,
   "metadata": {
    "colab": {
     "base_uri": "https://localhost:8080/",
     "height": 265
    },
    "colab_type": "code",
    "executionInfo": {
     "elapsed": 932,
     "status": "ok",
     "timestamp": 1582997883390,
     "user": {
      "displayName": "Christoph Loschen",
      "photoUrl": "",
      "userId": "06846131955017515958"
     },
     "user_tz": -60
    },
    "id": "8mnGwj9fIABY",
    "outputId": "97716f8a-cf99-4c56-a220-1a2f919f0531"
   },
   "outputs": [
    {
     "data": {
      "text/plain": [
       "(-3.0, 3.0)"
      ]
     },
     "execution_count": 23,
     "metadata": {
      "tags": []
     },
     "output_type": "execute_result"
    },
    {
     "data": {
      "image/png": "[encoded data removed]",
      "text/plain": [
       "<Figure size 432x288 with 1 Axes>"
      ]
     },
     "metadata": {
      "tags": []
     },
     "output_type": "display_data"
    }
   ],
   "source": [
    "ax = plt.axes(projection='3d')\n",
    "ax.scatter(coords_opt[:,0], coords_opt[:,1], coords_opt[:,2], c='blue', linewidth=2.0);\n",
    "ax.set_xlabel('X')\n",
    "ax.set_ylabel('Y')\n",
    "ax.set_zlabel('Z')\n",
    "limits = (-3.0,3.0)\n",
    "ax.set_xlim(limits)\n",
    "ax.set_ylim(limits)\n",
    "ax.set_zlim(limits)"
   ]
  },
  {
   "cell_type": "markdown",
   "metadata": {
    "colab_type": "text",
    "id": "Cr9I2eU5S_ZJ"
   },
   "source": [
    "### Gradients\n",
    "\n",
    "Now lets implement a gradient function here to improve optimization performance."
   ]
  },
  {
   "cell_type": "code",
   "execution_count": 0,
   "metadata": {
    "colab": {},
    "colab_type": "code",
    "id": "52HOD1MAtJ4T"
   },
   "outputs": [],
   "source": [
    "def calc_gradient(coords,epsilon=1.0,sigma=1.0):\n",
    "  #reshape coordinates to original 2D array\n",
    "  tmpv = coords.reshape((natoms,3))\n",
    "  E=0.0\n",
    "  grad = np.zeros(natoms*3)\n",
    "  for i in range(natoms):\n",
    "    for j in range(i+1,natoms):      \n",
    "      distv = tmpv[i] - tmpv[j]\n",
    "      d = np.linalg.norm(distv)\n",
    "      E += ((sigma/d)**12-(sigma/d)**6)\n",
    "      grad_ = -12 * (d/sigma)**(-13) + 6* (d/sigma)**(-7)\n",
    "      grad[i] = grad[i] + grad_\n",
    "      grad[j] = grad[j] - grad_           \n",
    "  \n",
    "  E = 4*epsilon*E\n",
    "  grad = 4*epsilon*grad\n",
    "  grad = grad.reshape((natoms*3,))\n",
    "  return(grad)\n",
    "    "
   ]
  },
  {
   "cell_type": "markdown",
   "metadata": {
    "colab_type": "text",
    "id": "yEB-DDhJ4TyP"
   },
   "source": [
    "For optimization we use the BFGS algorithm again, but this time with analytical gradient."
   ]
  },
  {
   "cell_type": "code",
   "execution_count": 0,
   "metadata": {
    "colab": {
     "base_uri": "https://localhost:8080/",
     "height": 34
    },
    "colab_type": "code",
    "executionInfo": {
     "elapsed": 594,
     "status": "ok",
     "timestamp": 1582997898579,
     "user": {
      "displayName": "Christoph Loschen",
      "photoUrl": "",
      "userId": "06846131955017515958"
     },
     "user_tz": -60
    },
    "id": "h2dmwZ9os9lO",
    "outputId": "7b8f3f54-ddac-4b58-df07-890257e7dd79"
   },
   "outputs": [
    {
     "name": "stdout",
     "output_type": "stream",
     "text": [
      "Energy:        -9.103852 after 98 function evaluations using gradient info.\n"
     ]
    }
   ],
   "source": [
    "\n",
    "res = minimize(calc_energy, x0=coords_opt, method='BFGS', jac=calc_gradient, tol=1e-6)\n",
    "print(\"Energy: %16.6f after %d function evaluations using gradient info.\"%(res.fun,res.nfev))\n",
    "\n"
   ]
  },
  {
   "cell_type": "markdown",
   "metadata": {
    "colab_type": "text",
    "id": "R14TISGp4fMx"
   },
   "source": [
    "For a global optimzation we need a different strategy to ensure that we do not land in a local minimum. To use the scipy basin\n",
    "hopin algorithm we to restructure the energy and the gradient function somewhat:"
   ]
  },
  {
   "cell_type": "code",
   "execution_count": 0,
   "metadata": {
    "colab": {},
    "colab_type": "code",
    "id": "G_nge1U34o7N"
   },
   "outputs": [],
   "source": [
    "def calc_energy_with_gradient(coords, epsilon=1.0,sigma=1.0):\n",
    "  E = calc_energy(coords,epsilon,sigma)\n",
    "  grad = calc_gradient(coords,epsilon,sigma)\n",
    "  return(E,grad)"
   ]
  },
  {
   "cell_type": "code",
   "execution_count": 0,
   "metadata": {
    "colab": {
     "base_uri": "https://localhost:8080/",
     "height": 34
    },
    "colab_type": "code",
    "executionInfo": {
     "elapsed": 1962,
     "status": "ok",
     "timestamp": 1582997904715,
     "user": {
      "displayName": "Christoph Loschen",
      "photoUrl": "",
      "userId": "06846131955017515958"
     },
     "user_tz": -60
    },
    "id": "57mvFW2hWaWy",
    "outputId": "d1bfed57-f30a-41c1-9330-c499f98ac466"
   },
   "outputs": [
    {
     "name": "stdout",
     "output_type": "stream",
     "text": [
      "Energy:        -9.103852 after 5387 function evaluations.\n"
     ]
    }
   ],
   "source": [
    "minimizer_kwargs = {\"method\":\"L-BFGS-B\", \"jac\":True}\n",
    "res = basinhopping(calc_energy_with_gradient, x0=coords_opt,niter=1000,T=5.0, stepsize=1,minimizer_kwargs=minimizer_kwargs)\n",
    "print(\"Energy: %16.6f after %d function evaluations.\"%(res.fun,res.nfev))"
   ]
  },
  {
   "cell_type": "code",
   "execution_count": 0,
   "metadata": {
    "colab": {},
    "colab_type": "code",
    "id": "Z8HNgwP5swuK"
   },
   "outputs": [],
   "source": []
  },
  {
   "cell_type": "markdown",
   "metadata": {
    "colab_type": "text",
    "id": "VqOn9ZMdjdJY"
   },
   "source": [
    "## Outlook: More Complex Force Fields\n",
    "Usually, molecular Force Fields contain also directed interactions such as covalent or hydrogen bonds, in addition to VdW interactions. \n",
    "\n",
    "They very much resemble a spring and beads model where the atoms in a molecule are held together by a spring.\n",
    "The atomic connections i.e. covalent bonds between atoms have to be defined beforehand. Each bond is modelled in first order by a spring, which exerts\n",
    "a force on the atoms which increases linear with the distance from the equilibrium bond length. Hence, each characteristic bond (C-C single bond, C=C double bond, O-H bond etc.) can be represented by a spring constant. \n",
    "\n",
    "Due to the fact that all bonds are determined beforehand, no bonds can be made or be broken in typical Force Fields, in fact no real *chemistry* can take place, as opposed to quantum chemistry.\n",
    "\n",
    "In addition to those covalent bond terms, angle terms, dihedral terms, Van der Waals terms and some special terms are sometimes added to the overall energy function.\n",
    "The terms can be divided in bonded (e.g valence) terms $E_{val}$ and non-bonded terms $E_{nb}$ (see also J. Phys. Chem, Vol. 94, No. 26, 1990):"
   ]
  },
  {
   "cell_type": "markdown",
   "metadata": {
    "colab_type": "text",
    "id": "vgOCSp17aXxy"
   },
   "source": [
    "$E = E_{val}+E_{nb}$"
   ]
  },
  {
   "cell_type": "markdown",
   "metadata": {
    "colab_type": "text",
    "id": "PavJdX3RbcPE"
   },
   "source": [
    "The valence interaction typically consist out of bond stretch ($E_{B}$, two-body), bond-angle bend ($E_{A}$, three body) and dihedral angle torsion ($E_{T}$, four body), and inversion terms ($E_I$, four body).\n"
   ]
  },
  {
   "cell_type": "markdown",
   "metadata": {
    "colab_type": "text",
    "id": "Vq1dOr0UcC_C"
   },
   "source": [
    "$E_{val}=E_{B}+E_{A}+E_{T}+E_{I}$\n"
   ]
  },
  {
   "cell_type": "markdown",
   "metadata": {
    "colab_type": "text",
    "id": "G8NRTh6OcPvR"
   },
   "source": [
    "The non-bonded interactions can may consist out of van der Waals or dispersion ($E_{vdW}$), electrostatic ($E_Q$) and explicit hydrogen bonding terms ($E_{hb}$):"
   ]
  },
  {
   "cell_type": "markdown",
   "metadata": {
    "colab_type": "text",
    "id": "rq4rdFMAct5y"
   },
   "source": [
    "$E_{nb}=E_{vdW}+E_{Q}+E_{hb}$"
   ]
  },
  {
   "cell_type": "markdown",
   "metadata": {
    "colab_type": "text",
    "id": "7r5ML2noNbOO"
   },
   "source": [
    "The global optimisation of this kind of energy function corresponds to a conformer search, where the global energy minimum represents  the most stable molecular conformation.\n",
    "\n",
    "Molecular Force Field have their drawbacks such as their sometimes weak overall accuracy and lack of generality. But their are magnitudes faster than typical quantum chemical methods and are still in whitespread use.\n",
    "\n",
    "The algorithms to optimize their structure are the same as for the more sophisticated quantum chemical methods."
   ]
  }
 ],
 "metadata": {
  "colab": {
   "collapsed_sections": [],
   "name": "forcefields.ipynb",
   "provenance": []
  },
  "kernelspec": {
   "display_name": "Python 3",
   "language": "python",
   "name": "python3"
  },
  "language_info": {
   "codemirror_mode": {
    "name": "ipython",
    "version": 3
   },
   "file_extension": ".py",
   "mimetype": "text/x-python",
   "name": "python",
   "nbconvert_exporter": "python",
   "pygments_lexer": "ipython3",
   "version": "3.8.2"
  }
 },
 "nbformat": 4,
 "nbformat_minor": 1
}
