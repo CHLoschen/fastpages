{
 "cells": [
  {
   "cell_type": "markdown",
   "metadata": {
    "colab_type": "text",
    "id": "PscU60ffoaeU"
   },
   "source": [
    "# A Short Interactive Introduction to Python\n",
    "\n",
    "> This is a short introduction to Python programming for Chemists and Engineers.\n",
    "- toc: True\n",
    "- metadata_key1: Python\n",
    "- metadata_key2: Programming\n",
    "- metadata_key2: Chemistry"
   ]
  },
  {
   "cell_type": "markdown",
   "metadata": {},
   "source": [
    "This Python introductions aims at readers such as chemists and engineers with some programming background. Its intention is to give you a rough overview on the key features of the Python programming language. If you are completely new to programming, you may want to check this nice introduction first https://wiki.python.org/moin/BeginnersGuide/NonProgrammers.\n",
    "\n",
    "It is also hosted on the [google colab platform](https://colab.research.google.com/drive/1_qg3wu0dtF4d5aW-R4hyMFqyY6zgm0ra) and only a web browser is needed to start it.\n",
    "\n",
    "We will discuss a bit the differences to other languages, but we will also explain or provide links for most of the concepts mentioned here, so do not worry if some of those are not yet familiar to you.\n",
    "\n",
    "## Some key features of Python\n",
    "\n",
    "*   Python is a scripting language. (There is no compiled binary code per default)\n",
    "*   It is  procedural (i.e. you can program with classic functions, that take parameters)\n",
    "*   it is object-oriented (you can use more complex structures, that can hold several variables) \n",
    "*   it has some functional programming features as well (e.g. lambda functions, map, reduce & filter, for more information see https://en.wikipedia.org/wiki/Functional_programming)\n",
    "\n",
    "\n",
    "\n",
    "## What makes Python special...\n",
    "\n",
    "* Indendation is used to organize code, i.e. to define blocks of code space or tabs are used (no curly brackets, semi-colons etc, no \";\" or \"{}\")\n",
    "*   variables can hold any type\n",
    "*   all variables are objects\n",
    "*  great support for interactive use (like in this jupyter notebook here!)\n",
    "*   Many specialized libraries, in particular scientific [libraries](#Python-Libraries) are available, where the performance intensive part is done by C/C++/Fortran and the control/IO is done via Python"
   ]
  },
  {
   "cell_type": "markdown",
   "metadata": {
    "colab_type": "text",
    "id": "gt2T1UdwtZGm"
   },
   "source": [
    "## *Assignment* of a variable"
   ]
  },
  {
   "cell_type": "code",
   "execution_count": 3,
   "metadata": {
    "colab": {
     "base_uri": "https://localhost:8080/",
     "height": 34
    },
    "colab_type": "code",
    "executionInfo": {
     "elapsed": 625,
     "status": "ok",
     "timestamp": 1582631737569,
     "user": {
      "displayName": "Christoph Loschen",
      "photoUrl": "",
      "userId": "06846131955017515958"
     },
     "user_tz": -60
    },
    "id": "TqIM7tthoDgH",
    "outputId": "0eec0b3e-efe7-4b74-d661-9fb0f04a0e26"
   },
   "outputs": [
    {
     "data": {
      "text/plain": [
       "1.5"
      ]
     },
     "execution_count": 3,
     "metadata": {
      "tags": []
     },
     "output_type": "execute_result"
    }
   ],
   "source": [
    "a = 1.5  # click the cell and press SHIFT+RETURN to run the code. This line is a comment \n",
    "a"
   ]
  },
  {
   "cell_type": "markdown",
   "metadata": {
    "colab_type": "text",
    "id": "C6y-JSxergP4"
   },
   "source": [
    "All variables are objects, use type() function to get the type. In this case: `a` is of the type \"float\" (short for floating point number). Comments are declared with the hashtag `#` in Python.\n",
    "\n",
    "\n",
    "\n"
   ]
  },
  {
   "cell_type": "code",
   "execution_count": 0,
   "metadata": {
    "colab": {
     "base_uri": "https://localhost:8080/",
     "height": 34
    },
    "colab_type": "code",
    "executionInfo": {
     "elapsed": 566,
     "status": "ok",
     "timestamp": 1582575877314,
     "user": {
      "displayName": "Christoph Loschen",
      "photoUrl": "",
      "userId": "06846131955017515958"
     },
     "user_tz": -60
    },
    "id": "6t1Uos44oVNO",
    "outputId": "4a49d67b-4fcc-4076-de02-9c74ed2db5c1"
   },
   "outputs": [
    {
     "data": {
      "text/plain": [
       "float"
      ]
     },
     "execution_count": 4,
     "metadata": {
      "tags": []
     },
     "output_type": "execute_result"
    }
   ],
   "source": [
    "type(a) "
   ]
  },
  {
   "cell_type": "markdown",
   "metadata": {
    "colab_type": "text",
    "id": "837HpOMAreUQ"
   },
   "source": [
    "Variables can be easily re-defined, here variable `a` becomes an integer:"
   ]
  },
  {
   "cell_type": "code",
   "execution_count": 0,
   "metadata": {
    "colab": {},
    "colab_type": "code",
    "id": "ABH7MxnYoYcM"
   },
   "outputs": [],
   "source": [
    "a = 1 "
   ]
  },
  {
   "cell_type": "code",
   "execution_count": 0,
   "metadata": {
    "colab": {
     "base_uri": "https://localhost:8080/",
     "height": 34
    },
    "colab_type": "code",
    "executionInfo": {
     "elapsed": 793,
     "status": "ok",
     "timestamp": 1576145793516,
     "user": {
      "displayName": "Christoph Loschen",
      "photoUrl": "",
      "userId": "06846131955017515958"
     },
     "user_tz": -60
    },
    "id": "hy9RKaazsBQQ",
    "outputId": "e33203d4-e4f5-4ad3-9985-43581755887b"
   },
   "outputs": [
    {
     "data": {
      "text/plain": [
       "int"
      ]
     },
     "execution_count": 36,
     "metadata": {
      "tags": []
     },
     "output_type": "execute_result"
    }
   ],
   "source": [
    "type(a) "
   ]
  },
  {
   "cell_type": "markdown",
   "metadata": {
    "colab_type": "text",
    "id": "XBwOiyo4w58O"
   },
   "source": [
    "The type of a variable is determined by assignment!\n",
    "There are no context prefixes like @, %, $ like in e.g. Perl\n",
    "___\n",
    "\n",
    "## A simple Python program\n",
    "\n",
    "Below is a very simple Python program printing something, and demonstrating some basic features. A lot of useful functionality in Python is kept in external libraries that has to be imported before use with the `import` statement. Also, functions have of course to be defined prior to use.\n",
    "\n",
    "By the way, note how identation is used to define code blocks. In Python you can use either spaces or tabs to indent your code. In Python3 mixing of tabs and spaces is not allowed, and the use of 4 consecutive spaces is recommended."
   ]
  },
  {
   "cell_type": "code",
   "execution_count": 0,
   "metadata": {
    "colab": {
     "base_uri": "https://localhost:8080/",
     "height": 34
    },
    "colab_type": "code",
    "executionInfo": {
     "elapsed": 787,
     "status": "ok",
     "timestamp": 1576145793517,
     "user": {
      "displayName": "Christoph Loschen",
      "photoUrl": "",
      "userId": "06846131955017515958"
     },
     "user_tz": -60
    },
    "id": "qrT8VK-A4hq8",
    "outputId": "4d7896f1-c7a1-4ec6-915e-9a8d16b2ea05"
   },
   "outputs": [
    {
     "name": "stdout",
     "output_type": "stream",
     "text": [
      "Hello world from /content !\n"
     ]
    }
   ],
   "source": [
    "# import a library\n",
    "import os\n",
    "\n",
    "# definition of a python function\n",
    "def hello():\n",
    "  # get current path as a string and assign it to variable\n",
    "  current_dir = os.getcwd()\n",
    "  # concatentate strings and print them\n",
    "  print('Hello world from '+current_dir+' !')\n",
    "\n",
    "# do not forget to call the function\n",
    "hello()"
   ]
  },
  {
   "cell_type": "markdown",
   "metadata": {
    "colab_type": "text",
    "id": "NecQYFzD6dn6"
   },
   "source": [
    "If we were not in an interactive session, we would save this chunk of code to a file, e.g. `hello_word.py` and run that by invoking:<br>\n",
    "`python hello_word.py`<br> on the command line.\n",
    "\n",
    "___"
   ]
  },
  {
   "cell_type": "markdown",
   "metadata": {
    "colab_type": "text",
    "id": "FMvnQhNY2Ult"
   },
   "source": [
    "## `IF` statement\n",
    "\n",
    "`if` statements are pretty straightforward, there is no \"THEN\" and indentation helps to group the `if` and the `else` (or `elif` means `else if`) block."
   ]
  },
  {
   "cell_type": "code",
   "execution_count": 0,
   "metadata": {
    "colab": {},
    "colab_type": "code",
    "id": "3i7TXaVe2SF2"
   },
   "outputs": [],
   "source": [
    "a = 3.0\n",
    "if a > 2:\n",
    "  print(a)\n",
    "  if not (isinstance(a,int)):\n",
    "    print(\"a is not an integer\")\n",
    "else:\n",
    "  print(\"Hmm, we should never be here...\")"
   ]
  },
  {
   "cell_type": "markdown",
   "metadata": {
    "colab_type": "text",
    "id": "L5d7lN8u3CsT"
   },
   "source": [
    "Since Python 3, the `print` statement is a proper function, in Python 2 one could do something like (i.e. without parentheses): \n",
    "\n",
    "`print \"a is not an integer\"`\n",
    "\n",
    "which is no longer possible. It is strongly recommended to use Python 3 as Python 2 is no longer maintained and many external libraries have switched meanwhile competely to Python 3.\n",
    "\n",
    "Logical negation: `if not`\n",
    "\n",
    "Checking of variable type: `isinstance(variable,type)`"
   ]
  },
  {
   "cell_type": "code",
   "execution_count": 0,
   "metadata": {
    "colab": {
     "base_uri": "https://localhost:8080/",
     "height": 34
    },
    "colab_type": "code",
    "executionInfo": {
     "elapsed": 775,
     "status": "ok",
     "timestamp": 1576145793518,
     "user": {
      "displayName": "Christoph Loschen",
      "photoUrl": "",
      "userId": "06846131955017515958"
     },
     "user_tz": -60
    },
    "id": "OcEzxzvlJQFY",
    "outputId": "69cd3103-ec48-4c02-dfaa-2bee0fe4da24"
   },
   "outputs": [
    {
     "data": {
      "text/plain": [
       "True"
      ]
     },
     "execution_count": 39,
     "metadata": {
      "tags": []
     },
     "output_type": "execute_result"
    }
   ],
   "source": [
    "isinstance(a,float)"
   ]
  },
  {
   "cell_type": "markdown",
   "metadata": {
    "colab_type": "text",
    "id": "dUxBsO5P7M3j"
   },
   "source": [
    "___"
   ]
  },
  {
   "cell_type": "markdown",
   "metadata": {
    "colab_type": "text",
    "id": "P5evSBMOJvfI"
   },
   "source": [
    "## `FOR` LOOPS\n",
    "\n"
   ]
  },
  {
   "cell_type": "code",
   "execution_count": 0,
   "metadata": {
    "colab": {
     "base_uri": "https://localhost:8080/",
     "height": 187
    },
    "colab_type": "code",
    "executionInfo": {
     "elapsed": 768,
     "status": "ok",
     "timestamp": 1576145793518,
     "user": {
      "displayName": "Christoph Loschen",
      "photoUrl": "",
      "userId": "06846131955017515958"
     },
     "user_tz": -60
    },
    "id": "vKg8mhFfJ2ch",
    "outputId": "717f7c05-de20-4256-e106-75d211e90b76"
   },
   "outputs": [
    {
     "name": "stdout",
     "output_type": "stream",
     "text": [
      "0\n",
      "1\n",
      "2\n",
      "3\n",
      "4\n",
      "5\n",
      "6\n",
      "7\n",
      "8\n",
      "9\n"
     ]
    }
   ],
   "source": [
    "for i in range(10):\n",
    "  print(i)"
   ]
  },
  {
   "cell_type": "markdown",
   "metadata": {
    "colab_type": "text",
    "id": "srN43DL9J8t4"
   },
   "source": [
    "The Python `range` function is somewhat special and for loops look somewhat different, than in other languages:\n",
    "\n",
    "*  **Python**: `for i in range(start=0, stop=10, step=1):`\n",
    "*  **JAVA/C**: `for (int i=0; i<10; i++) {}`\n",
    "*  **Fortran**: `do i=0,9, end do`\n",
    "\n",
    "Go on and manipulate the code above to check the effects.\n",
    "\n",
    "Looping over lists (which will be explained below) is quite simple as well:\n"
   ]
  },
  {
   "cell_type": "code",
   "execution_count": 0,
   "metadata": {
    "colab": {
     "base_uri": "https://localhost:8080/",
     "height": 68
    },
    "colab_type": "code",
    "executionInfo": {
     "elapsed": 764,
     "status": "ok",
     "timestamp": 1576145793519,
     "user": {
      "displayName": "Christoph Loschen",
      "photoUrl": "",
      "userId": "06846131955017515958"
     },
     "user_tz": -60
    },
    "id": "qhzBIMNnKh9M",
    "outputId": "796e2c6a-63ec-401c-a318-5172f31dad71"
   },
   "outputs": [
    {
     "name": "stdout",
     "output_type": "stream",
     "text": [
      "ibuprofen\n",
      "paracetamol\n",
      "aspirin\n"
     ]
    }
   ],
   "source": [
    "drugs = ['ibuprofen','paracetamol','aspirin']\n",
    "for d in drugs:\n",
    "  print(d)"
   ]
  },
  {
   "cell_type": "markdown",
   "metadata": {
    "colab_type": "text",
    "id": "A-8LtPqJKuY0"
   },
   "source": [
    "Some standard keywords are used to control behaviour inside the loop:\n",
    "\n",
    "*   **continue**: continue to next iteration of the loop\n",
    "*   **break**: leave/exit the loop\n",
    "\n"
   ]
  },
  {
   "cell_type": "code",
   "execution_count": 0,
   "metadata": {
    "colab": {
     "base_uri": "https://localhost:8080/",
     "height": 51
    },
    "colab_type": "code",
    "executionInfo": {
     "elapsed": 758,
     "status": "ok",
     "timestamp": 1576145793519,
     "user": {
      "displayName": "Christoph Loschen",
      "photoUrl": "",
      "userId": "06846131955017515958"
     },
     "user_tz": -60
    },
    "id": "iYk7me1uKKOh",
    "outputId": "40ea6ebb-9667-4332-ffd2-0df748ab7577"
   },
   "outputs": [
    {
     "name": "stdout",
     "output_type": "stream",
     "text": [
      "ibuprofen\n",
      "aspirin\n"
     ]
    }
   ],
   "source": [
    "for d in drugs:\n",
    "  if d=='paracetamol': continue\n",
    "  print(d)"
   ]
  },
  {
   "cell_type": "markdown",
   "metadata": {
    "colab_type": "text",
    "id": "FN99_IjJ_YNY"
   },
   "source": [
    "___\n",
    "## Python Data Types\n",
    "\n",
    "| type | example | comment |\n",
    "| --- | --- | --- |\n",
    "| int | i=1 | Integer: 0,1,2,3 |\n",
    "| boolean | b=False | bolean value (True/False) |\n",
    "| float | x=0.1 | floating point number |\n",
    "| str | s = \"how are you?\" | String |\n",
    "| list | l = [1,2,2,50,7] | Changeable list with order |\n",
    "| set  | set([1,2,2,50,7])==set([1,2,50,7]) | Changeable set (list of unique elements) without order |\n",
    "| tuple | t = (99.9,2,3,\"aspirin\") | \"Tuple\": Unchangeable ordered list, used e.g. for returning function values  |\n",
    "| dict | d = {“hans“: 123, “peter“:344, “dirk“: 623} | Dictionary to save key/value pairs |\n",
    "\n",
    "\n",
    "The table shows the most important data types in Python. There are more specialized types e.g. https://docs.python.org/3/library/collections.html.<br>\n",
    "Some useful data types are provided by external libraries, such as `pandas` (Python for data analysis: https://pandas.pydata.org/)\n",
    "\n",
    "In general, the object oriented features in Python can be used to declare your own and special types/classes.\n",
    "\n",
    "\n",
    "___\n",
    "## Lists\n",
    "\n",
    "In Python a list is a collection of elements that are ordered and changeable.\n"
   ]
  },
  {
   "cell_type": "code",
   "execution_count": 0,
   "metadata": {
    "colab": {},
    "colab_type": "code",
    "id": "BTfP87W9DKsy"
   },
   "outputs": [],
   "source": [
    "integer_list = [10,20,0,5]\n",
    "mixed_list = [\"hello\",1,5.0,[2,3]]\n"
   ]
  },
  {
   "cell_type": "markdown",
   "metadata": {
    "colab_type": "text",
    "id": "3pt4eT4XDcv_"
   },
   "source": [
    "List elements can themselves be a list and can contain different types.<br>\n",
    "Accessing elements in the list is done via their indices (position in the list):"
   ]
  },
  {
   "cell_type": "code",
   "execution_count": 0,
   "metadata": {
    "colab": {
     "base_uri": "https://localhost:8080/",
     "height": 68
    },
    "colab_type": "code",
    "executionInfo": {
     "elapsed": 978,
     "status": "ok",
     "timestamp": 1576145793753,
     "user": {
      "displayName": "Christoph Loschen",
      "photoUrl": "",
      "userId": "06846131955017515958"
     },
     "user_tz": -60
    },
    "id": "iZhXoJ7fDhGH",
    "outputId": "eaeca9f0-9584-44ae-f111-d41f27c0264d"
   },
   "outputs": [
    {
     "name": "stdout",
     "output_type": "stream",
     "text": [
      "0\n",
      "[20, 0]\n"
     ]
    },
    {
     "data": {
      "text/plain": [
       "[2, 3]"
      ]
     },
     "execution_count": 44,
     "metadata": {
      "tags": []
     },
     "output_type": "execute_result"
    }
   ],
   "source": [
    "print(integer_list[2])\n",
    "print(integer_list[1:3])\n",
    "mixed_list[-1]"
   ]
  },
  {
   "cell_type": "markdown",
   "metadata": {
    "colab_type": "text",
    "id": "FxcfozF0DqVn"
   },
   "source": [
    "Note, how indexing starts at index 0, which is the first element in the list. <br>\n",
    "The `[1:3]` operation in the example is called slicing and is useful to get subsets of lists or arrays.<br>\n",
    "The last element of an array can be accessed with the index `-1`.<br><br>\n",
    "Manipulating and working with lists:"
   ]
  },
  {
   "cell_type": "code",
   "execution_count": 0,
   "metadata": {
    "colab": {
     "base_uri": "https://localhost:8080/",
     "height": 51
    },
    "colab_type": "code",
    "executionInfo": {
     "elapsed": 972,
     "status": "ok",
     "timestamp": 1576145793754,
     "user": {
      "displayName": "Christoph Loschen",
      "photoUrl": "",
      "userId": "06846131955017515958"
     },
     "user_tz": -60
    },
    "id": "HbrF74d9K1i5",
    "outputId": "951723d1-8a2f-40d9-9c13-53cec6a5329d"
   },
   "outputs": [
    {
     "name": "stdout",
     "output_type": "stream",
     "text": [
      "6\n"
     ]
    },
    {
     "data": {
      "text/plain": [
       "[5, 10, 20, 0, 5, 42]"
      ]
     },
     "execution_count": 45,
     "metadata": {
      "tags": []
     },
     "output_type": "execute_result"
    }
   ],
   "source": [
    "integer_list = [5,10,20,0,5]\n",
    "integer_list.append(42)\n",
    "print(len(integer_list))\n",
    "integer_list\n",
    "\n"
   ]
  },
  {
   "cell_type": "markdown",
   "metadata": {
    "colab_type": "text",
    "id": "70cuqJdeLQ8m"
   },
   "source": [
    "Lists can be sorted:"
   ]
  },
  {
   "cell_type": "code",
   "execution_count": 0,
   "metadata": {
    "colab": {
     "base_uri": "https://localhost:8080/",
     "height": 34
    },
    "colab_type": "code",
    "executionInfo": {
     "elapsed": 966,
     "status": "ok",
     "timestamp": 1576145793755,
     "user": {
      "displayName": "Christoph Loschen",
      "photoUrl": "",
      "userId": "06846131955017515958"
     },
     "user_tz": -60
    },
    "id": "X1hFl7ebLEg-",
    "outputId": "6377ffe4-7496-4945-a255-accfacfb326f"
   },
   "outputs": [
    {
     "data": {
      "text/plain": [
       "[42, 20, 10, 5, 5, 0]"
      ]
     },
     "execution_count": 46,
     "metadata": {
      "tags": []
     },
     "output_type": "execute_result"
    }
   ],
   "source": [
    "integer_list.sort(reverse=True)\n",
    "integer_list"
   ]
  },
  {
   "cell_type": "markdown",
   "metadata": {
    "colab_type": "text",
    "id": "au9B0KCSLY_O"
   },
   "source": [
    "Check if some element is contained within the list or find its index:"
   ]
  },
  {
   "cell_type": "code",
   "execution_count": 0,
   "metadata": {
    "colab": {
     "base_uri": "https://localhost:8080/",
     "height": 51
    },
    "colab_type": "code",
    "executionInfo": {
     "elapsed": 961,
     "status": "ok",
     "timestamp": 1576145793755,
     "user": {
      "displayName": "Christoph Loschen",
      "photoUrl": "",
      "userId": "06846131955017515958"
     },
     "user_tz": -60
    },
    "id": "9d4zwYGoLYTt",
    "outputId": "23e8f154-aefb-472e-ed89-97fc54ca566e"
   },
   "outputs": [
    {
     "name": "stdout",
     "output_type": "stream",
     "text": [
      "True\n",
      "2\n"
     ]
    }
   ],
   "source": [
    "print(10 in integer_list)\n",
    "print(integer_list.index(10))"
   ]
  },
  {
   "cell_type": "markdown",
   "metadata": {
    "colab_type": "text",
    "id": "3b9_w852Llmt"
   },
   "source": [
    "List can be turned into sets (only unique elements):\n",
    "\n",
    "> Indented block\n",
    "\n"
   ]
  },
  {
   "cell_type": "code",
   "execution_count": 0,
   "metadata": {
    "colab": {
     "base_uri": "https://localhost:8080/",
     "height": 34
    },
    "colab_type": "code",
    "executionInfo": {
     "elapsed": 956,
     "status": "ok",
     "timestamp": 1576145793755,
     "user": {
      "displayName": "Christoph Loschen",
      "photoUrl": "",
      "userId": "06846131955017515958"
     },
     "user_tz": -60
    },
    "id": "YwTwMgdSLoYk",
    "outputId": "00b38e49-3ee9-4e86-ac06-f11f792e54c4"
   },
   "outputs": [
    {
     "data": {
      "text/plain": [
       "{0, 5, 10, 20, 42}"
      ]
     },
     "execution_count": 48,
     "metadata": {
      "tags": []
     },
     "output_type": "execute_result"
    }
   ],
   "source": [
    "set(integer_list)"
   ]
  },
  {
   "cell_type": "markdown",
   "metadata": {
    "colab_type": "text",
    "id": "fzrVtXdPMBVE"
   },
   "source": [
    "## Dictionaries\n",
    "\n",
    "Dictionaries are very handy data types and consists of key-value pairs. They may also be called maps or associatve arrays."
   ]
  },
  {
   "cell_type": "code",
   "execution_count": 0,
   "metadata": {
    "colab": {
     "base_uri": "https://localhost:8080/",
     "height": 34
    },
    "colab_type": "code",
    "executionInfo": {
     "elapsed": 952,
     "status": "ok",
     "timestamp": 1576145793756,
     "user": {
      "displayName": "Christoph Loschen",
      "photoUrl": "",
      "userId": "06846131955017515958"
     },
     "user_tz": -60
    },
    "id": "z9qhRgL8Mlia",
    "outputId": "d9dcae20-1d54-4fed-bcd7-f61a7fc50164"
   },
   "outputs": [
    {
     "data": {
      "text/plain": [
       "{'black': 'schwarz', 'blue': 'blau', 'cyan': None, 'red': 'rot'}"
      ]
     },
     "execution_count": 49,
     "metadata": {
      "tags": []
     },
     "output_type": "execute_result"
    }
   ],
   "source": [
    "en_de = {'red':'rot', 'blue':'blau'}\n",
    "en_de['black'] = 'schwarz'\n",
    "en_de['cyan'] = None\n",
    "en_de"
   ]
  },
  {
   "cell_type": "markdown",
   "metadata": {
    "colab_type": "text",
    "id": "r3XnkRO0Q19e"
   },
   "source": [
    "Dictionaries are a collection of key, e.g. 'red' and value, e.g. 'rot' pairs, where both can of course be of different types.<br> It is important to note that they maintain no specific order. For an ordered dictionary use a special type `OrderedDict` (https://docs.python.org/3/library/collections.html#collections.OrderedDict).<br><br>\n",
    "There are several ways of accessing dictionaries:\n"
   ]
  },
  {
   "cell_type": "code",
   "execution_count": 0,
   "metadata": {
    "colab": {
     "base_uri": "https://localhost:8080/",
     "height": 34
    },
    "colab_type": "code",
    "executionInfo": {
     "elapsed": 947,
     "status": "ok",
     "timestamp": 1576145793756,
     "user": {
      "displayName": "Christoph Loschen",
      "photoUrl": "",
      "userId": "06846131955017515958"
     },
     "user_tz": -60
    },
    "id": "2vhfwZv6SAnJ",
    "outputId": "826daba3-7ae3-4d04-cd86-667aa3b4f31f"
   },
   "outputs": [
    {
     "data": {
      "text/plain": [
       "'rot'"
      ]
     },
     "execution_count": 50,
     "metadata": {
      "tags": []
     },
     "output_type": "execute_result"
    }
   ],
   "source": [
    "en_de['red']\n"
   ]
  },
  {
   "cell_type": "markdown",
   "metadata": {
    "colab_type": "text",
    "id": "2yP-dtVXSHAo"
   },
   "source": [
    "One can easily iterated over an dictionary:"
   ]
  },
  {
   "cell_type": "code",
   "execution_count": 0,
   "metadata": {
    "colab": {
     "base_uri": "https://localhost:8080/",
     "height": 85
    },
    "colab_type": "code",
    "executionInfo": {
     "elapsed": 943,
     "status": "ok",
     "timestamp": 1576145793757,
     "user": {
      "displayName": "Christoph Loschen",
      "photoUrl": "",
      "userId": "06846131955017515958"
     },
     "user_tz": -60
    },
    "id": "Q2YEcP-9SKkR",
    "outputId": "5b91ec05-ce87-45a0-8aa5-6936aef33375"
   },
   "outputs": [
    {
     "name": "stdout",
     "output_type": "stream",
     "text": [
      "red rot\n",
      "blue blau\n",
      "black schwarz\n",
      "cyan None\n"
     ]
    }
   ],
   "source": [
    "for key in en_de:\n",
    "    print(key, en_de[key])"
   ]
  },
  {
   "cell_type": "markdown",
   "metadata": {
    "colab_type": "text",
    "id": "I00zPwoDSQYc"
   },
   "source": [
    "And they are used a lot in Python, e.g. the current environmental variables are saved in dictionary (`os.environ`):"
   ]
  },
  {
   "cell_type": "code",
   "execution_count": 0,
   "metadata": {
    "colab": {
     "base_uri": "https://localhost:8080/",
     "height": 34
    },
    "colab_type": "code",
    "executionInfo": {
     "elapsed": 939,
     "status": "ok",
     "timestamp": 1576145793758,
     "user": {
      "displayName": "Christoph Loschen",
      "photoUrl": "",
      "userId": "06846131955017515958"
     },
     "user_tz": -60
    },
    "id": "1FPlx2LSSing",
    "outputId": "d50ec6ab-ab23-4bf7-cd9a-7898ae65fca0"
   },
   "outputs": [
    {
     "data": {
      "text/plain": [
       "'/usr/local/nvidia/bin:/usr/local/cuda/bin:/usr/local/sbin:/usr/local/bin:/usr/sbin:/usr/bin:/sbin:/bin:/tools/node/bin:/tools/google-cloud-sdk/bin:/opt/bin'"
      ]
     },
     "execution_count": 52,
     "metadata": {
      "tags": []
     },
     "output_type": "execute_result"
    }
   ],
   "source": [
    "import os\n",
    "os.environ['PATH']"
   ]
  },
  {
   "cell_type": "markdown",
   "metadata": {
    "colab_type": "text",
    "id": "9MBJ91q1UD7a"
   },
   "source": [
    "## Python functions\n",
    "\n",
    "Python functions are declared with the `def` keyword followed by a function name and a parameter list. Within the parameter list default parameters can be specified:"
   ]
  },
  {
   "cell_type": "code",
   "execution_count": 0,
   "metadata": {
    "colab": {
     "base_uri": "https://localhost:8080/",
     "height": 51
    },
    "colab_type": "code",
    "executionInfo": {
     "elapsed": 935,
     "status": "ok",
     "timestamp": 1576145793758,
     "user": {
      "displayName": "Christoph Loschen",
      "photoUrl": "",
      "userId": "06846131955017515958"
     },
     "user_tz": -60
    },
    "id": "0Qn5EDjPUKnA",
    "outputId": "542b741f-121f-4f11-b10a-f9cd97598dbc"
   },
   "outputs": [
    {
     "name": "stdout",
     "output_type": "stream",
     "text": [
      "There is no paracetamol left.\n",
      "There is no aspirin left.\n"
     ]
    }
   ],
   "source": [
    "def test_function(name='paracetamol'):\n",
    "    print('There is no '+name+' left.')\n",
    "\n",
    "test_function()\n",
    "test_function('aspirin')"
   ]
  },
  {
   "cell_type": "markdown",
   "metadata": {
    "colab_type": "text",
    "id": "BWHctiBuMQGa"
   },
   "source": [
    "Return results of function with the `return` statement, in this case we generate a string with the function and print it later, i.e. outside the function:"
   ]
  },
  {
   "cell_type": "code",
   "execution_count": 0,
   "metadata": {
    "colab": {
     "base_uri": "https://localhost:8080/",
     "height": 51
    },
    "colab_type": "code",
    "executionInfo": {
     "elapsed": 931,
     "status": "ok",
     "timestamp": 1576145793759,
     "user": {
      "displayName": "Christoph Loschen",
      "photoUrl": "",
      "userId": "06846131955017515958"
     },
     "user_tz": -60
    },
    "id": "EsCwE7PtMqOH",
    "outputId": "7ee6f071-965e-40fa-d822-1becbc9cedba"
   },
   "outputs": [
    {
     "name": "stdout",
     "output_type": "stream",
     "text": [
      "There is no paracetamol left.\n",
      "There is no aspirin left.\n"
     ]
    }
   ],
   "source": [
    "def test_function(name='paracetamol'):\n",
    "    answer = 'There is no '+name+' left.'\n",
    "    return answer\n",
    "\n",
    "print(test_function())\n",
    "print(test_function('aspirin'))"
   ]
  },
  {
   "cell_type": "markdown",
   "metadata": {
    "colab_type": "text",
    "id": "ykjpukjnNGy_"
   },
   "source": [
    "Its also possible to return several return values as a tuple, e.g.<br>\n",
    "`return answer,status`\n",
    "___\n",
    "## Type conversion & casting\n",
    "\n",
    "Sometimes it is necessary to convert variables from one type to another, e.g. convert a `float` to an `int`, or a an `int` to an `str`. That is where conversion functions come into play. Unlike in other languages types are converted via functions, where the return value is the converted type.\n",
    "\n",
    "| function | converting from | converting to |\n",
    "| --- | --- | --- |\n",
    "| int() | string, floating point | integer |\n",
    "| float() | string, integer | floating point |\n",
    "| str() | integer, float, list, tuple, dictionary  | string |\n",
    "| list() | string, tuple, dictionary | list |\n",
    "| tuple() | string, list | tuple |\n",
    "\n",
    "\n"
   ]
  },
  {
   "cell_type": "code",
   "execution_count": 0,
   "metadata": {
    "colab": {
     "base_uri": "https://localhost:8080/",
     "height": 34
    },
    "colab_type": "code",
    "executionInfo": {
     "elapsed": 926,
     "status": "ok",
     "timestamp": 1576145793759,
     "user": {
      "displayName": "Christoph Loschen",
      "photoUrl": "",
      "userId": "06846131955017515958"
     },
     "user_tz": -60
    },
    "id": "ZkkqJCBjQS_A",
    "outputId": "9c6d1fe2-6421-4b29-bc37-70b5e68cc362"
   },
   "outputs": [
    {
     "data": {
      "text/plain": [
       "3"
      ]
     },
     "execution_count": 55,
     "metadata": {
      "tags": []
     },
     "output_type": "execute_result"
    }
   ],
   "source": [
    "import math # not sure why one wants to do this :-)\n",
    "int(math.pi)"
   ]
  },
  {
   "cell_type": "code",
   "execution_count": 0,
   "metadata": {
    "colab": {
     "base_uri": "https://localhost:8080/",
     "height": 34
    },
    "colab_type": "code",
    "executionInfo": {
     "elapsed": 922,
     "status": "ok",
     "timestamp": 1576145793760,
     "user": {
      "displayName": "Christoph Loschen",
      "photoUrl": "",
      "userId": "06846131955017515958"
     },
     "user_tz": -60
    },
    "id": "TVmvcBHGQmLw",
    "outputId": "d75fc131-5ec5-49c0-ad83-73033a337e9d"
   },
   "outputs": [
    {
     "data": {
      "text/plain": [
       "1.999"
      ]
     },
     "execution_count": 56,
     "metadata": {
      "tags": []
     },
     "output_type": "execute_result"
    }
   ],
   "source": [
    "float('1.999')"
   ]
  },
  {
   "cell_type": "code",
   "execution_count": 0,
   "metadata": {
    "colab": {
     "base_uri": "https://localhost:8080/",
     "height": 34
    },
    "colab_type": "code",
    "executionInfo": {
     "elapsed": 917,
     "status": "ok",
     "timestamp": 1576145793760,
     "user": {
      "displayName": "Christoph Loschen",
      "photoUrl": "",
      "userId": "06846131955017515958"
     },
     "user_tz": -60
    },
    "id": "wYGoiV59Qq6T",
    "outputId": "44660101-edd9-4d00-e64e-369cbf6b83c5"
   },
   "outputs": [
    {
     "data": {
      "text/plain": [
       "['p', 'a', 'r', 'a', 'c', 'e', 't', 'a', 'm', 'o', 'l']"
      ]
     },
     "execution_count": 57,
     "metadata": {
      "tags": []
     },
     "output_type": "execute_result"
    }
   ],
   "source": [
    "list('paracetamol') # create a list of characters!"
   ]
  },
  {
   "cell_type": "code",
   "execution_count": 0,
   "metadata": {
    "colab": {
     "base_uri": "https://localhost:8080/",
     "height": 34
    },
    "colab_type": "code",
    "executionInfo": {
     "elapsed": 912,
     "status": "ok",
     "timestamp": 1576145793761,
     "user": {
      "displayName": "Christoph Loschen",
      "photoUrl": "",
      "userId": "06846131955017515958"
     },
     "user_tz": -60
    },
    "id": "tUN5uL2zQ07v",
    "outputId": "acb10d0a-e32c-4a50-fda7-4d4782ab8bed"
   },
   "outputs": [
    {
     "data": {
      "text/plain": [
       "[1, 2, 3, 6, 8]"
      ]
     },
     "execution_count": 58,
     "metadata": {
      "tags": []
     },
     "output_type": "execute_result"
    }
   ],
   "source": [
    "list((1,2,3,6,8)) # creates a list from a tuple"
   ]
  },
  {
   "cell_type": "code",
   "execution_count": 0,
   "metadata": {
    "colab": {
     "base_uri": "https://localhost:8080/",
     "height": 34
    },
    "colab_type": "code",
    "executionInfo": {
     "elapsed": 907,
     "status": "ok",
     "timestamp": 1576145793761,
     "user": {
      "displayName": "Christoph Loschen",
      "photoUrl": "",
      "userId": "06846131955017515958"
     },
     "user_tz": -60
    },
    "id": "IcKN0-xIQZxY",
    "outputId": "222a1794-8328-42f2-d925-9205b1127317"
   },
   "outputs": [
    {
     "data": {
      "text/plain": [
       "'the answer is 42'"
      ]
     },
     "execution_count": 59,
     "metadata": {
      "tags": []
     },
     "output_type": "execute_result"
    }
   ],
   "source": [
    "'the answer is '+str(42) # before concatentation integer or float should be converted to string"
   ]
  },
  {
   "cell_type": "markdown",
   "metadata": {
    "colab_type": "text",
    "id": "ws8FTkslQLdL"
   },
   "source": [
    "Implicit (automatic) conversion takes place in Python to avoid data loss or loss in accuracy:"
   ]
  },
  {
   "cell_type": "code",
   "execution_count": 0,
   "metadata": {
    "colab": {
     "base_uri": "https://localhost:8080/",
     "height": 85
    },
    "colab_type": "code",
    "executionInfo": {
     "elapsed": 900,
     "status": "ok",
     "timestamp": 1576145793762,
     "user": {
      "displayName": "Christoph Loschen",
      "photoUrl": "",
      "userId": "06846131955017515958"
     },
     "user_tz": -60
    },
    "id": "CpPQyGnoSB1F",
    "outputId": "9f4d3038-3223-4b73-f63f-23f14ae5cbbe"
   },
   "outputs": [
    {
     "name": "stdout",
     "output_type": "stream",
     "text": [
      "<class 'int'>\n",
      "<class 'float'>\n",
      "<class 'float'>\n"
     ]
    },
    {
     "data": {
      "text/plain": [
       "2.25"
      ]
     },
     "execution_count": 60,
     "metadata": {
      "tags": []
     },
     "output_type": "execute_result"
    }
   ],
   "source": [
    "a = 2\n",
    "print(type(a))\n",
    "b = 4.5\n",
    "print(type(b))\n",
    "c = b / a\n",
    "print(type(c)) \n",
    "c"
   ]
  },
  {
   "cell_type": "markdown",
   "metadata": {
    "colab_type": "text",
    "id": "EklKMdXTTJox"
   },
   "source": [
    "Note, that in this example the implicit conversion avoid data loss by conversion of integer `a` to a floating point number.\n",
    "___\n",
    "## Object oriented progamming\n",
    "\n",
    "Object oriented programming is a huge field of its own, and we will not go into details here. Objects are kind of complex variables that themselves can contain different variables and functions. There a implemented in the code via so-called classes. In a way a class defines the behaviour of objects and specific objects are created during runtime. Classes relate to objects as types (e.g. `int`) to a specific variable (e.g. `a`). As such, in Python there is no real difference between a class and a type: Each variable is an object of a certain type/class.<br>\n",
    "New classes in Python are defined the following way:\n"
   ]
  },
  {
   "cell_type": "code",
   "execution_count": 0,
   "metadata": {
    "colab": {},
    "colab_type": "code",
    "id": "cDd3exDTVuDD"
   },
   "outputs": [],
   "source": [
    "class Greeting:     \n",
    "        def __init__(self, name):\n",
    "            self.name = name\n",
    "            \n",
    "        def say_hello(self):\n",
    "            print('Hi '+self.name)"
   ]
  },
  {
   "cell_type": "markdown",
   "metadata": {
    "colab_type": "text",
    "id": "8zXMpfkhWAiP"
   },
   "source": [
    "This code has created the `class` Greeting with its function `say_hello`. `__init__` defines the so called constructor, which is called when the object is created. Object variable are saved using `self` keyword.<br>\n",
    "Objects can be created and its function be called:\n"
   ]
  },
  {
   "cell_type": "code",
   "execution_count": 0,
   "metadata": {
    "colab": {
     "base_uri": "https://localhost:8080/",
     "height": 34
    },
    "colab_type": "code",
    "executionInfo": {
     "elapsed": 1088,
     "status": "ok",
     "timestamp": 1576145793959,
     "user": {
      "displayName": "Christoph Loschen",
      "photoUrl": "",
      "userId": "06846131955017515958"
     },
     "user_tz": -60
    },
    "id": "oDoU7Or8WrK2",
    "outputId": "47c7f7b5-0353-4584-b3d2-f272d256a71f"
   },
   "outputs": [
    {
     "name": "stdout",
     "output_type": "stream",
     "text": [
      "Hi Greta\n"
     ]
    }
   ],
   "source": [
    "x1 = Greeting('Greta')\n",
    "x1.say_hello()"
   ]
  },
  {
   "cell_type": "markdown",
   "metadata": {
    "colab_type": "text",
    "id": "Dfc6-upPXEXo"
   },
   "source": [
    "Object variables can be accessed directly:"
   ]
  },
  {
   "cell_type": "code",
   "execution_count": 0,
   "metadata": {
    "colab": {
     "base_uri": "https://localhost:8080/",
     "height": 34
    },
    "colab_type": "code",
    "executionInfo": {
     "elapsed": 1083,
     "status": "ok",
     "timestamp": 1576145793960,
     "user": {
      "displayName": "Christoph Loschen",
      "photoUrl": "",
      "userId": "06846131955017515958"
     },
     "user_tz": -60
    },
    "id": "NZEB0f2EXB8f",
    "outputId": "64fd222c-6d6e-4944-8623-f20247dc1174"
   },
   "outputs": [
    {
     "data": {
      "text/plain": [
       "'Greta'"
      ]
     },
     "execution_count": 63,
     "metadata": {
      "tags": []
     },
     "output_type": "execute_result"
    }
   ],
   "source": [
    "x1.name"
   ]
  },
  {
   "cell_type": "markdown",
   "metadata": {
    "colab_type": "text",
    "id": "Cil9qC-TXOcF"
   },
   "source": [
    "## Import statements in Python\n",
    "\n",
    "Python comes with a lot of useful libraries. Some are contained in a default installation, some have to be installed with tools like `pip` or `conda`. The most conveniant way to install new packages/libraries in particular for scientific purposes is to use an installation like Anaconda (https://www.anaconda.com/).\n",
    "\n",
    "Once a library is available it can be imported with an `import` statement. Import the whole library:\n",
    "\n"
   ]
  },
  {
   "cell_type": "code",
   "execution_count": 0,
   "metadata": {
    "colab": {
     "base_uri": "https://localhost:8080/",
     "height": 34
    },
    "colab_type": "code",
    "executionInfo": {
     "elapsed": 1078,
     "status": "ok",
     "timestamp": 1576145793961,
     "user": {
      "displayName": "Christoph Loschen",
      "photoUrl": "",
      "userId": "06846131955017515958"
     },
     "user_tz": -60
    },
    "id": "YxrzEC23YWtA",
    "outputId": "89d46e7c-20e5-4ffa-a7de-c0b900240ac2"
   },
   "outputs": [
    {
     "name": "stdout",
     "output_type": "stream",
     "text": [
      "-1.0\n"
     ]
    }
   ],
   "source": [
    "import math\n",
    "print(math.cos(math.pi))"
   ]
  },
  {
   "cell_type": "markdown",
   "metadata": {
    "colab_type": "text",
    "id": "09dBGtkaYc3M"
   },
   "source": [
    "Import a module or function from a library:\n",
    "\n"
   ]
  },
  {
   "cell_type": "code",
   "execution_count": 0,
   "metadata": {
    "colab": {
     "base_uri": "https://localhost:8080/",
     "height": 34
    },
    "colab_type": "code",
    "executionInfo": {
     "elapsed": 1072,
     "status": "ok",
     "timestamp": 1576145793961,
     "user": {
      "displayName": "Christoph Loschen",
      "photoUrl": "",
      "userId": "06846131955017515958"
     },
     "user_tz": -60
    },
    "id": "MXR28IudYogH",
    "outputId": "07799bc2-b109-4e9e-df02-88dd93451254"
   },
   "outputs": [
    {
     "name": "stdout",
     "output_type": "stream",
     "text": [
      "-1.0\n"
     ]
    }
   ],
   "source": [
    "from math import cos, pi\n",
    "print(cos(pi))"
   ]
  },
  {
   "cell_type": "markdown",
   "metadata": {
    "colab_type": "text",
    "id": "yCTL6o0yYuc2"
   },
   "source": [
    "Import and use an acronym for use:"
   ]
  },
  {
   "cell_type": "code",
   "execution_count": 0,
   "metadata": {
    "colab": {},
    "colab_type": "code",
    "id": "kw056Vq8Y1kp"
   },
   "outputs": [],
   "source": [
    "import numpy as np\n",
    "array = np.asarray([1.0,2.0,1.0])"
   ]
  },
  {
   "cell_type": "markdown",
   "metadata": {
    "colab_type": "text",
    "id": "IH2fWU0pZkgh"
   },
   "source": [
    "___\n",
    "<a id='libraries'></a>\n",
    "## Python Libraries\n",
    "\n",
    "There a lot of useful Python libraries available. Some of those have been established a kind of standard for scientific applications:\n",
    "\n",
    "*   NumPy: Array & matrices & linear algebra (https://numpy.org/)\n",
    "*   SciPy: Numerical routines for integration, optimization, statistics etc. (https://www.scipy.org/scipylib/index.html)\n",
    "*   matplotlib: a Python 2D plotting library which produces publication quality figures( https://matplotlib.org/)\n",
    "*   scitkit-learn: machine learning in Python (https://scikit-learn.org/stable/)\n",
    "*   Pandas: data structures (\"dataframes\") and data analysis tool (https://pandas.pydata.org/)\n",
    "\n",
    "For chemistry related applications:\n",
    "\n",
    "*   RDKit: open-source cheminformatics (https://www.rdkit.org/)\n",
    "*   ASE: setting up, manipulating, running, visualizing and analyzing atomistic simulations (https://wiki.fysik.dtu.dk/ase/)\n",
    "*   PySCF: collection of electronic structure programs (https://sunqm.github.io/pyscf/)\n",
    "\n"
   ]
  },
  {
   "cell_type": "markdown",
   "metadata": {
    "colab_type": "text",
    "id": "nwtZ4HZfcSTQ"
   },
   "source": [
    "___\n",
    "## Editors and development environments\n",
    "\n",
    "If Python code is not written interactively within the browser, as for example for larger projects, there are different editors and environments available to write Python code:\n",
    "\n",
    "* vi(m): text editor contained in most linux distributions\n",
    "* Kate (Linux): handy text editor, highlighting for many different languages\n",
    "* NotePad++ (Windows):  https://notepad-plus-plus.org/\n",
    "* Spyder:  Integrated development environment (IDE), shipped with anaconda (https://www.spyder-ide.org/)\n",
    "* PyCharm:  Powerful IDE, particular for python (http://www.jetbrains.com/pycharm)\n",
    "* PyDev: Plugin for Eclipse IDE, i.e. auch für Java & C/C++ (https://www.pydev.org/download.html)\n",
    "\n",
    "___\n"
   ]
  },
  {
   "cell_type": "markdown",
   "metadata": {
    "colab_type": "text",
    "id": "dwrBShEcg-5x"
   },
   "source": [
    "## Python - Advanced topics & concepts\n",
    "\n",
    "A lot of interesting and useful stuff has been left out in this short introduction due to the sake of brevity. There is a lot more to Python, here a just a few keywords to look up:\n",
    "\n",
    "*   Exceptions\n",
    "*   List comprehensions\n",
    "*   Lambda expressions\n",
    "*   Logging\n",
    "*   Multiprocessing & multithreading\n",
    "*   JIT compiler (http://numba.pydata.org/)\n",
    "\n",
    "Python tutorials:\n",
    "*  Google Python introduction (https://developers.google.com/edu/python/)\n",
    "* Scientific Python introduction (https://scipy-lectures.org/intro/)\n",
    "\n"
   ]
  }
 ],
 "metadata": {
  "colab": {
   "collapsed_sections": [
    "P5evSBMOJvfI",
    "FN99_IjJ_YNY",
    "fzrVtXdPMBVE",
    "9MBJ91q1UD7a",
    "ykjpukjnNGy_",
    "EklKMdXTTJox",
    "Cil9qC-TXOcF",
    "IH2fWU0pZkgh",
    "nwtZ4HZfcSTQ",
    "dwrBShEcg-5x"
   ],
   "name": "python_introduction.ipynb",
   "provenance": []
  },
  "kernelspec": {
   "display_name": "Python 3",
   "language": "python",
   "name": "python3"
  },
  "language_info": {
   "codemirror_mode": {
    "name": "ipython",
    "version": 3
   },
   "file_extension": ".py",
   "mimetype": "text/x-python",
   "name": "python",
   "nbconvert_exporter": "python",
   "pygments_lexer": "ipython3",
   "version": "3.7.7"
  }
 },
 "nbformat": 4,
 "nbformat_minor": 1
}
