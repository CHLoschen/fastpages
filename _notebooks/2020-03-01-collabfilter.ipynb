{
 "cells": [
  {
   "cell_type": "markdown",
   "metadata": {},
   "source": [
    "# Using a Recommender System for ill-defined Chemical Systems\n",
    "\n",
    "> This notebook shows how to build a simple collaborative filtering model for prediction of polymer solubility using the fastai library.\n",
    "- toc: True\n",
    "- metadata_key1: collaborative filtering\n",
    "- metadata_key2: solubility\n",
    "- metadata_key3: machine learning"
   ]
  },
  {
   "cell_type": "markdown",
   "metadata": {
    "colab_type": "text",
    "id": "5HQMuk9Kl2NZ"
   },
   "source": [
    "Polymer systems are usually not well defined, in the sense that only the basic chemistry is known and specified, but neither the processing conditions nor the exact structure or end group chemistry is given. They are intrisically mixtures represented by a molecular weight distribution. This fact hampers any thorough description by molecular descriptors in order to develop predictive models. \n",
    "\n",
    "The following notebook develops a predictive model for polymer solubilities in different solvents using a recommender system, without the need to use any pre-computed descriptors.\n",
    "\n",
    "Recommender systems are well-known for describing user-item relationships such as movie recommendations. Usually a matrix of user ratings given by various users on different movies (items) is used to predict ratings for unseen movies. \n",
    "\n",
    "|          | Movie1| Movie2 | Movie3 |$\\ldots$ |MovieM|\n",
    "| ------------- |:-------------:| -----:| -----:|-----:|---:|\n",
    "| user1         | 5 | 3 |  || 4 |\n",
    "| user2         | 1 | 3 | 3 ||  |\n",
    "| user3         | 2 | 3 |  || 4 |\n",
    "| $\\vdots$      |   |   |  ||   | \n",
    "| userN         | 5 | 2 | 3 || 2 |\n",
    "\n",
    "In this notebook we apply the same kind of model for prediction of polymer solubilities in typical solvents. In a way we treat the solvents as users and the polymers as movies, though this choice could have been interchanged.\n",
    "\n",
    "\n",
    "|          | Polymer1| Polymer2 | Polymer3 |$\\ldots$ |PolymerM|\n",
    "| ------------- |:-------------:| -----:| -----:|-----:|---:|\n",
    "| Solvent1         | 5 | 3 |  || 4 |\n",
    "| Solvent2         | 1 | 3 | 3 ||  |\n",
    "| Solvent3         | 2 | 3 |  || 4 |\n",
    "| $\\vdots$      |   |   |  ||   | \n",
    "| SolventN         | 5 | 2 | 3 || 2 |\n",
    "\n",
    "\n",
    "The basic idea is to use so-called embeddings for both solvent and polymers that are automatically learned by predicting solubilities by gradient-descent on a suitable loss function (such as root mean squared error) and subsequent backpropagation. Those embeddings map each polymer and solvent in a characteristic position in a n-dimensional vector space, which  corresponds to some kind of self-learnd feature space.\n",
    "\n",
    "## Matrix factorization\n",
    "\n",
    "$\\textbf{R} = \\textbf{U} \\times \\textbf{I}$\n",
    "\n",
    "This is basically done by learning the [matrix factorisation](https://en.wikipedia.org/wiki/Matrix_factorization_(recommender_systems)) of the Solvent ($\\textbf{U}$) and Polymer ($\\textbf{I}$) embeddings from the experimental data / solubility rating ($\\textbf{R}$) via the deep learning frameworks pytorch & fastai.\n",
    "\n",
    "## Correlation with Chemical Descriptors\n",
    "\n",
    "Finally we are [comparing the learned embeddings / features](#Correlation-of-Learned-Embeddings-with-RDKit-descriptors) with typical chemical descriptors computed with the RDKit library.\n",
    "\n"
   ]
  },
  {
   "cell_type": "markdown",
   "metadata": {
    "colab_type": "text",
    "id": "FWHLXdual2Nc"
   },
   "source": [
    "Loading python libraries for the notebook. We are using the [fastai](https://docs.fast.ai/) library and [pytorch](https://pytorch.org/)."
   ]
  },
  {
   "cell_type": "code",
   "execution_count": 26,
   "metadata": {
    "colab": {},
    "colab_type": "code",
    "id": "iNkUy3Zrl2Nd"
   },
   "outputs": [],
   "source": [
    "import os\n",
    "\n",
    "from fastai.collab import *\n",
    "from fastai.tabular import *\n",
    "from torch.nn import L1Loss,MSELoss\n",
    "\n",
    "import pandas as pd\n",
    "import seaborn as sns\n",
    "\n",
    "os.environ['CUDA_LAUNCH_BLOCKING'] = \"1\""
   ]
  },
  {
   "cell_type": "markdown",
   "metadata": {
    "colab_type": "text",
    "id": "d-ubhNTOl2Ng"
   },
   "source": [
    "Loading solubilities of 33 industrial grade polymers in 88 typical solvents extraced from the Doctoral Thesis of Charles Hansen \"The Three Dimensional Solubility Parameter\", Danish Technical Press, 1967.\n",
    "The rating is from 1: fullly soluble to 6: insoluble in the respective solvent."
   ]
  },
  {
   "cell_type": "code",
   "execution_count": 2,
   "metadata": {
    "colab": {
     "base_uri": "https://localhost:8080/",
     "height": 235
    },
    "colab_type": "code",
    "executionInfo": {
     "elapsed": 2709,
     "status": "ok",
     "timestamp": 1583075803505,
     "user": {
      "displayName": "Christoph Loschen",
      "photoUrl": "",
      "userId": "06846131955017515958"
     },
     "user_tz": -60
    },
    "id": "4eyPwNLQl2Nh",
    "outputId": "f8427c6c-0a3b-4e7b-c282-549edec1f442"
   },
   "outputs": [
    {
     "data": {
      "text/html": [
       "<div>\n",
       "<style scoped>\n",
       "    .dataframe tbody tr th:only-of-type {\n",
       "        vertical-align: middle;\n",
       "    }\n",
       "\n",
       "    .dataframe tbody tr th {\n",
       "        vertical-align: top;\n",
       "    }\n",
       "\n",
       "    .dataframe thead th {\n",
       "        text-align: right;\n",
       "    }\n",
       "</style>\n",
       "<table border=\"1\" class=\"dataframe\">\n",
       "  <thead>\n",
       "    <tr style=\"text-align: right;\">\n",
       "      <th></th>\n",
       "      <th>orig_nr</th>\n",
       "      <th>Solvent</th>\n",
       "      <th>A</th>\n",
       "      <th>B</th>\n",
       "      <th>C</th>\n",
       "      <th>D</th>\n",
       "      <th>E</th>\n",
       "      <th>F</th>\n",
       "      <th>G</th>\n",
       "      <th>H</th>\n",
       "      <th>...</th>\n",
       "      <th>Y</th>\n",
       "      <th>Z</th>\n",
       "      <th>AA</th>\n",
       "      <th>AB</th>\n",
       "      <th>AC</th>\n",
       "      <th>AD</th>\n",
       "      <th>AE</th>\n",
       "      <th>AF</th>\n",
       "      <th>AG</th>\n",
       "      <th>AH</th>\n",
       "    </tr>\n",
       "    <tr>\n",
       "      <th>nr</th>\n",
       "      <th></th>\n",
       "      <th></th>\n",
       "      <th></th>\n",
       "      <th></th>\n",
       "      <th></th>\n",
       "      <th></th>\n",
       "      <th></th>\n",
       "      <th></th>\n",
       "      <th></th>\n",
       "      <th></th>\n",
       "      <th></th>\n",
       "      <th></th>\n",
       "      <th></th>\n",
       "      <th></th>\n",
       "      <th></th>\n",
       "      <th></th>\n",
       "      <th></th>\n",
       "      <th></th>\n",
       "      <th></th>\n",
       "      <th></th>\n",
       "      <th></th>\n",
       "    </tr>\n",
       "  </thead>\n",
       "  <tbody>\n",
       "    <tr>\n",
       "      <th>1</th>\n",
       "      <td>1</td>\n",
       "      <td>Methanol</td>\n",
       "      <td>5</td>\n",
       "      <td>6.0</td>\n",
       "      <td>4</td>\n",
       "      <td>5</td>\n",
       "      <td>4</td>\n",
       "      <td>5</td>\n",
       "      <td>6</td>\n",
       "      <td>1</td>\n",
       "      <td>...</td>\n",
       "      <td>6</td>\n",
       "      <td>5</td>\n",
       "      <td>6</td>\n",
       "      <td>1</td>\n",
       "      <td>6</td>\n",
       "      <td>5</td>\n",
       "      <td>6</td>\n",
       "      <td>6</td>\n",
       "      <td>6</td>\n",
       "      <td>5.0</td>\n",
       "    </tr>\n",
       "    <tr>\n",
       "      <th>2</th>\n",
       "      <td>2</td>\n",
       "      <td>Ethanol 96%</td>\n",
       "      <td>4</td>\n",
       "      <td>6.0</td>\n",
       "      <td>4</td>\n",
       "      <td>6</td>\n",
       "      <td>4</td>\n",
       "      <td>1</td>\n",
       "      <td>6</td>\n",
       "      <td>1</td>\n",
       "      <td>...</td>\n",
       "      <td>6</td>\n",
       "      <td>5</td>\n",
       "      <td>5</td>\n",
       "      <td>1</td>\n",
       "      <td>6</td>\n",
       "      <td>5</td>\n",
       "      <td>6</td>\n",
       "      <td>6</td>\n",
       "      <td>6</td>\n",
       "      <td>5.0</td>\n",
       "    </tr>\n",
       "    <tr>\n",
       "      <th>3</th>\n",
       "      <td>3</td>\n",
       "      <td>Ethanol 99%</td>\n",
       "      <td>5</td>\n",
       "      <td>6.0</td>\n",
       "      <td>3</td>\n",
       "      <td>5</td>\n",
       "      <td>1</td>\n",
       "      <td>1</td>\n",
       "      <td>6</td>\n",
       "      <td>4</td>\n",
       "      <td>...</td>\n",
       "      <td>6</td>\n",
       "      <td>6</td>\n",
       "      <td>4</td>\n",
       "      <td>1</td>\n",
       "      <td>6</td>\n",
       "      <td>5</td>\n",
       "      <td>6</td>\n",
       "      <td>6</td>\n",
       "      <td>6</td>\n",
       "      <td>6.0</td>\n",
       "    </tr>\n",
       "    <tr>\n",
       "      <th>4</th>\n",
       "      <td>4</td>\n",
       "      <td>n-Propanol</td>\n",
       "      <td>5</td>\n",
       "      <td>6.0</td>\n",
       "      <td>3</td>\n",
       "      <td>5</td>\n",
       "      <td>1</td>\n",
       "      <td>1</td>\n",
       "      <td>6</td>\n",
       "      <td>4</td>\n",
       "      <td>...</td>\n",
       "      <td>5</td>\n",
       "      <td>1</td>\n",
       "      <td>5</td>\n",
       "      <td>1</td>\n",
       "      <td>6</td>\n",
       "      <td>4</td>\n",
       "      <td>6</td>\n",
       "      <td>6</td>\n",
       "      <td>6</td>\n",
       "      <td>6.0</td>\n",
       "    </tr>\n",
       "    <tr>\n",
       "      <th>5</th>\n",
       "      <td>5</td>\n",
       "      <td>n-Butanol</td>\n",
       "      <td>5</td>\n",
       "      <td>6.0</td>\n",
       "      <td>3</td>\n",
       "      <td>5</td>\n",
       "      <td>1</td>\n",
       "      <td>1</td>\n",
       "      <td>6</td>\n",
       "      <td>5</td>\n",
       "      <td>...</td>\n",
       "      <td>5</td>\n",
       "      <td>1</td>\n",
       "      <td>3</td>\n",
       "      <td>1</td>\n",
       "      <td>6</td>\n",
       "      <td>4</td>\n",
       "      <td>6</td>\n",
       "      <td>6</td>\n",
       "      <td>6</td>\n",
       "      <td>6.0</td>\n",
       "    </tr>\n",
       "  </tbody>\n",
       "</table>\n",
       "<p>5 rows × 35 columns</p>\n",
       "</div>"
      ],
      "text/plain": [
       "   orig_nr      Solvent  A    B  C  D  E  F  G  H  ...  Y  Z  AA  AB  AC  AD  \\\n",
       "nr                                                 ...                         \n",
       "1        1    Methanol   5  6.0  4  5  4  5  6  1  ...  6  5   6   1   6   5   \n",
       "2        2  Ethanol 96%  4  6.0  4  6  4  1  6  1  ...  6  5   5   1   6   5   \n",
       "3        3  Ethanol 99%  5  6.0  3  5  1  1  6  4  ...  6  6   4   1   6   5   \n",
       "4        4  n-Propanol   5  6.0  3  5  1  1  6  4  ...  5  1   5   1   6   4   \n",
       "5        5   n-Butanol   5  6.0  3  5  1  1  6  5  ...  5  1   3   1   6   4   \n",
       "\n",
       "    AE  AF  AG   AH  \n",
       "nr                   \n",
       "1    6   6   6  5.0  \n",
       "2    6   6   6  5.0  \n",
       "3    6   6   6  6.0  \n",
       "4    6   6   6  6.0  \n",
       "5    6   6   6  6.0  \n",
       "\n",
       "[5 rows x 35 columns]"
      ]
     },
     "execution_count": 2,
     "metadata": {},
     "output_type": "execute_result"
    }
   ],
   "source": [
    "url = 'https://github.com/CHLoschen/CHLoschen.github.io/blob/master/data/Hansen_polymer_data_upload.xlsx?raw=true'\n",
    "df = pd.read_excel(url,sheet_name='hansen_thesis_polymers_curated',index_col=0)\n",
    "df.head()"
   ]
  },
  {
   "cell_type": "code",
   "execution_count": 3,
   "metadata": {
    "colab": {
     "base_uri": "https://localhost:8080/",
     "height": 214
    },
    "colab_type": "code",
    "executionInfo": {
     "elapsed": 539,
     "status": "error",
     "timestamp": 1583091455922,
     "user": {
      "displayName": "Christoph Loschen",
      "photoUrl": "",
      "userId": "06846131955017515958"
     },
     "user_tz": -60
    },
    "id": "etHMP4JCl2Nl",
    "outputId": "5672c1c9-6c7a-4999-be22-c4eea71df686"
   },
   "outputs": [],
   "source": [
    "value_columns = list(df.columns)\n",
    "value_columns.remove('Solvent')\n",
    "value_columns.remove('orig_nr')\n",
    "df[value_columns] = df[value_columns].astype(np.float32)"
   ]
  },
  {
   "cell_type": "markdown",
   "metadata": {
    "colab_type": "text",
    "id": "tnDcGH-Ql2No"
   },
   "source": [
    "Converting dataframe from a long format to a wide format, which is necessary as an input for the fastai CollabLearner Class."
   ]
  },
  {
   "cell_type": "code",
   "execution_count": 4,
   "metadata": {
    "colab": {
     "base_uri": "https://localhost:8080/",
     "height": 298
    },
    "colab_type": "code",
    "executionInfo": {
     "elapsed": 843,
     "status": "ok",
     "timestamp": 1583075083120,
     "user": {
      "displayName": "Christoph Loschen",
      "photoUrl": "",
      "userId": "06846131955017515958"
     },
     "user_tz": -60
    },
    "id": "8mfpeLo8l2Np",
    "outputId": "5ab97279-569d-4a55-a192-0476a8859a83"
   },
   "outputs": [
    {
     "data": {
      "text/plain": [
       "array([[<matplotlib.axes._subplots.AxesSubplot object at 0x7f89ca4284e0>]], dtype=object)"
      ]
     },
     "execution_count": 4,
     "metadata": {},
     "output_type": "execute_result"
    },
    {
     "data": {
      "image/png": "[encoded data removed]",
      "text/plain": [
       "<Figure size 432x288 with 1 Axes>"
      ]
     },
     "metadata": {
      "needs_background": "light"
     },
     "output_type": "display_data"
    }
   ],
   "source": [
    "# melting a dataframe from wide to long\n",
    "# 1_soluble 6: mno visible effect\n",
    "df_long = pd.melt(df, id_vars=['Solvent'], value_vars=value_columns, var_name='polymer',value_name='solubility')\n",
    "df_long.describe()\n",
    "df_long.hist(bins=6)"
   ]
  },
  {
   "cell_type": "code",
   "execution_count": 5,
   "metadata": {
    "colab": {
     "base_uri": "https://localhost:8080/",
     "height": 419
    },
    "colab_type": "code",
    "executionInfo": {
     "elapsed": 826,
     "status": "ok",
     "timestamp": 1583075086208,
     "user": {
      "displayName": "Christoph Loschen",
      "photoUrl": "",
      "userId": "06846131955017515958"
     },
     "user_tz": -60
    },
    "id": "3WgQ3kwwl2Ns",
    "outputId": "e2777b5c-ac42-4062-f524-0e3965a861d2"
   },
   "outputs": [
    {
     "data": {
      "text/html": [
       "<div>\n",
       "<style scoped>\n",
       "    .dataframe tbody tr th:only-of-type {\n",
       "        vertical-align: middle;\n",
       "    }\n",
       "\n",
       "    .dataframe tbody tr th {\n",
       "        vertical-align: top;\n",
       "    }\n",
       "\n",
       "    .dataframe thead th {\n",
       "        text-align: right;\n",
       "    }\n",
       "</style>\n",
       "<table border=\"1\" class=\"dataframe\">\n",
       "  <thead>\n",
       "    <tr style=\"text-align: right;\">\n",
       "      <th></th>\n",
       "      <th>Solvent</th>\n",
       "      <th>polymer</th>\n",
       "      <th>solubility</th>\n",
       "    </tr>\n",
       "  </thead>\n",
       "  <tbody>\n",
       "    <tr>\n",
       "      <th>0</th>\n",
       "      <td>Methanol</td>\n",
       "      <td>A</td>\n",
       "      <td>5.0</td>\n",
       "    </tr>\n",
       "    <tr>\n",
       "      <th>1</th>\n",
       "      <td>Ethanol 96%</td>\n",
       "      <td>A</td>\n",
       "      <td>4.0</td>\n",
       "    </tr>\n",
       "    <tr>\n",
       "      <th>2</th>\n",
       "      <td>Ethanol 99%</td>\n",
       "      <td>A</td>\n",
       "      <td>5.0</td>\n",
       "    </tr>\n",
       "    <tr>\n",
       "      <th>3</th>\n",
       "      <td>n-Propanol</td>\n",
       "      <td>A</td>\n",
       "      <td>5.0</td>\n",
       "    </tr>\n",
       "    <tr>\n",
       "      <th>4</th>\n",
       "      <td>n-Butanol</td>\n",
       "      <td>A</td>\n",
       "      <td>5.0</td>\n",
       "    </tr>\n",
       "    <tr>\n",
       "      <th>...</th>\n",
       "      <td>...</td>\n",
       "      <td>...</td>\n",
       "      <td>...</td>\n",
       "    </tr>\n",
       "    <tr>\n",
       "      <th>2899</th>\n",
       "      <td>Acetic acid</td>\n",
       "      <td>AH</td>\n",
       "      <td>4.0</td>\n",
       "    </tr>\n",
       "    <tr>\n",
       "      <th>2900</th>\n",
       "      <td>Formic acid 90%</td>\n",
       "      <td>AH</td>\n",
       "      <td>1.0</td>\n",
       "    </tr>\n",
       "    <tr>\n",
       "      <th>2901</th>\n",
       "      <td>Butyric acid</td>\n",
       "      <td>AH</td>\n",
       "      <td>6.0</td>\n",
       "    </tr>\n",
       "    <tr>\n",
       "      <th>2902</th>\n",
       "      <td>Benzaldehyde</td>\n",
       "      <td>AH</td>\n",
       "      <td>3.0</td>\n",
       "    </tr>\n",
       "    <tr>\n",
       "      <th>2903</th>\n",
       "      <td>Acetic anhydride</td>\n",
       "      <td>AH</td>\n",
       "      <td>5.0</td>\n",
       "    </tr>\n",
       "  </tbody>\n",
       "</table>\n",
       "<p>2904 rows × 3 columns</p>\n",
       "</div>"
      ],
      "text/plain": [
       "                Solvent polymer  solubility\n",
       "0             Methanol        A         5.0\n",
       "1           Ethanol 96%       A         4.0\n",
       "2           Ethanol 99%       A         5.0\n",
       "3           n-Propanol        A         5.0\n",
       "4            n-Butanol        A         5.0\n",
       "...                 ...     ...         ...\n",
       "2899       Acetic acid       AH         4.0\n",
       "2900    Formic acid 90%      AH         1.0\n",
       "2901   Butyric acid          AH         6.0\n",
       "2902      Benzaldehyde       AH         3.0\n",
       "2903  Acetic anhydride       AH         5.0\n",
       "\n",
       "[2904 rows x 3 columns]"
      ]
     },
     "execution_count": 5,
     "metadata": {},
     "output_type": "execute_result"
    }
   ],
   "source": [
    "df_long"
   ]
  },
  {
   "cell_type": "code",
   "execution_count": 6,
   "metadata": {
    "colab": {
     "base_uri": "https://localhost:8080/",
     "height": 153
    },
    "colab_type": "code",
    "executionInfo": {
     "elapsed": 854,
     "status": "ok",
     "timestamp": 1583075089059,
     "user": {
      "displayName": "Christoph Loschen",
      "photoUrl": "",
      "userId": "06846131955017515958"
     },
     "user_tz": -60
    },
    "id": "M0dVwMKGl2Nv",
    "outputId": "2adeffb9-9645-4b26-cf12-d1c90ff3988f"
   },
   "outputs": [
    {
     "name": "stdout",
     "output_type": "stream",
     "text": [
      "<class 'pandas.core.frame.DataFrame'>\n",
      "RangeIndex: 2904 entries, 0 to 2903\n",
      "Data columns (total 3 columns):\n",
      " #   Column      Non-Null Count  Dtype  \n",
      "---  ------      --------------  -----  \n",
      " 0   Solvent     2904 non-null   object \n",
      " 1   polymer     2904 non-null   object \n",
      " 2   solubility  2896 non-null   float32\n",
      "dtypes: float32(1), object(2)\n",
      "memory usage: 56.8+ KB\n"
     ]
    }
   ],
   "source": [
    "#df_long = df_long.loc[~df_long['solubility'].isna()]\n",
    "df_long.info()"
   ]
  },
  {
   "cell_type": "code",
   "execution_count": 7,
   "metadata": {
    "colab": {
     "base_uri": "https://localhost:8080/",
     "height": 204
    },
    "colab_type": "code",
    "executionInfo": {
     "elapsed": 2213,
     "status": "ok",
     "timestamp": 1583075105302,
     "user": {
      "displayName": "Christoph Loschen",
      "photoUrl": "",
      "userId": "06846131955017515958"
     },
     "user_tz": -60
    },
    "id": "UTWREWUml2Ny",
    "outputId": "d616bcf1-d771-4fe7-be1b-c6240448d5f5"
   },
   "outputs": [
    {
     "data": {
      "text/html": [
       "<div>\n",
       "<style scoped>\n",
       "    .dataframe tbody tr th:only-of-type {\n",
       "        vertical-align: middle;\n",
       "    }\n",
       "\n",
       "    .dataframe tbody tr th {\n",
       "        vertical-align: top;\n",
       "    }\n",
       "\n",
       "    .dataframe thead th {\n",
       "        text-align: right;\n",
       "    }\n",
       "</style>\n",
       "<table border=\"1\" class=\"dataframe\">\n",
       "  <thead>\n",
       "    <tr style=\"text-align: right;\">\n",
       "      <th></th>\n",
       "      <th>polymer</th>\n",
       "      <th>all</th>\n",
       "      <th>fullname</th>\n",
       "    </tr>\n",
       "  </thead>\n",
       "  <tbody>\n",
       "    <tr>\n",
       "      <th>0</th>\n",
       "      <td>A</td>\n",
       "      <td>Lucite'\"' 2042-poly (ethyl methacrylate), E. I...</td>\n",
       "      <td>poly (ethyl methacrylate)</td>\n",
       "    </tr>\n",
       "    <tr>\n",
       "      <th>1</th>\n",
       "      <td>B</td>\n",
       "      <td>Poly (methyl methacrylate), Rohm and Haas Co.</td>\n",
       "      <td>Poly (methyl methacrylate)</td>\n",
       "    </tr>\n",
       "    <tr>\n",
       "      <th>2</th>\n",
       "      <td>C</td>\n",
       "      <td>Epikote® lOOI-epoxy, Shell Chemical Co.</td>\n",
       "      <td>Epikote epoxy</td>\n",
       "    </tr>\n",
       "    <tr>\n",
       "      <th>3</th>\n",
       "      <td>D</td>\n",
       "      <td>Plexal P65-66 “4 oil length alkyd, Polyplex.</td>\n",
       "      <td>Plexal alkyd</td>\n",
       "    </tr>\n",
       "    <tr>\n",
       "      <th>4</th>\n",
       "      <td>E</td>\n",
       "      <td>Pentalyn'*' 830-alcohol soluble rosin resin, H...</td>\n",
       "      <td>alcohol soluble resin 830</td>\n",
       "    </tr>\n",
       "  </tbody>\n",
       "</table>\n",
       "</div>"
      ],
      "text/plain": [
       "  polymer                                                all  \\\n",
       "0       A  Lucite'\"' 2042-poly (ethyl methacrylate), E. I...   \n",
       "1       B      Poly (methyl methacrylate), Rohm and Haas Co.   \n",
       "2       C            Epikote® lOOI-epoxy, Shell Chemical Co.   \n",
       "3       D       Plexal P65-66 “4 oil length alkyd, Polyplex.   \n",
       "4       E  Pentalyn'*' 830-alcohol soluble rosin resin, H...   \n",
       "\n",
       "                     fullname  \n",
       "0   poly (ethyl methacrylate)  \n",
       "1  Poly (methyl methacrylate)  \n",
       "2               Epikote epoxy  \n",
       "3                Plexal alkyd  \n",
       "4   alcohol soluble resin 830  "
      ]
     },
     "execution_count": 7,
     "metadata": {},
     "output_type": "execute_result"
    }
   ],
   "source": [
    "df_names = pd.read_excel(url,sheet_name='polymers',header=None)\n",
    "df_names.columns=['polymer','all','fullname']\n",
    "df_names.head()"
   ]
  },
  {
   "cell_type": "code",
   "execution_count": 8,
   "metadata": {
    "colab": {},
    "colab_type": "code",
    "id": "iPQAvMh6l2N1"
   },
   "outputs": [],
   "source": [
    "df_long = df_long.merge(df_names,left_on='polymer',right_on='polymer')\n",
    "df_long = df_long.rename({'polymer':'short','fullname':'polymer'},axis=1)\n"
   ]
  },
  {
   "cell_type": "code",
   "execution_count": 9,
   "metadata": {
    "colab": {},
    "colab_type": "code",
    "id": "xfP2QE0kl2N4"
   },
   "outputs": [],
   "source": [
    "df_long= df_long.loc[~df_long['solubility'].isna()]"
   ]
  },
  {
   "cell_type": "code",
   "execution_count": 11,
   "metadata": {
    "colab": {},
    "colab_type": "code",
    "id": "5c9nA6zkl2N9"
   },
   "outputs": [],
   "source": [
    "data = CollabDataBunch.from_df(df_long, bs=32, user_name='Solvent', item_name='polymer',rating_name='solubility' ,seed=42)"
   ]
  },
  {
   "cell_type": "code",
   "execution_count": 12,
   "metadata": {
    "colab": {},
    "colab_type": "code",
    "id": "j5X1btaIl2N_"
   },
   "outputs": [],
   "source": [
    "top_polymers = np.asarray(list(set(df_long['polymer'])))\n",
    "top_solvents = df['Solvent'].values # original order"
   ]
  },
  {
   "cell_type": "markdown",
   "metadata": {
    "colab_type": "text",
    "id": "N-lnSV_GmzbV"
   },
   "source": [
    "Defining the loss functions (mean squared error) used to optimized the weights."
   ]
  },
  {
   "cell_type": "code",
   "execution_count": 13,
   "metadata": {
    "colab": {},
    "colab_type": "code",
    "id": "uyZOJ8W9l2OC"
   },
   "outputs": [],
   "source": [
    "lossf = MSELossFlat()"
   ]
  },
  {
   "cell_type": "markdown",
   "metadata": {
    "colab_type": "text",
    "id": "X8eEjwUcnC30"
   },
   "source": [
    "Finally we are using 5 features for each solvent and each polymer and a sigmoidal function to squash the final values to a range between $[0.75,6.25]$."
   ]
  },
  {
   "cell_type": "code",
   "execution_count": 14,
   "metadata": {
    "colab": {},
    "colab_type": "code",
    "id": "CiG9xnEKl2OE"
   },
   "outputs": [],
   "source": [
    "\n",
    "y_range = [0.75,6.25] # best range\n",
    "#y_range = None\n",
    "#learn = collab_learner(data, n_factors=3, y_range=y_range,metrics=[rmse,mse], wd=1e-1)\n",
    "#learn = collab_learner(data, n_factors=4, y_range=y_range,metrics=[rmse,mse], wd=1e-1,loss_func = lossf)\n",
    "learn = collab_learner(data, n_factors=5, y_range=y_range,metrics=[rmse,mse], wd=1e-1)\n",
    "#learn = collab_learner(data, n_factors=4, y_range=y_range,use_nn=True, layers=[512],)\n",
    "#learn = collab_learner(data,use_nn=True, emb_szs={'Solvent': 10, 'polymer':10}, layers=[32], y_range=y_range)\n",
    "#learn"
   ]
  },
  {
   "cell_type": "code",
   "execution_count": 15,
   "metadata": {
    "colab": {
     "base_uri": "https://localhost:8080/",
     "height": 204
    },
    "colab_type": "code",
    "executionInfo": {
     "elapsed": 3054,
     "status": "ok",
     "timestamp": 1583075142222,
     "user": {
      "displayName": "Christoph Loschen",
      "photoUrl": "",
      "userId": "06846131955017515958"
     },
     "user_tz": -60
    },
    "id": "Z_5rOWZ4l2OM",
    "outputId": "8644b3ce-ec8a-4992-96da-19723d7062fa"
   },
   "outputs": [
    {
     "data": {
      "text/html": [
       "<table border=\"1\" class=\"dataframe\">\n",
       "  <thead>\n",
       "    <tr style=\"text-align: left;\">\n",
       "      <th>epoch</th>\n",
       "      <th>train_loss</th>\n",
       "      <th>valid_loss</th>\n",
       "      <th>root_mean_squared_error</th>\n",
       "      <th>mean_squared_error</th>\n",
       "      <th>time</th>\n",
       "    </tr>\n",
       "  </thead>\n",
       "  <tbody>\n",
       "    <tr>\n",
       "      <td>0</td>\n",
       "      <td>3.880454</td>\n",
       "      <td>2.393616</td>\n",
       "      <td>1.522278</td>\n",
       "      <td>2.393616</td>\n",
       "      <td>00:00</td>\n",
       "    </tr>\n",
       "    <tr>\n",
       "      <td>1</td>\n",
       "      <td>2.349662</td>\n",
       "      <td>1.822205</td>\n",
       "      <td>1.330019</td>\n",
       "      <td>1.822205</td>\n",
       "      <td>00:00</td>\n",
       "    </tr>\n",
       "    <tr>\n",
       "      <td>2</td>\n",
       "      <td>1.692601</td>\n",
       "      <td>1.492420</td>\n",
       "      <td>1.205951</td>\n",
       "      <td>1.492420</td>\n",
       "      <td>00:00</td>\n",
       "    </tr>\n",
       "    <tr>\n",
       "      <td>3</td>\n",
       "      <td>1.213818</td>\n",
       "      <td>1.371374</td>\n",
       "      <td>1.153695</td>\n",
       "      <td>1.371374</td>\n",
       "      <td>00:00</td>\n",
       "    </tr>\n",
       "    <tr>\n",
       "      <td>4</td>\n",
       "      <td>0.882867</td>\n",
       "      <td>1.348545</td>\n",
       "      <td>1.146253</td>\n",
       "      <td>1.348545</td>\n",
       "      <td>00:00</td>\n",
       "    </tr>\n",
       "  </tbody>\n",
       "</table>"
      ],
      "text/plain": [
       "<IPython.core.display.HTML object>"
      ]
     },
     "metadata": {},
     "output_type": "display_data"
    }
   ],
   "source": [
    "learn.fit_one_cycle(5, max_lr=1.0e-1) # BEST RMSE=1.09"
   ]
  },
  {
   "cell_type": "code",
   "execution_count": 18,
   "metadata": {
    "colab": {
     "base_uri": "https://localhost:8080/",
     "height": 204
    },
    "colab_type": "code",
    "executionInfo": {
     "elapsed": 3052,
     "status": "ok",
     "timestamp": 1583075147504,
     "user": {
      "displayName": "Christoph Loschen",
      "photoUrl": "",
      "userId": "06846131955017515958"
     },
     "user_tz": -60
    },
    "id": "vJNeivTbl2OP",
    "outputId": "79869e1b-75ad-4e15-e758-086711ee8da5"
   },
   "outputs": [
    {
     "data": {
      "text/html": [
       "<table border=\"1\" class=\"dataframe\">\n",
       "  <thead>\n",
       "    <tr style=\"text-align: left;\">\n",
       "      <th>epoch</th>\n",
       "      <th>train_loss</th>\n",
       "      <th>valid_loss</th>\n",
       "      <th>root_mean_squared_error</th>\n",
       "      <th>mean_squared_error</th>\n",
       "      <th>time</th>\n",
       "    </tr>\n",
       "  </thead>\n",
       "  <tbody>\n",
       "    <tr>\n",
       "      <td>0</td>\n",
       "      <td>0.498794</td>\n",
       "      <td>1.250511</td>\n",
       "      <td>1.099317</td>\n",
       "      <td>1.250511</td>\n",
       "      <td>00:00</td>\n",
       "    </tr>\n",
       "    <tr>\n",
       "      <td>1</td>\n",
       "      <td>0.507875</td>\n",
       "      <td>1.251159</td>\n",
       "      <td>1.099401</td>\n",
       "      <td>1.251159</td>\n",
       "      <td>00:00</td>\n",
       "    </tr>\n",
       "    <tr>\n",
       "      <td>2</td>\n",
       "      <td>0.544147</td>\n",
       "      <td>1.256568</td>\n",
       "      <td>1.101957</td>\n",
       "      <td>1.256568</td>\n",
       "      <td>00:00</td>\n",
       "    </tr>\n",
       "    <tr>\n",
       "      <td>3</td>\n",
       "      <td>0.573578</td>\n",
       "      <td>1.246693</td>\n",
       "      <td>1.097359</td>\n",
       "      <td>1.246692</td>\n",
       "      <td>00:00</td>\n",
       "    </tr>\n",
       "    <tr>\n",
       "      <td>4</td>\n",
       "      <td>0.601933</td>\n",
       "      <td>1.265147</td>\n",
       "      <td>1.105491</td>\n",
       "      <td>1.265147</td>\n",
       "      <td>00:00</td>\n",
       "    </tr>\n",
       "    <tr>\n",
       "      <td>5</td>\n",
       "      <td>0.598190</td>\n",
       "      <td>1.250596</td>\n",
       "      <td>1.098781</td>\n",
       "      <td>1.250596</td>\n",
       "      <td>00:00</td>\n",
       "    </tr>\n",
       "    <tr>\n",
       "      <td>6</td>\n",
       "      <td>0.607573</td>\n",
       "      <td>1.273278</td>\n",
       "      <td>1.108370</td>\n",
       "      <td>1.273278</td>\n",
       "      <td>00:00</td>\n",
       "    </tr>\n",
       "    <tr>\n",
       "      <td>7</td>\n",
       "      <td>0.595005</td>\n",
       "      <td>1.252546</td>\n",
       "      <td>1.098373</td>\n",
       "      <td>1.252546</td>\n",
       "      <td>00:00</td>\n",
       "    </tr>\n",
       "    <tr>\n",
       "      <td>8</td>\n",
       "      <td>0.587067</td>\n",
       "      <td>1.260029</td>\n",
       "      <td>1.101490</td>\n",
       "      <td>1.260029</td>\n",
       "      <td>00:00</td>\n",
       "    </tr>\n",
       "    <tr>\n",
       "      <td>9</td>\n",
       "      <td>0.577163</td>\n",
       "      <td>1.248523</td>\n",
       "      <td>1.097305</td>\n",
       "      <td>1.248523</td>\n",
       "      <td>00:00</td>\n",
       "    </tr>\n",
       "    <tr>\n",
       "      <td>10</td>\n",
       "      <td>0.567109</td>\n",
       "      <td>1.266701</td>\n",
       "      <td>1.104836</td>\n",
       "      <td>1.266701</td>\n",
       "      <td>00:00</td>\n",
       "    </tr>\n",
       "    <tr>\n",
       "      <td>11</td>\n",
       "      <td>0.548015</td>\n",
       "      <td>1.260620</td>\n",
       "      <td>1.103342</td>\n",
       "      <td>1.260620</td>\n",
       "      <td>00:00</td>\n",
       "    </tr>\n",
       "    <tr>\n",
       "      <td>12</td>\n",
       "      <td>0.535460</td>\n",
       "      <td>1.260713</td>\n",
       "      <td>1.101913</td>\n",
       "      <td>1.260713</td>\n",
       "      <td>00:00</td>\n",
       "    </tr>\n",
       "    <tr>\n",
       "      <td>13</td>\n",
       "      <td>0.504575</td>\n",
       "      <td>1.255369</td>\n",
       "      <td>1.099162</td>\n",
       "      <td>1.255369</td>\n",
       "      <td>00:00</td>\n",
       "    </tr>\n",
       "    <tr>\n",
       "      <td>14</td>\n",
       "      <td>0.504699</td>\n",
       "      <td>1.257184</td>\n",
       "      <td>1.100349</td>\n",
       "      <td>1.257184</td>\n",
       "      <td>00:00</td>\n",
       "    </tr>\n",
       "    <tr>\n",
       "      <td>15</td>\n",
       "      <td>0.484491</td>\n",
       "      <td>1.253043</td>\n",
       "      <td>1.098210</td>\n",
       "      <td>1.253043</td>\n",
       "      <td>00:00</td>\n",
       "    </tr>\n",
       "    <tr>\n",
       "      <td>16</td>\n",
       "      <td>0.480770</td>\n",
       "      <td>1.260534</td>\n",
       "      <td>1.101728</td>\n",
       "      <td>1.260534</td>\n",
       "      <td>00:00</td>\n",
       "    </tr>\n",
       "    <tr>\n",
       "      <td>17</td>\n",
       "      <td>0.466553</td>\n",
       "      <td>1.258097</td>\n",
       "      <td>1.100510</td>\n",
       "      <td>1.258097</td>\n",
       "      <td>00:00</td>\n",
       "    </tr>\n",
       "    <tr>\n",
       "      <td>18</td>\n",
       "      <td>0.456542</td>\n",
       "      <td>1.257746</td>\n",
       "      <td>1.100312</td>\n",
       "      <td>1.257746</td>\n",
       "      <td>00:00</td>\n",
       "    </tr>\n",
       "    <tr>\n",
       "      <td>19</td>\n",
       "      <td>0.448606</td>\n",
       "      <td>1.257863</td>\n",
       "      <td>1.100364</td>\n",
       "      <td>1.257863</td>\n",
       "      <td>00:00</td>\n",
       "    </tr>\n",
       "  </tbody>\n",
       "</table>"
      ],
      "text/plain": [
       "<IPython.core.display.HTML object>"
      ]
     },
     "metadata": {},
     "output_type": "display_data"
    }
   ],
   "source": [
    "learn.fit_one_cycle(20, max_lr=1.5e-2) # BEST RMSE=1.09"
   ]
  },
  {
   "cell_type": "markdown",
   "metadata": {
    "colab_type": "text",
    "id": "VES7YgZZl2OR"
   },
   "source": [
    "## Some Notes\n",
    "\n",
    "Those are just some notes from differemt optimization runs to find the best parameters.\n",
    "\n",
    "|epoch|\ttrain_loss\t|valid_loss\t|root_mean_squared_error|\tmean_squared_error|time|\n",
    "|-|-|-|-|-|-|\n",
    "|9\t|0.864711\t|1.437362\t|1.183305\t|1.437362\t|00:30 |embedding=5 no NN no range|\n",
    "|9\t|0.567250\t|1.571942\t|1.240355\t|1.571942\t|00:30 |embedding=10 no NN no range|\n",
    "|9\t|0.382161\t|1.630874\t|1.257383\t|1.630875\t|00:31 |embedding=20 no NN no range|\n",
    "|9\t|0.600861\t|1.346427\t|1.144532\t|1.346427\t|00:31 |embedding=4 range & wd|\n",
    "|4\t|0.446523\t|1.271633\t|1.113335\t|1.271633\t|00:30 |embedding=4 range & wd|\n",
    "|4\t|0.601325\t|1.305175\t|1.128294\t|1.305175\t|00:30 |embedding=5 range & wd|\n",
    "|9\t|0.594458\t|1.223412\t|1.095868\t|1.223412\t|00:30 |collab_learner(data, n_factors=4, y_range=y_range, wd=1e-1)|\n",
    "\n",
    "Best results: rmse = 1.11\n"
   ]
  },
  {
   "cell_type": "code",
   "execution_count": 27,
   "metadata": {
    "colab": {},
    "colab_type": "code",
    "id": "ya_P7Y85l2OR"
   },
   "outputs": [],
   "source": [
    "learn.save('polymer')\n",
    "learn.export()"
   ]
  },
  {
   "cell_type": "code",
   "execution_count": 29,
   "metadata": {
    "colab": {
     "base_uri": "https://localhost:8080/",
     "height": 496
    },
    "colab_type": "code",
    "executionInfo": {
     "elapsed": 855,
     "status": "ok",
     "timestamp": 1583075448119,
     "user": {
      "displayName": "Christoph Loschen",
      "photoUrl": "",
      "userId": "06846131955017515958"
     },
     "user_tz": -60
    },
    "id": "v4jf6ZZOl2OW",
    "outputId": "041348de-0305-4130-c886-dbe188e5adfb"
   },
   "outputs": [],
   "source": [
    "learn.load('polymer');"
   ]
  },
  {
   "cell_type": "markdown",
   "metadata": {
    "colab_type": "text",
    "id": "QoKN0_i1l2Oi"
   },
   "source": [
    "   # Results"
   ]
  },
  {
   "cell_type": "code",
   "execution_count": 30,
   "metadata": {
    "colab": {},
    "colab_type": "code",
    "id": "TJPZ2Wjcl2Oi"
   },
   "outputs": [],
   "source": [
    "learn = load_learner('.', test=data.valid_ds.x)"
   ]
  },
  {
   "cell_type": "code",
   "execution_count": 31,
   "metadata": {
    "colab": {
     "base_uri": "https://localhost:8080/",
     "height": 139
    },
    "colab_type": "code",
    "executionInfo": {
     "elapsed": 1574,
     "status": "ok",
     "timestamp": 1583075478668,
     "user": {
      "displayName": "Christoph Loschen",
      "photoUrl": "",
      "userId": "06846131955017515958"
     },
     "user_tz": -60
    },
    "id": "KyfKbLsTl2Ol",
    "outputId": "7265d11b-7899-4390-a8f0-6e6d74bd21a4"
   },
   "outputs": [
    {
     "data": {
      "text/html": [],
      "text/plain": [
       "<IPython.core.display.HTML object>"
      ]
     },
     "metadata": {},
     "output_type": "display_data"
    },
    {
     "data": {
      "text/plain": [
       "LabelList (579 items)\n",
       "x: CollabList\n",
       "Solvent 2-Nitropropane ; polymer Poly (methyl methacrylate); ,Solvent 2-Butoxyethanol ; polymer furfuryl alcohol resin; ,Solvent  Butyric acid    ; polymer styrene-butadiene (SBR); ,Solvent Mesityl oxide; polymer styrene-butadiene (SBR); ,Solvent Formic acid 90%; polymer isoprene; \n",
       "y: FloatList\n",
       "1.0,1.0,4.0,1.0,6.0\n",
       "Path: ."
      ]
     },
     "execution_count": 31,
     "metadata": {},
     "output_type": "execute_result"
    }
   ],
   "source": [
    "preds,y = learn.get_preds(ds_type=DatasetType.Test)\n",
    "data.valid_ds"
   ]
  },
  {
   "cell_type": "code",
   "execution_count": 33,
   "metadata": {
    "colab": {},
    "colab_type": "code",
    "id": "1SnjKXQ0l2On"
   },
   "outputs": [
    {
     "data": {
      "text/plain": [
       "CollabLine Solvent 2-Nitropropane ; polymer Poly (methyl methacrylate); "
      ]
     },
     "execution_count": 33,
     "metadata": {},
     "output_type": "execute_result"
    }
   ],
   "source": [
    "data.valid_ds.y[0].data\n",
    "y_true = np.asarray([t.data for t in data.valid_ds.y])\n",
    "solvents = [t for t in data.valid_ds.x]\n",
    "tmp = solvents[0]\n",
    "tmp"
   ]
  },
  {
   "cell_type": "markdown",
   "metadata": {
    "colab_type": "text",
    "id": "S4Raer1ynqjc"
   },
   "source": [
    "Visualization of the final predictions on the validation data set.\n",
    "\n",
    "Bad und good solvent are identified quite well with some outliers mainly for high solubility."
   ]
  },
  {
   "cell_type": "code",
   "execution_count": 34,
   "metadata": {
    "colab": {
     "base_uri": "https://localhost:8080/",
     "height": 282
    },
    "colab_type": "code",
    "executionInfo": {
     "elapsed": 965,
     "status": "ok",
     "timestamp": 1583075482771,
     "user": {
      "displayName": "Christoph Loschen",
      "photoUrl": "",
      "userId": "06846131955017515958"
     },
     "user_tz": -60
    },
    "id": "ZibN_NvFl2Os",
    "outputId": "abe91eb5-2b89-4691-da3e-e06f9a214005"
   },
   "outputs": [
    {
     "data": {
      "text/plain": [
       "<matplotlib.axes._subplots.AxesSubplot at 0x7f89c2ceaf60>"
      ]
     },
     "execution_count": 34,
     "metadata": {},
     "output_type": "execute_result"
    },
    {
     "data": {
      "image/png": "[encoded data removed]",
      "text/plain": [
       "<Figure size 432x288 with 1 Axes>"
      ]
     },
     "metadata": {
      "needs_background": "light"
     },
     "output_type": "display_data"
    }
   ],
   "source": [
    "sns.boxplot(y_true,preds.numpy())"
   ]
  },
  {
   "cell_type": "code",
   "execution_count": 35,
   "metadata": {
    "colab": {
     "base_uri": "https://localhost:8080/",
     "height": 204
    },
    "colab_type": "code",
    "executionInfo": {
     "elapsed": 814,
     "status": "ok",
     "timestamp": 1583075485570,
     "user": {
      "displayName": "Christoph Loschen",
      "photoUrl": "",
      "userId": "06846131955017515958"
     },
     "user_tz": -60
    },
    "id": "GWqLfP20l2Ov",
    "outputId": "749db13f-c344-4517-f986-60d53a81f133"
   },
   "outputs": [
    {
     "data": {
      "text/html": [
       "<div>\n",
       "<style scoped>\n",
       "    .dataframe tbody tr th:only-of-type {\n",
       "        vertical-align: middle;\n",
       "    }\n",
       "\n",
       "    .dataframe tbody tr th {\n",
       "        vertical-align: top;\n",
       "    }\n",
       "\n",
       "    .dataframe thead th {\n",
       "        text-align: right;\n",
       "    }\n",
       "</style>\n",
       "<table border=\"1\" class=\"dataframe\">\n",
       "  <thead>\n",
       "    <tr style=\"text-align: right;\">\n",
       "      <th></th>\n",
       "      <th>Solvent</th>\n",
       "      <th>short</th>\n",
       "      <th>solubility</th>\n",
       "      <th>all</th>\n",
       "      <th>polymer</th>\n",
       "    </tr>\n",
       "  </thead>\n",
       "  <tbody>\n",
       "    <tr>\n",
       "      <th>0</th>\n",
       "      <td>Methanol</td>\n",
       "      <td>A</td>\n",
       "      <td>5.0</td>\n",
       "      <td>Lucite'\"' 2042-poly (ethyl methacrylate), E. I...</td>\n",
       "      <td>poly (ethyl methacrylate)</td>\n",
       "    </tr>\n",
       "    <tr>\n",
       "      <th>1</th>\n",
       "      <td>Ethanol 96%</td>\n",
       "      <td>A</td>\n",
       "      <td>4.0</td>\n",
       "      <td>Lucite'\"' 2042-poly (ethyl methacrylate), E. I...</td>\n",
       "      <td>poly (ethyl methacrylate)</td>\n",
       "    </tr>\n",
       "    <tr>\n",
       "      <th>2</th>\n",
       "      <td>Ethanol 99%</td>\n",
       "      <td>A</td>\n",
       "      <td>5.0</td>\n",
       "      <td>Lucite'\"' 2042-poly (ethyl methacrylate), E. I...</td>\n",
       "      <td>poly (ethyl methacrylate)</td>\n",
       "    </tr>\n",
       "    <tr>\n",
       "      <th>3</th>\n",
       "      <td>n-Propanol</td>\n",
       "      <td>A</td>\n",
       "      <td>5.0</td>\n",
       "      <td>Lucite'\"' 2042-poly (ethyl methacrylate), E. I...</td>\n",
       "      <td>poly (ethyl methacrylate)</td>\n",
       "    </tr>\n",
       "    <tr>\n",
       "      <th>4</th>\n",
       "      <td>n-Butanol</td>\n",
       "      <td>A</td>\n",
       "      <td>5.0</td>\n",
       "      <td>Lucite'\"' 2042-poly (ethyl methacrylate), E. I...</td>\n",
       "      <td>poly (ethyl methacrylate)</td>\n",
       "    </tr>\n",
       "  </tbody>\n",
       "</table>\n",
       "</div>"
      ],
      "text/plain": [
       "       Solvent short  solubility  \\\n",
       "0    Methanol      A         5.0   \n",
       "1  Ethanol 96%     A         4.0   \n",
       "2  Ethanol 99%     A         5.0   \n",
       "3  n-Propanol      A         5.0   \n",
       "4   n-Butanol      A         5.0   \n",
       "\n",
       "                                                 all  \\\n",
       "0  Lucite'\"' 2042-poly (ethyl methacrylate), E. I...   \n",
       "1  Lucite'\"' 2042-poly (ethyl methacrylate), E. I...   \n",
       "2  Lucite'\"' 2042-poly (ethyl methacrylate), E. I...   \n",
       "3  Lucite'\"' 2042-poly (ethyl methacrylate), E. I...   \n",
       "4  Lucite'\"' 2042-poly (ethyl methacrylate), E. I...   \n",
       "\n",
       "                     polymer  \n",
       "0  poly (ethyl methacrylate)  \n",
       "1  poly (ethyl methacrylate)  \n",
       "2  poly (ethyl methacrylate)  \n",
       "3  poly (ethyl methacrylate)  \n",
       "4  poly (ethyl methacrylate)  "
      ]
     },
     "execution_count": 35,
     "metadata": {},
     "output_type": "execute_result"
    }
   ],
   "source": [
    "df_long.head()"
   ]
  },
  {
   "cell_type": "code",
   "execution_count": 36,
   "metadata": {
    "colab": {
     "base_uri": "https://localhost:8080/",
     "height": 17
    },
    "colab_type": "code",
    "executionInfo": {
     "elapsed": 813,
     "status": "ok",
     "timestamp": 1583075487604,
     "user": {
      "displayName": "Christoph Loschen",
      "photoUrl": "",
      "userId": "06846131955017515958"
     },
     "user_tz": -60
    },
    "id": "E65HLxykl2Ox",
    "outputId": "bd82a4f2-9ee8-4e99-c89a-211b98298780"
   },
   "outputs": [
    {
     "data": {
      "text/html": [],
      "text/plain": [
       "<IPython.core.display.HTML object>"
      ]
     },
     "metadata": {},
     "output_type": "display_data"
    }
   ],
   "source": [
    "datatest = CollabList.from_df(df_long,cat_names=['Solvent','polymer'],cont_names=['solubility'])\n",
    "learn.data.add_test(datatest) \n",
    "preds, _ = learn.get_preds(ds_type = DatasetType.Test)"
   ]
  },
  {
   "cell_type": "code",
   "execution_count": 37,
   "metadata": {
    "colab": {},
    "colab_type": "code",
    "id": "aEX58GJil2Oz"
   },
   "outputs": [],
   "source": [
    "df_long['predictions'] = preds.numpy()\n",
    "df_long['SE'] = np.fabs(df_long['solubility'] - df_long['predictions'])\n",
    "df_long['SE_mean'] = df_long.groupby('polymer')['SE'].transform(np.mean)"
   ]
  },
  {
   "cell_type": "code",
   "execution_count": 38,
   "metadata": {
    "colab": {
     "base_uri": "https://localhost:8080/",
     "height": 669
    },
    "colab_type": "code",
    "executionInfo": {
     "elapsed": 836,
     "status": "ok",
     "timestamp": 1583075514307,
     "user": {
      "displayName": "Christoph Loschen",
      "photoUrl": "",
      "userId": "06846131955017515958"
     },
     "user_tz": -60
    },
    "id": "j74Qb3J0l2O2",
    "outputId": "c35136e7-050e-4b03-9f08-5879753f8dea"
   },
   "outputs": [
    {
     "data": {
      "text/html": [
       "<div>\n",
       "<style scoped>\n",
       "    .dataframe tbody tr th:only-of-type {\n",
       "        vertical-align: middle;\n",
       "    }\n",
       "\n",
       "    .dataframe tbody tr th {\n",
       "        vertical-align: top;\n",
       "    }\n",
       "\n",
       "    .dataframe thead th {\n",
       "        text-align: right;\n",
       "    }\n",
       "</style>\n",
       "<table border=\"1\" class=\"dataframe\">\n",
       "  <thead>\n",
       "    <tr style=\"text-align: right;\">\n",
       "      <th></th>\n",
       "      <th>Solvent</th>\n",
       "      <th>short</th>\n",
       "      <th>solubility</th>\n",
       "      <th>all</th>\n",
       "      <th>polymer</th>\n",
       "      <th>predictions</th>\n",
       "      <th>SE</th>\n",
       "      <th>SE_mean</th>\n",
       "    </tr>\n",
       "  </thead>\n",
       "  <tbody>\n",
       "    <tr>\n",
       "      <th>679</th>\n",
       "      <td>Carbon tetrachloride</td>\n",
       "      <td>H</td>\n",
       "      <td>1.0</td>\n",
       "      <td>Mowilith®50-poly (vinyl acetate), Farbwerke Ho...</td>\n",
       "      <td>poly (vinyl acetate)</td>\n",
       "      <td>5.527270</td>\n",
       "      <td>4.527270</td>\n",
       "      <td>0.648882</td>\n",
       "    </tr>\n",
       "    <tr>\n",
       "      <th>1774</th>\n",
       "      <td>m-Cresol</td>\n",
       "      <td>U</td>\n",
       "      <td>1.0</td>\n",
       "      <td>Hycar®' lO52-acrylonitrile-butadiene raw elast...</td>\n",
       "      <td>acrylonitrile-butadiene</td>\n",
       "      <td>5.219611</td>\n",
       "      <td>4.219611</td>\n",
       "      <td>0.641831</td>\n",
       "    </tr>\n",
       "    <tr>\n",
       "      <th>2297</th>\n",
       "      <td>Propylene glycol</td>\n",
       "      <td>AB</td>\n",
       "      <td>1.0</td>\n",
       "      <td>Cymel \" 300-hexamethoxy melamine, American Cya...</td>\n",
       "      <td>hexamethoxy melamine</td>\n",
       "      <td>4.897994</td>\n",
       "      <td>3.897994</td>\n",
       "      <td>0.411346</td>\n",
       "    </tr>\n",
       "    <tr>\n",
       "      <th>1202</th>\n",
       "      <td>Dipropyl amine</td>\n",
       "      <td>N</td>\n",
       "      <td>1.0</td>\n",
       "      <td>Phenodur 373U-phenol-resol resin, Chemische We...</td>\n",
       "      <td>phenol-resol resin</td>\n",
       "      <td>4.893676</td>\n",
       "      <td>3.893676</td>\n",
       "      <td>0.765612</td>\n",
       "    </tr>\n",
       "    <tr>\n",
       "      <th>95</th>\n",
       "      <td>2-Ethyl hexanol</td>\n",
       "      <td>B</td>\n",
       "      <td>2.0</td>\n",
       "      <td>Poly (methyl methacrylate), Rohm and Haas Co.</td>\n",
       "      <td>Poly (methyl methacrylate)</td>\n",
       "      <td>5.793727</td>\n",
       "      <td>3.793727</td>\n",
       "      <td>0.753604</td>\n",
       "    </tr>\n",
       "    <tr>\n",
       "      <th>1112</th>\n",
       "      <td>Ethanolamine</td>\n",
       "      <td>M</td>\n",
       "      <td>1.0</td>\n",
       "      <td>Super Beckacite'® JOOI-Pure Phenolic Resin, Re...</td>\n",
       "      <td>Phenolic Resin</td>\n",
       "      <td>4.785949</td>\n",
       "      <td>3.785949</td>\n",
       "      <td>0.443935</td>\n",
       "    </tr>\n",
       "    <tr>\n",
       "      <th>1195</th>\n",
       "      <td>Nitromethane</td>\n",
       "      <td>N</td>\n",
       "      <td>6.0</td>\n",
       "      <td>Phenodur 373U-phenol-resol resin, Chemische We...</td>\n",
       "      <td>phenol-resol resin</td>\n",
       "      <td>2.324368</td>\n",
       "      <td>3.675632</td>\n",
       "      <td>0.765612</td>\n",
       "    </tr>\n",
       "    <tr>\n",
       "      <th>94</th>\n",
       "      <td>2-Ethyl butanol</td>\n",
       "      <td>B</td>\n",
       "      <td>2.0</td>\n",
       "      <td>Poly (methyl methacrylate), Rohm and Haas Co.</td>\n",
       "      <td>Poly (methyl methacrylate)</td>\n",
       "      <td>5.592360</td>\n",
       "      <td>3.592360</td>\n",
       "      <td>0.753604</td>\n",
       "    </tr>\n",
       "    <tr>\n",
       "      <th>1492</th>\n",
       "      <td>Formic acid 90%</td>\n",
       "      <td>Q</td>\n",
       "      <td>2.0</td>\n",
       "      <td>Suprasec F5100-blocked isocyanate (phenol), Im...</td>\n",
       "      <td>isocyanate (phenol)</td>\n",
       "      <td>5.545220</td>\n",
       "      <td>3.545220</td>\n",
       "      <td>0.610754</td>\n",
       "    </tr>\n",
       "    <tr>\n",
       "      <th>2742</th>\n",
       "      <td>m-Cresol</td>\n",
       "      <td>AG</td>\n",
       "      <td>1.0</td>\n",
       "      <td>Piccoumarone 450L-cumarone-indene resin, Penns...</td>\n",
       "      <td>cumarone-indene resin</td>\n",
       "      <td>4.539486</td>\n",
       "      <td>3.539486</td>\n",
       "      <td>0.359633</td>\n",
       "    </tr>\n",
       "    <tr>\n",
       "      <th>298</th>\n",
       "      <td>y-Butyrolactone</td>\n",
       "      <td>D</td>\n",
       "      <td>6.0</td>\n",
       "      <td>Plexal P65-66 “4 oil length alkyd, Polyplex.</td>\n",
       "      <td>Plexal alkyd</td>\n",
       "      <td>2.583834</td>\n",
       "      <td>3.416166</td>\n",
       "      <td>0.526580</td>\n",
       "    </tr>\n",
       "    <tr>\n",
       "      <th>1140</th>\n",
       "      <td>Formic acid 90%</td>\n",
       "      <td>M</td>\n",
       "      <td>5.0</td>\n",
       "      <td>Super Beckacite'® JOOI-Pure Phenolic Resin, Re...</td>\n",
       "      <td>Phenolic Resin</td>\n",
       "      <td>1.595325</td>\n",
       "      <td>3.404675</td>\n",
       "      <td>0.443935</td>\n",
       "    </tr>\n",
       "    <tr>\n",
       "      <th>1952</th>\n",
       "      <td>n-Butyl lactate</td>\n",
       "      <td>X</td>\n",
       "      <td>5.0</td>\n",
       "      <td>Lutonal IC/123-poIy (isobutylene), Badische An...</td>\n",
       "      <td>poIy (isobutylene)</td>\n",
       "      <td>1.686984</td>\n",
       "      <td>3.313016</td>\n",
       "      <td>0.403327</td>\n",
       "    </tr>\n",
       "    <tr>\n",
       "      <th>996</th>\n",
       "      <td>Dioxane</td>\n",
       "      <td>L</td>\n",
       "      <td>1.0</td>\n",
       "      <td>Cellulose acetate, Cellidora A-Bayer AG.</td>\n",
       "      <td>Cellulose acetate</td>\n",
       "      <td>4.274647</td>\n",
       "      <td>3.274647</td>\n",
       "      <td>0.695053</td>\n",
       "    </tr>\n",
       "    <tr>\n",
       "      <th>1441</th>\n",
       "      <td>Propylene carbonate</td>\n",
       "      <td>Q</td>\n",
       "      <td>1.0</td>\n",
       "      <td>Suprasec F5100-blocked isocyanate (phenol), Im...</td>\n",
       "      <td>isocyanate (phenol)</td>\n",
       "      <td>4.267636</td>\n",
       "      <td>3.267636</td>\n",
       "      <td>0.610754</td>\n",
       "    </tr>\n",
       "    <tr>\n",
       "      <th>2826</th>\n",
       "      <td>Ethylene glycol</td>\n",
       "      <td>AH</td>\n",
       "      <td>1.0</td>\n",
       "      <td>Milled wood lignin—Special sample from prof. A...</td>\n",
       "      <td>lignin</td>\n",
       "      <td>4.257072</td>\n",
       "      <td>3.257072</td>\n",
       "      <td>0.824119</td>\n",
       "    </tr>\n",
       "    <tr>\n",
       "      <th>732</th>\n",
       "      <td>Dioxane</td>\n",
       "      <td>I</td>\n",
       "      <td>6.0</td>\n",
       "      <td>Plastopal H-urea formaldehyde resin, Badische ...</td>\n",
       "      <td>urea formaldehyde resin</td>\n",
       "      <td>2.810896</td>\n",
       "      <td>3.189104</td>\n",
       "      <td>0.639131</td>\n",
       "    </tr>\n",
       "    <tr>\n",
       "      <th>436</th>\n",
       "      <td>Formic acid 90%</td>\n",
       "      <td>E</td>\n",
       "      <td>6.0</td>\n",
       "      <td>Pentalyn'*' 830-alcohol soluble rosin resin, H...</td>\n",
       "      <td>alcohol soluble resin 830</td>\n",
       "      <td>2.854373</td>\n",
       "      <td>3.145627</td>\n",
       "      <td>0.636493</td>\n",
       "    </tr>\n",
       "    <tr>\n",
       "      <th>1921</th>\n",
       "      <td>a-bromonaphthaline</td>\n",
       "      <td>V</td>\n",
       "      <td>5.0</td>\n",
       "      <td>Cariflex IR 305-isoprene raw elastomer, Shell ...</td>\n",
       "      <td>isoprene</td>\n",
       "      <td>1.868847</td>\n",
       "      <td>3.131153</td>\n",
       "      <td>0.450882</td>\n",
       "    </tr>\n",
       "    <tr>\n",
       "      <th>2837</th>\n",
       "      <td>Butyl dioxitol</td>\n",
       "      <td>AH</td>\n",
       "      <td>1.0</td>\n",
       "      <td>Milled wood lignin—Special sample from prof. A...</td>\n",
       "      <td>lignin</td>\n",
       "      <td>4.109126</td>\n",
       "      <td>3.109126</td>\n",
       "      <td>0.824119</td>\n",
       "    </tr>\n",
       "  </tbody>\n",
       "</table>\n",
       "</div>"
      ],
      "text/plain": [
       "                    Solvent short  solubility  \\\n",
       "679   Carbon tetrachloride      H         1.0   \n",
       "1774               m-Cresol     U         1.0   \n",
       "2297      Propylene glycol     AB         1.0   \n",
       "1202        Dipropyl amine      N         1.0   \n",
       "95         2-Ethyl hexanol      B         2.0   \n",
       "1112        Ethanolamine        M         1.0   \n",
       "1195          Nitromethane      N         6.0   \n",
       "94        2-Ethyl butanol       B         2.0   \n",
       "1492        Formic acid 90%     Q         2.0   \n",
       "2742               m-Cresol    AG         1.0   \n",
       "298        y-Butyrolactone      D         6.0   \n",
       "1140        Formic acid 90%     M         5.0   \n",
       "1952       n-Butyl lactate      X         5.0   \n",
       "996                Dioxane      L         1.0   \n",
       "1441   Propylene carbonate      Q         1.0   \n",
       "2826        Ethylene glycol    AH         1.0   \n",
       "732                Dioxane      I         6.0   \n",
       "436         Formic acid 90%     E         6.0   \n",
       "1921    a-bromonaphthaline      V         5.0   \n",
       "2837         Butyl dioxitol    AH         1.0   \n",
       "\n",
       "                                                    all  \\\n",
       "679   Mowilith®50-poly (vinyl acetate), Farbwerke Ho...   \n",
       "1774  Hycar®' lO52-acrylonitrile-butadiene raw elast...   \n",
       "2297  Cymel \" 300-hexamethoxy melamine, American Cya...   \n",
       "1202  Phenodur 373U-phenol-resol resin, Chemische We...   \n",
       "95        Poly (methyl methacrylate), Rohm and Haas Co.   \n",
       "1112  Super Beckacite'® JOOI-Pure Phenolic Resin, Re...   \n",
       "1195  Phenodur 373U-phenol-resol resin, Chemische We...   \n",
       "94        Poly (methyl methacrylate), Rohm and Haas Co.   \n",
       "1492  Suprasec F5100-blocked isocyanate (phenol), Im...   \n",
       "2742  Piccoumarone 450L-cumarone-indene resin, Penns...   \n",
       "298        Plexal P65-66 “4 oil length alkyd, Polyplex.   \n",
       "1140  Super Beckacite'® JOOI-Pure Phenolic Resin, Re...   \n",
       "1952  Lutonal IC/123-poIy (isobutylene), Badische An...   \n",
       "996            Cellulose acetate, Cellidora A-Bayer AG.   \n",
       "1441  Suprasec F5100-blocked isocyanate (phenol), Im...   \n",
       "2826  Milled wood lignin—Special sample from prof. A...   \n",
       "732   Plastopal H-urea formaldehyde resin, Badische ...   \n",
       "436   Pentalyn'*' 830-alcohol soluble rosin resin, H...   \n",
       "1921  Cariflex IR 305-isoprene raw elastomer, Shell ...   \n",
       "2837  Milled wood lignin—Special sample from prof. A...   \n",
       "\n",
       "                         polymer  predictions        SE   SE_mean  \n",
       "679         poly (vinyl acetate)     5.527270  4.527270  0.648882  \n",
       "1774     acrylonitrile-butadiene     5.219611  4.219611  0.641831  \n",
       "2297        hexamethoxy melamine     4.897994  3.897994  0.411346  \n",
       "1202          phenol-resol resin     4.893676  3.893676  0.765612  \n",
       "95    Poly (methyl methacrylate)     5.793727  3.793727  0.753604  \n",
       "1112              Phenolic Resin     4.785949  3.785949  0.443935  \n",
       "1195          phenol-resol resin     2.324368  3.675632  0.765612  \n",
       "94    Poly (methyl methacrylate)     5.592360  3.592360  0.753604  \n",
       "1492         isocyanate (phenol)     5.545220  3.545220  0.610754  \n",
       "2742       cumarone-indene resin     4.539486  3.539486  0.359633  \n",
       "298                 Plexal alkyd     2.583834  3.416166  0.526580  \n",
       "1140              Phenolic Resin     1.595325  3.404675  0.443935  \n",
       "1952          poIy (isobutylene)     1.686984  3.313016  0.403327  \n",
       "996            Cellulose acetate     4.274647  3.274647  0.695053  \n",
       "1441         isocyanate (phenol)     4.267636  3.267636  0.610754  \n",
       "2826                      lignin     4.257072  3.257072  0.824119  \n",
       "732      urea formaldehyde resin     2.810896  3.189104  0.639131  \n",
       "436    alcohol soluble resin 830     2.854373  3.145627  0.636493  \n",
       "1921                    isoprene     1.868847  3.131153  0.450882  \n",
       "2837                      lignin     4.109126  3.109126  0.824119  "
      ]
     },
     "execution_count": 38,
     "metadata": {},
     "output_type": "execute_result"
    }
   ],
   "source": [
    "df_long.sort_values('SE',ascending=False).head(20)"
   ]
  },
  {
   "cell_type": "code",
   "execution_count": 39,
   "metadata": {
    "colab": {
     "base_uri": "https://localhost:8080/",
     "height": 669
    },
    "colab_type": "code",
    "executionInfo": {
     "elapsed": 819,
     "status": "ok",
     "timestamp": 1583075518201,
     "user": {
      "displayName": "Christoph Loschen",
      "photoUrl": "",
      "userId": "06846131955017515958"
     },
     "user_tz": -60
    },
    "id": "NSLmdhf-l2O5",
    "outputId": "e9b26998-e999-4427-9483-1fb9e377ef60"
   },
   "outputs": [
    {
     "data": {
      "text/html": [
       "<div>\n",
       "<style scoped>\n",
       "    .dataframe tbody tr th:only-of-type {\n",
       "        vertical-align: middle;\n",
       "    }\n",
       "\n",
       "    .dataframe tbody tr th {\n",
       "        vertical-align: top;\n",
       "    }\n",
       "\n",
       "    .dataframe thead th {\n",
       "        text-align: right;\n",
       "    }\n",
       "</style>\n",
       "<table border=\"1\" class=\"dataframe\">\n",
       "  <thead>\n",
       "    <tr style=\"text-align: right;\">\n",
       "      <th></th>\n",
       "      <th>Solvent</th>\n",
       "      <th>short</th>\n",
       "      <th>solubility</th>\n",
       "      <th>all</th>\n",
       "      <th>polymer</th>\n",
       "      <th>predictions</th>\n",
       "      <th>SE</th>\n",
       "      <th>SE_mean</th>\n",
       "    </tr>\n",
       "  </thead>\n",
       "  <tbody>\n",
       "    <tr>\n",
       "      <th>820</th>\n",
       "      <td>Dioxane</td>\n",
       "      <td>J</td>\n",
       "      <td>6.0</td>\n",
       "      <td>% Sec. Nitrocellulose-!! 23, A. Hagedorn and C...</td>\n",
       "      <td>Nitrocellulose</td>\n",
       "      <td>2.914037</td>\n",
       "      <td>3.085963</td>\n",
       "      <td>0.612327</td>\n",
       "    </tr>\n",
       "    <tr>\n",
       "      <th>803</th>\n",
       "      <td>1,3 Butanediol</td>\n",
       "      <td>J</td>\n",
       "      <td>6.0</td>\n",
       "      <td>% Sec. Nitrocellulose-!! 23, A. Hagedorn and C...</td>\n",
       "      <td>Nitrocellulose</td>\n",
       "      <td>3.071082</td>\n",
       "      <td>2.928918</td>\n",
       "      <td>0.612327</td>\n",
       "    </tr>\n",
       "    <tr>\n",
       "      <th>862</th>\n",
       "      <td>2,2-Dichlorodiethylether</td>\n",
       "      <td>J</td>\n",
       "      <td>5.0</td>\n",
       "      <td>% Sec. Nitrocellulose-!! 23, A. Hagedorn and C...</td>\n",
       "      <td>Nitrocellulose</td>\n",
       "      <td>2.354406</td>\n",
       "      <td>2.645594</td>\n",
       "      <td>0.612327</td>\n",
       "    </tr>\n",
       "    <tr>\n",
       "      <th>839</th>\n",
       "      <td>Isoamyl acetate</td>\n",
       "      <td>J</td>\n",
       "      <td>1.0</td>\n",
       "      <td>% Sec. Nitrocellulose-!! 23, A. Hagedorn and C...</td>\n",
       "      <td>Nitrocellulose</td>\n",
       "      <td>3.595124</td>\n",
       "      <td>2.595124</td>\n",
       "      <td>0.612327</td>\n",
       "    </tr>\n",
       "    <tr>\n",
       "      <th>846</th>\n",
       "      <td>Aniline</td>\n",
       "      <td>J</td>\n",
       "      <td>3.0</td>\n",
       "      <td>% Sec. Nitrocellulose-!! 23, A. Hagedorn and C...</td>\n",
       "      <td>Nitrocellulose</td>\n",
       "      <td>1.085439</td>\n",
       "      <td>1.914561</td>\n",
       "      <td>0.612327</td>\n",
       "    </tr>\n",
       "    <tr>\n",
       "      <th>840</th>\n",
       "      <td>Isobutyl isobutyrate</td>\n",
       "      <td>J</td>\n",
       "      <td>1.0</td>\n",
       "      <td>% Sec. Nitrocellulose-!! 23, A. Hagedorn and C...</td>\n",
       "      <td>Nitrocellulose</td>\n",
       "      <td>2.814014</td>\n",
       "      <td>1.814014</td>\n",
       "      <td>0.612327</td>\n",
       "    </tr>\n",
       "    <tr>\n",
       "      <th>831</th>\n",
       "      <td>Diisobutyl ketone</td>\n",
       "      <td>J</td>\n",
       "      <td>1.0</td>\n",
       "      <td>% Sec. Nitrocellulose-!! 23, A. Hagedorn and C...</td>\n",
       "      <td>Nitrocellulose</td>\n",
       "      <td>2.727038</td>\n",
       "      <td>1.727038</td>\n",
       "      <td>0.612327</td>\n",
       "    </tr>\n",
       "    <tr>\n",
       "      <th>847</th>\n",
       "      <td>Nitrobenzene</td>\n",
       "      <td>J</td>\n",
       "      <td>1.0</td>\n",
       "      <td>% Sec. Nitrocellulose-!! 23, A. Hagedorn and C...</td>\n",
       "      <td>Nitrocellulose</td>\n",
       "      <td>2.381097</td>\n",
       "      <td>1.381097</td>\n",
       "      <td>0.612327</td>\n",
       "    </tr>\n",
       "    <tr>\n",
       "      <th>793</th>\n",
       "      <td>Ethanol 96%</td>\n",
       "      <td>J</td>\n",
       "      <td>6.0</td>\n",
       "      <td>% Sec. Nitrocellulose-!! 23, A. Hagedorn and C...</td>\n",
       "      <td>Nitrocellulose</td>\n",
       "      <td>4.674847</td>\n",
       "      <td>1.325153</td>\n",
       "      <td>0.612327</td>\n",
       "    </tr>\n",
       "    <tr>\n",
       "      <th>878</th>\n",
       "      <td>Benzaldehyde</td>\n",
       "      <td>J</td>\n",
       "      <td>1.0</td>\n",
       "      <td>% Sec. Nitrocellulose-!! 23, A. Hagedorn and C...</td>\n",
       "      <td>Nitrocellulose</td>\n",
       "      <td>2.310237</td>\n",
       "      <td>1.310237</td>\n",
       "      <td>0.612327</td>\n",
       "    </tr>\n",
       "    <tr>\n",
       "      <th>808</th>\n",
       "      <td>n-Butyl lactate</td>\n",
       "      <td>J</td>\n",
       "      <td>1.0</td>\n",
       "      <td>% Sec. Nitrocellulose-!! 23, A. Hagedorn and C...</td>\n",
       "      <td>Nitrocellulose</td>\n",
       "      <td>2.249110</td>\n",
       "      <td>1.249110</td>\n",
       "      <td>0.612327</td>\n",
       "    </tr>\n",
       "    <tr>\n",
       "      <th>871</th>\n",
       "      <td>Styrene</td>\n",
       "      <td>J</td>\n",
       "      <td>6.0</td>\n",
       "      <td>% Sec. Nitrocellulose-!! 23, A. Hagedorn and C...</td>\n",
       "      <td>Nitrocellulose</td>\n",
       "      <td>4.909613</td>\n",
       "      <td>1.090387</td>\n",
       "      <td>0.612327</td>\n",
       "    </tr>\n",
       "    <tr>\n",
       "      <th>802</th>\n",
       "      <td>Ethylene glycol</td>\n",
       "      <td>J</td>\n",
       "      <td>6.0</td>\n",
       "      <td>% Sec. Nitrocellulose-!! 23, A. Hagedorn and C...</td>\n",
       "      <td>Nitrocellulose</td>\n",
       "      <td>4.988702</td>\n",
       "      <td>1.011298</td>\n",
       "      <td>0.612327</td>\n",
       "    </tr>\n",
       "    <tr>\n",
       "      <th>811</th>\n",
       "      <td>2-Butoxyethanol</td>\n",
       "      <td>J</td>\n",
       "      <td>1.0</td>\n",
       "      <td>% Sec. Nitrocellulose-!! 23, A. Hagedorn and C...</td>\n",
       "      <td>Nitrocellulose</td>\n",
       "      <td>1.999578</td>\n",
       "      <td>0.999578</td>\n",
       "      <td>0.612327</td>\n",
       "    </tr>\n",
       "    <tr>\n",
       "      <th>857</th>\n",
       "      <td>Ethylene chloride</td>\n",
       "      <td>J</td>\n",
       "      <td>6.0</td>\n",
       "      <td>% Sec. Nitrocellulose-!! 23, A. Hagedorn and C...</td>\n",
       "      <td>Nitrocellulose</td>\n",
       "      <td>5.137198</td>\n",
       "      <td>0.862802</td>\n",
       "      <td>0.612327</td>\n",
       "    </tr>\n",
       "    <tr>\n",
       "      <th>819</th>\n",
       "      <td>Furan</td>\n",
       "      <td>J</td>\n",
       "      <td>6.0</td>\n",
       "      <td>% Sec. Nitrocellulose-!! 23, A. Hagedorn and C...</td>\n",
       "      <td>Nitrocellulose</td>\n",
       "      <td>5.153099</td>\n",
       "      <td>0.846901</td>\n",
       "      <td>0.612327</td>\n",
       "    </tr>\n",
       "    <tr>\n",
       "      <th>841</th>\n",
       "      <td>Acetonitrile</td>\n",
       "      <td>J</td>\n",
       "      <td>1.0</td>\n",
       "      <td>% Sec. Nitrocellulose-!! 23, A. Hagedorn and C...</td>\n",
       "      <td>Nitrocellulose</td>\n",
       "      <td>1.840003</td>\n",
       "      <td>0.840003</td>\n",
       "      <td>0.612327</td>\n",
       "    </tr>\n",
       "    <tr>\n",
       "      <th>795</th>\n",
       "      <td>n-Propanol</td>\n",
       "      <td>J</td>\n",
       "      <td>6.0</td>\n",
       "      <td>% Sec. Nitrocellulose-!! 23, A. Hagedorn and C...</td>\n",
       "      <td>Nitrocellulose</td>\n",
       "      <td>5.170982</td>\n",
       "      <td>0.829018</td>\n",
       "      <td>0.612327</td>\n",
       "    </tr>\n",
       "    <tr>\n",
       "      <th>792</th>\n",
       "      <td>Methanol</td>\n",
       "      <td>J</td>\n",
       "      <td>1.0</td>\n",
       "      <td>% Sec. Nitrocellulose-!! 23, A. Hagedorn and C...</td>\n",
       "      <td>Nitrocellulose</td>\n",
       "      <td>1.807023</td>\n",
       "      <td>0.807023</td>\n",
       "      <td>0.612327</td>\n",
       "    </tr>\n",
       "    <tr>\n",
       "      <th>867</th>\n",
       "      <td>Benzene</td>\n",
       "      <td>J</td>\n",
       "      <td>6.0</td>\n",
       "      <td>% Sec. Nitrocellulose-!! 23, A. Hagedorn and C...</td>\n",
       "      <td>Nitrocellulose</td>\n",
       "      <td>5.209587</td>\n",
       "      <td>0.790413</td>\n",
       "      <td>0.612327</td>\n",
       "    </tr>\n",
       "  </tbody>\n",
       "</table>\n",
       "</div>"
      ],
      "text/plain": [
       "                       Solvent short  solubility  \\\n",
       "820                   Dioxane      J         6.0   \n",
       "803             1,3 Butanediol     J         6.0   \n",
       "862  2,2-Dichlorodiethylether      J         5.0   \n",
       "839           Isoamyl acetate      J         1.0   \n",
       "846              Aniline           J         3.0   \n",
       "840       Isobutyl isobutyrate     J         1.0   \n",
       "831          Diisobutyl ketone     J         1.0   \n",
       "847            Nitrobenzene        J         1.0   \n",
       "793                Ethanol 96%     J         6.0   \n",
       "878              Benzaldehyde      J         1.0   \n",
       "808           n-Butyl lactate      J         1.0   \n",
       "871            Styrene             J         6.0   \n",
       "802            Ethylene glycol     J         6.0   \n",
       "811           2-Butoxyethanol      J         1.0   \n",
       "857         Ethylene chloride      J         6.0   \n",
       "819                     Furan      J         6.0   \n",
       "841              Acetonitrile      J         1.0   \n",
       "795                n-Propanol      J         6.0   \n",
       "792                  Methanol      J         1.0   \n",
       "867               Benzene          J         6.0   \n",
       "\n",
       "                                                   all         polymer  \\\n",
       "820  % Sec. Nitrocellulose-!! 23, A. Hagedorn and C...  Nitrocellulose   \n",
       "803  % Sec. Nitrocellulose-!! 23, A. Hagedorn and C...  Nitrocellulose   \n",
       "862  % Sec. Nitrocellulose-!! 23, A. Hagedorn and C...  Nitrocellulose   \n",
       "839  % Sec. Nitrocellulose-!! 23, A. Hagedorn and C...  Nitrocellulose   \n",
       "846  % Sec. Nitrocellulose-!! 23, A. Hagedorn and C...  Nitrocellulose   \n",
       "840  % Sec. Nitrocellulose-!! 23, A. Hagedorn and C...  Nitrocellulose   \n",
       "831  % Sec. Nitrocellulose-!! 23, A. Hagedorn and C...  Nitrocellulose   \n",
       "847  % Sec. Nitrocellulose-!! 23, A. Hagedorn and C...  Nitrocellulose   \n",
       "793  % Sec. Nitrocellulose-!! 23, A. Hagedorn and C...  Nitrocellulose   \n",
       "878  % Sec. Nitrocellulose-!! 23, A. Hagedorn and C...  Nitrocellulose   \n",
       "808  % Sec. Nitrocellulose-!! 23, A. Hagedorn and C...  Nitrocellulose   \n",
       "871  % Sec. Nitrocellulose-!! 23, A. Hagedorn and C...  Nitrocellulose   \n",
       "802  % Sec. Nitrocellulose-!! 23, A. Hagedorn and C...  Nitrocellulose   \n",
       "811  % Sec. Nitrocellulose-!! 23, A. Hagedorn and C...  Nitrocellulose   \n",
       "857  % Sec. Nitrocellulose-!! 23, A. Hagedorn and C...  Nitrocellulose   \n",
       "819  % Sec. Nitrocellulose-!! 23, A. Hagedorn and C...  Nitrocellulose   \n",
       "841  % Sec. Nitrocellulose-!! 23, A. Hagedorn and C...  Nitrocellulose   \n",
       "795  % Sec. Nitrocellulose-!! 23, A. Hagedorn and C...  Nitrocellulose   \n",
       "792  % Sec. Nitrocellulose-!! 23, A. Hagedorn and C...  Nitrocellulose   \n",
       "867  % Sec. Nitrocellulose-!! 23, A. Hagedorn and C...  Nitrocellulose   \n",
       "\n",
       "     predictions        SE   SE_mean  \n",
       "820     2.914037  3.085963  0.612327  \n",
       "803     3.071082  2.928918  0.612327  \n",
       "862     2.354406  2.645594  0.612327  \n",
       "839     3.595124  2.595124  0.612327  \n",
       "846     1.085439  1.914561  0.612327  \n",
       "840     2.814014  1.814014  0.612327  \n",
       "831     2.727038  1.727038  0.612327  \n",
       "847     2.381097  1.381097  0.612327  \n",
       "793     4.674847  1.325153  0.612327  \n",
       "878     2.310237  1.310237  0.612327  \n",
       "808     2.249110  1.249110  0.612327  \n",
       "871     4.909613  1.090387  0.612327  \n",
       "802     4.988702  1.011298  0.612327  \n",
       "811     1.999578  0.999578  0.612327  \n",
       "857     5.137198  0.862802  0.612327  \n",
       "819     5.153099  0.846901  0.612327  \n",
       "841     1.840003  0.840003  0.612327  \n",
       "795     5.170982  0.829018  0.612327  \n",
       "792     1.807023  0.807023  0.612327  \n",
       "867     5.209587  0.790413  0.612327  "
      ]
     },
     "execution_count": 39,
     "metadata": {},
     "output_type": "execute_result"
    }
   ],
   "source": [
    "df_long.loc[df_long['polymer'] == 'Nitrocellulose'].sort_values('SE',ascending=False).head(20)"
   ]
  },
  {
   "cell_type": "code",
   "execution_count": 40,
   "metadata": {
    "colab": {
     "base_uri": "https://localhost:8080/",
     "height": 296
    },
    "colab_type": "code",
    "executionInfo": {
     "elapsed": 821,
     "status": "ok",
     "timestamp": 1583075520262,
     "user": {
      "displayName": "Christoph Loschen",
      "photoUrl": "",
      "userId": "06846131955017515958"
     },
     "user_tz": -60
    },
    "id": "qNPMQlkbl2O8",
    "outputId": "374e0583-2ade-48a9-e6d7-3d1d32387bd9"
   },
   "outputs": [
    {
     "data": {
      "text/plain": [
       "<matplotlib.axes._subplots.AxesSubplot at 0x7f89c2c3ba90>"
      ]
     },
     "execution_count": 40,
     "metadata": {},
     "output_type": "execute_result"
    },
    {
     "data": {
      "image/png": "[encoded data removed]",
      "text/plain": [
       "<Figure size 432x288 with 1 Axes>"
      ]
     },
     "metadata": {
      "needs_background": "light"
     },
     "output_type": "display_data"
    }
   ],
   "source": [
    "sbn.boxplot(df_long['solubility'],df_long['predictions'])"
   ]
  },
  {
   "cell_type": "code",
   "execution_count": 41,
   "metadata": {
    "colab": {
     "base_uri": "https://localhost:8080/",
     "height": 34
    },
    "colab_type": "code",
    "executionInfo": {
     "elapsed": 766,
     "status": "ok",
     "timestamp": 1583075524150,
     "user": {
      "displayName": "Christoph Loschen",
      "photoUrl": "",
      "userId": "06846131955017515958"
     },
     "user_tz": -60
    },
    "id": "J1zsh6w0l2O-",
    "outputId": "a67a23fd-97a6-4018-daeb-ed0924fe5245"
   },
   "outputs": [
    {
     "name": "stdout",
     "output_type": "stream",
     "text": [
      "MAE: 0.5297 RMSE:  0.781\n"
     ]
    }
   ],
   "source": [
    "from sklearn.metrics import mean_absolute_error, mean_squared_error\n",
    "mae = mean_absolute_error(df_long['solubility'],df_long['predictions'])\n",
    "rmse = mean_squared_error(df_long['solubility'],df_long['predictions'])**0.5\n",
    "print(\"MAE: {:6.4f} RMSE: {:6.3f}\".format(mae,rmse))"
   ]
  },
  {
   "cell_type": "markdown",
   "metadata": {
    "colab_type": "text",
    "id": "4WAOqIe4l2PA"
   },
   "source": [
    "   # Interpretation\n",
    "\n",
    "   Here we try to interpret the learned embeddings, in particular if they correspond to some physicochemical properties and/or descriptors."
   ]
  },
  {
   "cell_type": "code",
   "execution_count": 43,
   "metadata": {
    "colab": {
     "base_uri": "https://localhost:8080/",
     "height": 581
    },
    "colab_type": "code",
    "executionInfo": {
     "elapsed": 754,
     "status": "ok",
     "timestamp": 1583075535349,
     "user": {
      "displayName": "Christoph Loschen",
      "photoUrl": "",
      "userId": "06846131955017515958"
     },
     "user_tz": -60
    },
    "id": "Js2mvm_Cl2PA",
    "outputId": "0e98124d-bf50-41f3-8040-e9caec7bbd3d"
   },
   "outputs": [],
   "source": [
    "learn.load('polymer');"
   ]
  },
  {
   "cell_type": "code",
   "execution_count": 44,
   "metadata": {
    "colab": {
     "base_uri": "https://localhost:8080/",
     "height": 34
    },
    "colab_type": "code",
    "executionInfo": {
     "elapsed": 751,
     "status": "ok",
     "timestamp": 1583075538626,
     "user": {
      "displayName": "Christoph Loschen",
      "photoUrl": "",
      "userId": "06846131955017515958"
     },
     "user_tz": -60
    },
    "id": "rsjVMhz8l2PD",
    "outputId": "f75aa1a8-7beb-4364-a920-aea06579de8c"
   },
   "outputs": [
    {
     "data": {
      "text/plain": [
       "torch.Size([33])"
      ]
     },
     "execution_count": 44,
     "metadata": {},
     "output_type": "execute_result"
    }
   ],
   "source": [
    "polymer_bias = learn.bias(top_polymers, is_item=True)\n",
    "polymer_bias.shape"
   ]
  },
  {
   "cell_type": "code",
   "execution_count": 45,
   "metadata": {
    "colab": {},
    "colab_type": "code",
    "id": "uKMZ9Cb7l2PG"
   },
   "outputs": [],
   "source": [
    "mean_ratings = df_long.groupby('polymer')['solubility'].mean()\n",
    "polymer_ratings = [(b.item(), i, mean_ratings.loc[i]) for i,b in zip(top_polymers,polymer_bias)]"
   ]
  },
  {
   "cell_type": "code",
   "execution_count": 46,
   "metadata": {
    "colab": {},
    "colab_type": "code",
    "id": "jeFLyicil2PJ"
   },
   "outputs": [],
   "source": [
    "item0 = lambda o:o[0]"
   ]
  },
  {
   "cell_type": "code",
   "execution_count": 47,
   "metadata": {
    "colab": {
     "base_uri": "https://localhost:8080/",
     "height": 272
    },
    "colab_type": "code",
    "executionInfo": {
     "elapsed": 758,
     "status": "ok",
     "timestamp": 1583075542265,
     "user": {
      "displayName": "Christoph Loschen",
      "photoUrl": "",
      "userId": "06846131955017515958"
     },
     "user_tz": -60
    },
    "id": "GVzkxI2Hl2PK",
    "outputId": "2bd55330-2170-4b95-c044-a413cde2b1de"
   },
   "outputs": [
    {
     "data": {
      "text/plain": [
       "[(-1.511541724205017, 'Polyester', 1.6896552),\n",
       " (-1.458953857421875, 'Phenolic Resin', 1.3295455),\n",
       " (-1.4562469720840454, 'hexamethoxy melamine', 1.2613636),\n",
       " (-1.1389750242233276, 'Plexal alkyd', 1.9090909),\n",
       " (-0.8391879200935364, 'coconut oil-phthalic anhydride alkyd', 1.8863636),\n",
       " (-0.7986485362052917, 'pentaerythritol ester of rosin', 2.034091),\n",
       " (-0.6752591729164124, 'alcohol soluble resin 830', 2.0),\n",
       " (-0.6638078689575195, 'Epikote epoxy', 2.1363637),\n",
       " (-0.6293772459030151, 'Ester gum', 2.1704545),\n",
       " (-0.5470041632652283, 'phenol-resol resin', 3.2045455),\n",
       " (-0.5220370888710022, 'poly (ethyl methacrylate)', 2.0113637),\n",
       " (-0.44126516580581665, 'poly (vinyl acetate)', 2.1363637),\n",
       " (-0.3716408312320709, 'akohol soluble resin 255', 2.8181818),\n",
       " (-0.36254385113716125, 'furfuryl alcohol resin', 2.7954545),\n",
       " (-0.29995399713516235, 'poly (vinyl butyral)', 2.3181818)]"
      ]
     },
     "execution_count": 47,
     "metadata": {},
     "output_type": "execute_result"
    }
   ],
   "source": [
    "sorted(polymer_ratings, key=item0)[:15]"
   ]
  },
  {
   "cell_type": "code",
   "execution_count": 48,
   "metadata": {
    "colab": {
     "base_uri": "https://localhost:8080/",
     "height": 34
    },
    "colab_type": "code",
    "executionInfo": {
     "elapsed": 909,
     "status": "ok",
     "timestamp": 1583075567834,
     "user": {
      "displayName": "Christoph Loschen",
      "photoUrl": "",
      "userId": "06846131955017515958"
     },
     "user_tz": -60
    },
    "id": "HXBd1XqXl2PN",
    "outputId": "8cbb2c74-16b1-4852-b787-18919aa36924"
   },
   "outputs": [
    {
     "data": {
      "text/plain": [
       "torch.Size([33, 5])"
      ]
     },
     "execution_count": 48,
     "metadata": {},
     "output_type": "execute_result"
    }
   ],
   "source": [
    "movie_w = learn.weight(top_polymers, is_item=True)\n",
    "movie_w.shape"
   ]
  },
  {
   "cell_type": "code",
   "execution_count": 49,
   "metadata": {
    "colab": {
     "base_uri": "https://localhost:8080/",
     "height": 34
    },
    "colab_type": "code",
    "executionInfo": {
     "elapsed": 906,
     "status": "ok",
     "timestamp": 1583075568706,
     "user": {
      "displayName": "Christoph Loschen",
      "photoUrl": "",
      "userId": "06846131955017515958"
     },
     "user_tz": -60
    },
    "id": "wct0F0FWl2PQ",
    "outputId": "a3ec75c6-7538-4580-af77-2960d7bdd098"
   },
   "outputs": [
    {
     "data": {
      "text/plain": [
       "torch.Size([33, 3])"
      ]
     },
     "execution_count": 49,
     "metadata": {},
     "output_type": "execute_result"
    }
   ],
   "source": [
    "movie_pca = movie_w.pca(3)\n",
    "movie_pca.shape"
   ]
  },
  {
   "cell_type": "code",
   "execution_count": 50,
   "metadata": {
    "colab": {},
    "colab_type": "code",
    "id": "8M5BPLfSl2PT"
   },
   "outputs": [],
   "source": [
    "fac0,fac1,fac2 = movie_pca.t()\n",
    "polymer_comp = [(f, i) for f,i in zip(fac0, top_polymers)]"
   ]
  },
  {
   "cell_type": "code",
   "execution_count": 51,
   "metadata": {
    "colab": {
     "base_uri": "https://localhost:8080/",
     "height": 187
    },
    "colab_type": "code",
    "executionInfo": {
     "elapsed": 828,
     "status": "ok",
     "timestamp": 1583075571626,
     "user": {
      "displayName": "Christoph Loschen",
      "photoUrl": "",
      "userId": "06846131955017515958"
     },
     "user_tz": -60
    },
    "id": "88J3yKUQl2PU",
    "outputId": "870bcf38-b887-4495-8725-f28e07a9abdd"
   },
   "outputs": [
    {
     "data": {
      "text/plain": [
       "[(tensor(2.4272), 'terpene resin'),\n",
       " (tensor(2.3092), 'petroleum hydrocarbon resin'),\n",
       " (tensor(2.0871), 'poIy (isobutylene)'),\n",
       " (tensor(1.9997), 'isoprene'),\n",
       " (tensor(1.9296), 'cis poly butadiene '),\n",
       " (tensor(1.8371), 'styrene-butadiene (SBR)'),\n",
       " (tensor(1.4173), 'Polystyrene'),\n",
       " (tensor(1.2220), 'cumarone-indene resin'),\n",
       " (tensor(1.1789), 'Ester gum'),\n",
       " (tensor(0.7506), 'pentaerythritol ester of rosin')]"
      ]
     },
     "execution_count": 51,
     "metadata": {},
     "output_type": "execute_result"
    }
   ],
   "source": [
    "sorted(polymer_comp, key=itemgetter(0), reverse=True)[:10]"
   ]
  },
  {
   "cell_type": "code",
   "execution_count": 52,
   "metadata": {
    "colab": {
     "base_uri": "https://localhost:8080/",
     "height": 187
    },
    "colab_type": "code",
    "executionInfo": {
     "elapsed": 950,
     "status": "ok",
     "timestamp": 1583075573421,
     "user": {
      "displayName": "Christoph Loschen",
      "photoUrl": "",
      "userId": "06846131955017515958"
     },
     "user_tz": -60
    },
    "id": "KARF3R5ql2PW",
    "outputId": "60b65e74-1f73-4d13-b636-806b2f4e883c"
   },
   "outputs": [
    {
     "data": {
      "text/plain": [
       "[(tensor(-2.0999), 'phenol-resol resin'),\n",
       " (tensor(-1.9046), 'akohol soluble resin 255'),\n",
       " (tensor(-1.8175), ' isocyanate (phenol)'),\n",
       " (tensor(-1.6700), 'lignin'),\n",
       " (tensor(-1.6170), 'Nitrocellulose'),\n",
       " (tensor(-1.5084), 'urea formaldehyde resin'),\n",
       " (tensor(-1.2535), 'furfuryl alcohol resin'),\n",
       " (tensor(-1.2297), 'Polyester'),\n",
       " (tensor(-1.1110), 'Cellulose acetate'),\n",
       " (tensor(-1.0091), 'poly (vinyl acetate)')]"
      ]
     },
     "execution_count": 52,
     "metadata": {},
     "output_type": "execute_result"
    }
   ],
   "source": [
    "sorted(polymer_comp, key=itemgetter(0))[:10]"
   ]
  },
  {
   "cell_type": "code",
   "execution_count": 53,
   "metadata": {
    "colab": {},
    "colab_type": "code",
    "id": "IHH4KyINl2PY"
   },
   "outputs": [],
   "source": [
    "polymer_comp = [(f, i) for f,i in zip(fac1, top_polymers)]"
   ]
  },
  {
   "cell_type": "code",
   "execution_count": 54,
   "metadata": {
    "colab": {
     "base_uri": "https://localhost:8080/",
     "height": 187
    },
    "colab_type": "code",
    "executionInfo": {
     "elapsed": 440,
     "status": "ok",
     "timestamp": 1583075575812,
     "user": {
      "displayName": "Christoph Loschen",
      "photoUrl": "",
      "userId": "06846131955017515958"
     },
     "user_tz": -60
    },
    "id": "xa4fuVFol2Pa",
    "outputId": "01a9939a-f696-44f0-c55b-ba4980018464"
   },
   "outputs": [
    {
     "data": {
      "text/plain": [
       "[(tensor(-2.0351), 'polyamide'),\n",
       " (tensor(-1.8825), 'poIy (isobutylene)'),\n",
       " (tensor(-1.8567), 'poly (vinyl butyral)'),\n",
       " (tensor(-1.7696), 'akohol soluble resin 255'),\n",
       " (tensor(-1.4629), 'alcohol soluble resin 830'),\n",
       " (tensor(-1.4358), 'urea formaldehyde resin'),\n",
       " (tensor(-1.0520), 'pentaerythritol ester of rosin'),\n",
       " (tensor(-0.7186), 'hexamethoxy melamine'),\n",
       " (tensor(-0.7005), 'Ester gum'),\n",
       " (tensor(-0.6341), 'Phenolic Resin')]"
      ]
     },
     "execution_count": 54,
     "metadata": {},
     "output_type": "execute_result"
    }
   ],
   "source": [
    "sorted(polymer_comp, key=itemgetter(0), reverse=False)[:10]"
   ]
  },
  {
   "cell_type": "code",
   "execution_count": 55,
   "metadata": {
    "colab": {
     "base_uri": "https://localhost:8080/",
     "height": 187
    },
    "colab_type": "code",
    "executionInfo": {
     "elapsed": 501,
     "status": "ok",
     "timestamp": 1583075577054,
     "user": {
      "displayName": "Christoph Loschen",
      "photoUrl": "",
      "userId": "06846131955017515958"
     },
     "user_tz": -60
    },
    "id": "xVzaWXlTl2Pc",
    "outputId": "e34e497e-f893-4eb2-f70d-6483f4d98098"
   },
   "outputs": [
    {
     "data": {
      "text/plain": [
       "[(tensor(1.4824), 'Nitrocellulose'),\n",
       " (tensor(1.3826), 'acrylonitrile-butadiene'),\n",
       " (tensor(1.3192), 'Polystyrene'),\n",
       " (tensor(1.2893), 'Poly (methyl methacrylate)'),\n",
       " (tensor(1.2830), 'poly (vinyl chloride)'),\n",
       " (tensor(1.1330), 'chlorinated poly (propylene)'),\n",
       " (tensor(0.8796), 'Cellulose acetate'),\n",
       " (tensor(0.7444), 'cumarone-indene resin'),\n",
       " (tensor(0.6660), 'Polyester'),\n",
       " (tensor(0.6078), 'styrene-butadiene (SBR)')]"
      ]
     },
     "execution_count": 55,
     "metadata": {},
     "output_type": "execute_result"
    }
   ],
   "source": [
    "sorted(polymer_comp, key=itemgetter(0), reverse=True)[:10]"
   ]
  },
  {
   "cell_type": "code",
   "execution_count": 56,
   "metadata": {
    "colab": {
     "base_uri": "https://localhost:8080/",
     "height": 153
    },
    "colab_type": "code",
    "executionInfo": {
     "elapsed": 527,
     "status": "ok",
     "timestamp": 1583075578249,
     "user": {
      "displayName": "Christoph Loschen",
      "photoUrl": "",
      "userId": "06846131955017515958"
     },
     "user_tz": -60
    },
    "id": "uGRaGNEfl2Pe",
    "outputId": "9d7def7c-c3c0-4946-918e-7c7e22b9f469"
   },
   "outputs": [
    {
     "data": {
      "text/plain": [
       "array(['poly (ethyl methacrylate)', 'poly (vinyl chloride)', 'styrene-butadiene (SBR)', 'urea formaldehyde resin',\n",
       "       'Nitrocellulose', 'Polystyrene', 'Epikote epoxy', 'poIy (isobutylene)', 'Phenolic Resin', 'terpene resin',\n",
       "       'petroleum hydrocarbon resin', 'cumarone-indene resin', 'acrylonitrile-butadiene', 'phenol-resol resin',\n",
       "       'Plexal alkyd', 'pentaerythritol ester of rosin', 'alcohol soluble resin 830', 'cis poly butadiene ',\n",
       "       'hexamethoxy melamine', 'polyamide', 'isoprene', 'Polyester', 'Cellulose acetate', 'furfuryl alcohol resin',\n",
       "       'poly (vinyl acetate)', 'lignin', 'coconut oil-phthalic anhydride alkyd', 'chlorinated poly (propylene)',\n",
       "       'Poly (methyl methacrylate)', ' isocyanate (phenol)', 'poly (vinyl butyral)', 'akohol soluble resin 255',\n",
       "       'Ester gum'], dtype='<U36')"
      ]
     },
     "execution_count": 56,
     "metadata": {},
     "output_type": "execute_result"
    }
   ],
   "source": [
    "top_polymers"
   ]
  },
  {
   "cell_type": "code",
   "execution_count": 57,
   "metadata": {
    "colab": {
     "base_uri": "https://localhost:8080/",
     "height": 880
    },
    "colab_type": "code",
    "executionInfo": {
     "elapsed": 1571,
     "status": "ok",
     "timestamp": 1583075581624,
     "user": {
      "displayName": "Christoph Loschen",
      "photoUrl": "",
      "userId": "06846131955017515958"
     },
     "user_tz": -60
    },
    "id": "zg02X3fpl2Pg",
    "outputId": "6b219468-9490-48df-ffd7-9d8542669c6d"
   },
   "outputs": [
    {
     "name": "stdout",
     "output_type": "stream",
     "text": [
      "33\n"
     ]
    },
    {
     "data": {
      "image/png": "[encoded data removed]",
      "text/plain": [
       "<Figure size 1080x1080 with 1 Axes>"
      ]
     },
     "metadata": {
      "needs_background": "light"
     },
     "output_type": "display_data"
    }
   ],
   "source": [
    "print(len(top_polymers))\n",
    "idxs = np.random.choice(len(top_polymers), 33, replace=False)\n",
    "\n",
    "X = fac0[idxs]\n",
    "Y = fac1[idxs]\n",
    "plt.figure(figsize=(15,15))\n",
    "plt.scatter(X, Y)\n",
    "for i, x, y in zip(top_polymers[idxs], X, Y):\n",
    "    plt.text(x,y,i, color=np.random.rand(3)*0.7, fontsize=11)\n",
    "plt.show()"
   ]
  },
  {
   "cell_type": "markdown",
   "metadata": {
    "colab_type": "text",
    "id": "nlUC8xiTod_3"
   },
   "source": [
    "The figure above shows the polymer features space projected onto the 2 main principle components."
   ]
  },
  {
   "cell_type": "markdown",
   "metadata": {
    "colab_type": "text",
    "id": "LKJSYvtQqLZE"
   },
   "source": [
    "## Solvents"
   ]
  },
  {
   "cell_type": "code",
   "execution_count": 58,
   "metadata": {
    "colab": {
     "base_uri": "https://localhost:8080/",
     "height": 68
    },
    "colab_type": "code",
    "executionInfo": {
     "elapsed": 793,
     "status": "ok",
     "timestamp": 1583075584357,
     "user": {
      "displayName": "Christoph Loschen",
      "photoUrl": "",
      "userId": "06846131955017515958"
     },
     "user_tz": -60
    },
    "id": "en7Y7r2ml2Ph",
    "outputId": "3c341ed5-ae4a-4a9f-d666-0a62ad47be81"
   },
   "outputs": [
    {
     "name": "stdout",
     "output_type": "stream",
     "text": [
      "['Methanol ' 'Ethanol 96%' 'Ethanol 99%' 'n-Propanol ' ... 'Formic acid 90%' ' Butyric acid    ' 'Benzaldehyde '\n",
      " 'Acetic anhydride ']\n"
     ]
    },
    {
     "data": {
      "text/plain": [
       "torch.Size([88, 5])"
      ]
     },
     "execution_count": 58,
     "metadata": {},
     "output_type": "execute_result"
    }
   ],
   "source": [
    "print(top_solvents)\n",
    "solvent_w = learn.weight(top_solvents, is_item=False)\n",
    "solvent_w.shape"
   ]
  },
  {
   "cell_type": "code",
   "execution_count": 59,
   "metadata": {
    "colab": {
     "base_uri": "https://localhost:8080/",
     "height": 34
    },
    "colab_type": "code",
    "executionInfo": {
     "elapsed": 785,
     "status": "ok",
     "timestamp": 1583075586075,
     "user": {
      "displayName": "Christoph Loschen",
      "photoUrl": "",
      "userId": "06846131955017515958"
     },
     "user_tz": -60
    },
    "id": "PIVIt_dKl2Pj",
    "outputId": "855e08fb-26fa-4d12-edcf-40303dbc304e"
   },
   "outputs": [
    {
     "data": {
      "text/plain": [
       "torch.Size([88, 3])"
      ]
     },
     "execution_count": 59,
     "metadata": {},
     "output_type": "execute_result"
    }
   ],
   "source": [
    "solvent_pca = solvent_w.pca(3)\n",
    "solvent_pca.shape"
   ]
  },
  {
   "cell_type": "code",
   "execution_count": 60,
   "metadata": {
    "colab": {
     "base_uri": "https://localhost:8080/",
     "height": 187
    },
    "colab_type": "code",
    "executionInfo": {
     "elapsed": 492,
     "status": "ok",
     "timestamp": 1583075587405,
     "user": {
      "displayName": "Christoph Loschen",
      "photoUrl": "",
      "userId": "06846131955017515958"
     },
     "user_tz": -60
    },
    "id": "CmePT5thl2Pl",
    "outputId": "1cb8fe09-e35a-417e-a36b-f45a303c5c52"
   },
   "outputs": [
    {
     "data": {
      "text/plain": [
       "[(tensor(1.9440), 'Dipropylene glycol'),\n",
       " (tensor(1.7700), 'Diethylene glycol'),\n",
       " (tensor(1.6478), 'Dimethyl sulphoxide'),\n",
       " (tensor(1.3284), 'Acetic acid '),\n",
       " (tensor(1.3157), 'Ethyl lactate '),\n",
       " (tensor(1.3095), 'Methyl Cellosolve '),\n",
       " (tensor(1.2806), 'Ethanolamine   '),\n",
       " (tensor(1.2013), 'Methanol '),\n",
       " (tensor(1.1993), 'Methyl dioxitol '),\n",
       " (tensor(1.1856), 'y-Butyrolactone ')]"
      ]
     },
     "execution_count": 60,
     "metadata": {},
     "output_type": "execute_result"
    }
   ],
   "source": [
    "fac0,fac1,fac2 = solvent_pca.t()\n",
    "solvent_comp = [(f, i) for f,i in zip(fac0, top_solvents)]\n",
    "sorted(solvent_comp, key=itemgetter(0), reverse=True)[:10]"
   ]
  },
  {
   "cell_type": "code",
   "execution_count": 61,
   "metadata": {
    "colab": {
     "base_uri": "https://localhost:8080/",
     "height": 187
    },
    "colab_type": "code",
    "executionInfo": {
     "elapsed": 759,
     "status": "ok",
     "timestamp": 1583075589322,
     "user": {
      "displayName": "Christoph Loschen",
      "photoUrl": "",
      "userId": "06846131955017515958"
     },
     "user_tz": -60
    },
    "id": "-W1MIGS3l2Pm",
    "outputId": "8e960459-1a54-4341-fe9a-43000f4a4e88"
   },
   "outputs": [
    {
     "data": {
      "text/plain": [
       "[(tensor(-1.6316), 'Ethyl benzene '),\n",
       " (tensor(-1.5449), 'Benzene     '),\n",
       " (tensor(-1.4641), '1,1,1 Trichloroethane'),\n",
       " (tensor(-1.3850), 'Isoamyl acetate '),\n",
       " (tensor(-1.3618), 'Cyclohexylchloride '),\n",
       " (tensor(-1.3517), 'n-Butyl acetate '),\n",
       " (tensor(-1.3500), 'Xylene      '),\n",
       " (tensor(-1.3242), 'Isobutyl isobutyrate'),\n",
       " (tensor(-1.2733), 'Toluene         '),\n",
       " (tensor(-1.2611), 'Methylene chloride ')]"
      ]
     },
     "execution_count": 61,
     "metadata": {},
     "output_type": "execute_result"
    }
   ],
   "source": [
    "sorted(solvent_comp, key=itemgetter(0), reverse=False)[:10]"
   ]
  },
  {
   "cell_type": "code",
   "execution_count": 62,
   "metadata": {
    "colab": {
     "base_uri": "https://localhost:8080/",
     "height": 880
    },
    "colab_type": "code",
    "executionInfo": {
     "elapsed": 1941,
     "status": "ok",
     "timestamp": 1583075615446,
     "user": {
      "displayName": "Christoph Loschen",
      "photoUrl": "",
      "userId": "06846131955017515958"
     },
     "user_tz": -60
    },
    "id": "pTi5l-XHl2Po",
    "outputId": "a07265d0-8d02-4c13-ae48-f6d8d853a8d3"
   },
   "outputs": [
    {
     "name": "stdout",
     "output_type": "stream",
     "text": [
      "88\n"
     ]
    },
    {
     "data": {
      "image/png": "[encoded data removed]",
      "text/plain": [
       "<Figure size 1080x1080 with 1 Axes>"
      ]
     },
     "metadata": {
      "needs_background": "light"
     },
     "output_type": "display_data"
    }
   ],
   "source": [
    "print(len(top_solvents))\n",
    "idxs = np.random.choice(len(top_solvents), 50, replace=False)\n",
    "\n",
    "X = fac0[idxs]\n",
    "Y = fac1[idxs]\n",
    "plt.figure(figsize=(15,15))\n",
    "plt.scatter(X, Y)\n",
    "for i, x, y in zip(top_solvents[idxs], X, Y):\n",
    "    plt.text(x,y,i, color=np.random.rand(3)*0.7, fontsize=11)\n",
    "plt.show()"
   ]
  },
  {
   "cell_type": "markdown",
   "metadata": {
    "colab_type": "text",
    "id": "_bj6CVROoUJC"
   },
   "source": [
    "The figure above shows the solvent features space projected onto the 2 main principle components."
   ]
  },
  {
   "cell_type": "markdown",
   "metadata": {
    "colab_type": "text",
    "id": "irdk1-T3l2P7"
   },
   "source": [
    "# Correlation of Learned Embeddings with RDKit descriptors"
   ]
  },
  {
   "cell_type": "markdown",
   "metadata": {
    "colab_type": "text",
    "id": "Rj1zN-AKrINI"
   },
   "source": [
    "First we have to install the cheminformatic package RDKit via conda, which may take some time."
   ]
  },
  {
   "cell_type": "code",
   "execution_count": 63,
   "metadata": {
    "colab": {
     "base_uri": "https://localhost:8080/",
     "height": 1000
    },
    "colab_type": "code",
    "executionInfo": {
     "elapsed": 39430,
     "status": "ok",
     "timestamp": 1583076096103,
     "user": {
      "displayName": "Christoph Loschen",
      "photoUrl": "",
      "userId": "06846131955017515958"
     },
     "user_tz": -60
    },
    "id": "RBBTL8QRqgRZ",
    "outputId": "a3d5c104-5e9a-432a-93e6-284a2eed43d3"
   },
   "outputs": [],
   "source": [
    "# see also https://iwatobipen.wordpress.com/2018/11/01/run-rdkit-and-deep-learning-on-google-colab-rdkit/\n",
    "# uncomment those lines below\n",
    "#!wget -c https://repo.continuum.io/miniconda/Miniconda3-latest-Linux-x86_64.sh\n",
    "#!chmod +x Miniconda3-latest-Linux-x86_64.sh\n",
    "#!time bash ./Miniconda3-latest-Linux-x86_64.sh -b -f -p /usr/local\n",
    "#!time conda install -q -y -c conda-forge rdkit"
   ]
  },
  {
   "cell_type": "code",
   "execution_count": 64,
   "metadata": {
    "colab": {},
    "colab_type": "code",
    "id": "gT817hd0l2P8"
   },
   "outputs": [],
   "source": [
    "import sys\n",
    "sys.path.append('/usr/local/lib/python3.7/site-packages/')\n",
    "\n",
    "from rdkit import Chem\n",
    "from rdkit.ML.Descriptors import MoleculeDescriptors\n",
    "from rdkit.Chem import Descriptors"
   ]
  },
  {
   "cell_type": "code",
   "execution_count": 65,
   "metadata": {
    "colab": {
     "base_uri": "https://localhost:8080/",
     "height": 34
    },
    "colab_type": "code",
    "executionInfo": {
     "elapsed": 791,
     "status": "ok",
     "timestamp": 1583076130824,
     "user": {
      "displayName": "Christoph Loschen",
      "photoUrl": "",
      "userId": "06846131955017515958"
     },
     "user_tz": -60
    },
    "id": "wNjxJOcCl2P9",
    "outputId": "3c512fff-f4bc-45a9-9a08-2e0f088aaf8a"
   },
   "outputs": [
    {
     "data": {
      "text/plain": [
       "200"
      ]
     },
     "execution_count": 65,
     "metadata": {},
     "output_type": "execute_result"
    }
   ],
   "source": [
    "len(Descriptors._descList)"
   ]
  },
  {
   "cell_type": "code",
   "execution_count": 66,
   "metadata": {
    "colab": {
     "base_uri": "https://localhost:8080/",
     "height": 419
    },
    "colab_type": "code",
    "executionInfo": {
     "elapsed": 2244,
     "status": "ok",
     "timestamp": 1583076339726,
     "user": {
      "displayName": "Christoph Loschen",
      "photoUrl": "",
      "userId": "06846131955017515958"
     },
     "user_tz": -60
    },
    "id": "pwp-fFZus6fj",
    "outputId": "27f3fc09-af63-49d2-9a15-7a2145babb35"
   },
   "outputs": [
    {
     "data": {
      "text/html": [
       "<div>\n",
       "<style scoped>\n",
       "    .dataframe tbody tr th:only-of-type {\n",
       "        vertical-align: middle;\n",
       "    }\n",
       "\n",
       "    .dataframe tbody tr th {\n",
       "        vertical-align: top;\n",
       "    }\n",
       "\n",
       "    .dataframe thead th {\n",
       "        text-align: right;\n",
       "    }\n",
       "</style>\n",
       "<table border=\"1\" class=\"dataframe\">\n",
       "  <thead>\n",
       "    <tr style=\"text-align: right;\">\n",
       "      <th></th>\n",
       "      <th>orig_nr</th>\n",
       "      <th>SMILES</th>\n",
       "      <th>curated_name</th>\n",
       "      <th>original name</th>\n",
       "    </tr>\n",
       "  </thead>\n",
       "  <tbody>\n",
       "    <tr>\n",
       "      <th>0</th>\n",
       "      <td>1</td>\n",
       "      <td>CO</td>\n",
       "      <td>Methanol</td>\n",
       "      <td>Methanol</td>\n",
       "    </tr>\n",
       "    <tr>\n",
       "      <th>1</th>\n",
       "      <td>2</td>\n",
       "      <td>CCO</td>\n",
       "      <td>Ethanol</td>\n",
       "      <td>Ethanol 96%</td>\n",
       "    </tr>\n",
       "    <tr>\n",
       "      <th>2</th>\n",
       "      <td>3</td>\n",
       "      <td>CCO</td>\n",
       "      <td>Ethanol</td>\n",
       "      <td>Ethanol 99%</td>\n",
       "    </tr>\n",
       "    <tr>\n",
       "      <th>3</th>\n",
       "      <td>4</td>\n",
       "      <td>CCCO</td>\n",
       "      <td>n-Propanol</td>\n",
       "      <td>n-Propanol</td>\n",
       "    </tr>\n",
       "    <tr>\n",
       "      <th>4</th>\n",
       "      <td>5</td>\n",
       "      <td>CCCCO</td>\n",
       "      <td>n-Butanol</td>\n",
       "      <td>n-Butanol</td>\n",
       "    </tr>\n",
       "    <tr>\n",
       "      <th>...</th>\n",
       "      <td>...</td>\n",
       "      <td>...</td>\n",
       "      <td>...</td>\n",
       "      <td>...</td>\n",
       "    </tr>\n",
       "    <tr>\n",
       "      <th>83</th>\n",
       "      <td>66</td>\n",
       "      <td>OC(C)=O</td>\n",
       "      <td>Acetic acid</td>\n",
       "      <td>Acetic acid</td>\n",
       "    </tr>\n",
       "    <tr>\n",
       "      <th>84</th>\n",
       "      <td>67</td>\n",
       "      <td>OC=O</td>\n",
       "      <td>Formic acid</td>\n",
       "      <td>Formic acid 90%</td>\n",
       "    </tr>\n",
       "    <tr>\n",
       "      <th>85</th>\n",
       "      <td>67A</td>\n",
       "      <td>CCCC(=O)O</td>\n",
       "      <td>Butyric acid</td>\n",
       "      <td>Butyric acid</td>\n",
       "    </tr>\n",
       "    <tr>\n",
       "      <th>86</th>\n",
       "      <td>68</td>\n",
       "      <td>O=Cc1ccccc1</td>\n",
       "      <td>Benzaldehyde</td>\n",
       "      <td>Benzaldehyde</td>\n",
       "    </tr>\n",
       "    <tr>\n",
       "      <th>87</th>\n",
       "      <td>69</td>\n",
       "      <td>CC(OC(C)=O)=O</td>\n",
       "      <td>Acetic anhydride</td>\n",
       "      <td>Acetic anhydride</td>\n",
       "    </tr>\n",
       "  </tbody>\n",
       "</table>\n",
       "<p>88 rows × 4 columns</p>\n",
       "</div>"
      ],
      "text/plain": [
       "   orig_nr         SMILES      curated_name      original name\n",
       "0        1             CO          Methanol          Methanol \n",
       "1        2            CCO           Ethanol        Ethanol 96%\n",
       "2        3            CCO           Ethanol        Ethanol 99%\n",
       "3        4           CCCO        n-Propanol        n-Propanol \n",
       "4        5          CCCCO         n-Butanol         n-Butanol \n",
       "..     ...            ...               ...                ...\n",
       "83      66        OC(C)=O       Acetic acid       Acetic acid \n",
       "84      67           OC=O       Formic acid    Formic acid 90%\n",
       "85    67A       CCCC(=O)O      Butyric acid   Butyric acid    \n",
       "86      68    O=Cc1ccccc1      Benzaldehyde      Benzaldehyde \n",
       "87      69  CC(OC(C)=O)=O  Acetic anhydride  Acetic anhydride \n",
       "\n",
       "[88 rows x 4 columns]"
      ]
     },
     "execution_count": 66,
     "metadata": {},
     "output_type": "execute_result"
    }
   ],
   "source": [
    "df_desc = pd.read_excel(url,sheet_name='solvent_descriptors')\n",
    "df_desc"
   ]
  },
  {
   "cell_type": "code",
   "execution_count": 67,
   "metadata": {
    "colab": {
     "base_uri": "https://localhost:8080/",
     "height": 419
    },
    "colab_type": "code",
    "executionInfo": {
     "elapsed": 875,
     "status": "ok",
     "timestamp": 1583076705795,
     "user": {
      "displayName": "Christoph Loschen",
      "photoUrl": "",
      "userId": "06846131955017515958"
     },
     "user_tz": -60
    },
    "id": "DiXTvKtel2P-",
    "outputId": "75daa95a-8633-4b35-c8c2-4bf357486dc6"
   },
   "outputs": [
    {
     "data": {
      "text/html": [
       "<div>\n",
       "<style scoped>\n",
       "    .dataframe tbody tr th:only-of-type {\n",
       "        vertical-align: middle;\n",
       "    }\n",
       "\n",
       "    .dataframe tbody tr th {\n",
       "        vertical-align: top;\n",
       "    }\n",
       "\n",
       "    .dataframe thead th {\n",
       "        text-align: right;\n",
       "    }\n",
       "</style>\n",
       "<table border=\"1\" class=\"dataframe\">\n",
       "  <thead>\n",
       "    <tr style=\"text-align: right;\">\n",
       "      <th></th>\n",
       "      <th>SMILES</th>\n",
       "      <th>original name</th>\n",
       "    </tr>\n",
       "  </thead>\n",
       "  <tbody>\n",
       "    <tr>\n",
       "      <th>0</th>\n",
       "      <td>CO</td>\n",
       "      <td>Methanol</td>\n",
       "    </tr>\n",
       "    <tr>\n",
       "      <th>1</th>\n",
       "      <td>CCO</td>\n",
       "      <td>Ethanol 96%</td>\n",
       "    </tr>\n",
       "    <tr>\n",
       "      <th>2</th>\n",
       "      <td>CCO</td>\n",
       "      <td>Ethanol 99%</td>\n",
       "    </tr>\n",
       "    <tr>\n",
       "      <th>3</th>\n",
       "      <td>CCCO</td>\n",
       "      <td>n-Propanol</td>\n",
       "    </tr>\n",
       "    <tr>\n",
       "      <th>4</th>\n",
       "      <td>CCCCO</td>\n",
       "      <td>n-Butanol</td>\n",
       "    </tr>\n",
       "    <tr>\n",
       "      <th>...</th>\n",
       "      <td>...</td>\n",
       "      <td>...</td>\n",
       "    </tr>\n",
       "    <tr>\n",
       "      <th>83</th>\n",
       "      <td>OC(C)=O</td>\n",
       "      <td>Acetic acid</td>\n",
       "    </tr>\n",
       "    <tr>\n",
       "      <th>84</th>\n",
       "      <td>OC=O</td>\n",
       "      <td>Formic acid 90%</td>\n",
       "    </tr>\n",
       "    <tr>\n",
       "      <th>85</th>\n",
       "      <td>CCCC(=O)O</td>\n",
       "      <td>Butyric acid</td>\n",
       "    </tr>\n",
       "    <tr>\n",
       "      <th>86</th>\n",
       "      <td>O=Cc1ccccc1</td>\n",
       "      <td>Benzaldehyde</td>\n",
       "    </tr>\n",
       "    <tr>\n",
       "      <th>87</th>\n",
       "      <td>CC(OC(C)=O)=O</td>\n",
       "      <td>Acetic anhydride</td>\n",
       "    </tr>\n",
       "  </tbody>\n",
       "</table>\n",
       "<p>88 rows × 2 columns</p>\n",
       "</div>"
      ],
      "text/plain": [
       "           SMILES      original name\n",
       "0              CO          Methanol \n",
       "1             CCO        Ethanol 96%\n",
       "2             CCO        Ethanol 99%\n",
       "3            CCCO        n-Propanol \n",
       "4           CCCCO         n-Butanol \n",
       "..            ...                ...\n",
       "83        OC(C)=O       Acetic acid \n",
       "84           OC=O    Formic acid 90%\n",
       "85      CCCC(=O)O   Butyric acid    \n",
       "86    O=Cc1ccccc1      Benzaldehyde \n",
       "87  CC(OC(C)=O)=O  Acetic anhydride \n",
       "\n",
       "[88 rows x 2 columns]"
      ]
     },
     "execution_count": 67,
     "metadata": {},
     "output_type": "execute_result"
    }
   ],
   "source": [
    "df_rdkit = df_desc[['SMILES','original name']]\n",
    "#df_rdkit['MOL'] = df_rdkit['SMILES'].apply(lambda x: Chem.MolFromSmiles(x)) \n",
    "df_rdkit"
   ]
  },
  {
   "cell_type": "code",
   "execution_count": 68,
   "metadata": {
    "colab": {},
    "colab_type": "code",
    "id": "A9CYODdSl2QA"
   },
   "outputs": [],
   "source": [
    "#https://github.com/rdkit/rdkit/issues/2529\n",
    "#compute all descriptors for smiles and return dictionary with key: desc_name and value: desc. value\n",
    "def calc_descrs_for_smiles(smi,descList):\n",
    "    m = Chem.MolFromSmiles(smi)\n",
    "    if m is None:\n",
    "        return dict(zip(descList,[None]*(len(descList))))\n",
    "    fns = [(x,y) for x,y in Descriptors.descList if x in descList]\n",
    "    res = {}\n",
    "    for x,y in fns:\n",
    "        res[x] = y(m)\n",
    "    res['SMILES'] = smi\n",
    "    return res"
   ]
  },
  {
   "cell_type": "code",
   "execution_count": 69,
   "metadata": {
    "colab": {},
    "colab_type": "code",
    "id": "uU0Q8NBiooL3"
   },
   "outputs": [],
   "source": [
    "def compute_corr(df_tmp,threshold=0.4):\n",
    "    # Compute the correlation matrix\n",
    "    corr = df_tmp._get_numeric_data().corr()**2\n",
    "    # Generate a mask for the upper triangle\n",
    "    mask = np.triu(np.ones_like(corr, dtype=np.bool))\n",
    "    # Set up the matplotlib figure\n",
    "    f, ax = plt.subplots(figsize=(11, 9))\n",
    "\n",
    "    # Generate a custom diverging colormap\n",
    "    cmap = sbn.diverging_palette(220, 10, as_cmap=True)\n",
    "\n",
    "    # Draw the heatmap with the mask and correct aspect ratio\n",
    "    ax = sbn.heatmap(corr, mask=mask, cmap=cmap, vmax=1.0, center=0,\n",
    "                square=True, linewidths=.5, cbar_kws={\"shrink\": .5})\n",
    "    return ax,corr"
   ]
  },
  {
   "cell_type": "code",
   "execution_count": 70,
   "metadata": {
    "colab": {
     "base_uri": "https://localhost:8080/",
     "height": 255
    },
    "colab_type": "code",
    "executionInfo": {
     "elapsed": 940,
     "status": "ok",
     "timestamp": 1583076696333,
     "user": {
      "displayName": "Christoph Loschen",
      "photoUrl": "",
      "userId": "06846131955017515958"
     },
     "user_tz": -60
    },
    "id": "k5EpTDX7l2QB",
    "outputId": "eeca39c4-cfcd-49f3-97b0-bb2311676beb"
   },
   "outputs": [
    {
     "data": {
      "text/plain": [
       "['MinPartialCharge',\n",
       " 'MaxAbsPartialCharge',\n",
       " 'PEOE_VSA6',\n",
       " 'SMR_VSA1',\n",
       " 'TPSA',\n",
       " 'NOCount',\n",
       " 'NumHAcceptors',\n",
       " 'MolLogP',\n",
       " 'EState_VSA10',\n",
       " 'NHOHCount',\n",
       " 'NumHDonors',\n",
       " 'fr_Al_OH',\n",
       " 'fr_Al_OH_noTert',\n",
       " 'qed']"
      ]
     },
     "execution_count": 70,
     "metadata": {},
     "output_type": "execute_result"
    }
   ],
   "source": [
    "descList = [desc[0] for desc in Descriptors.descList]\n",
    "desc_corr = ['MinPartialCharge', 'MaxAbsPartialCharge', 'PEOE_VSA6', 'SMR_VSA1','TPSA', 'NOCount', 'NumHAcceptors', 'MolLogP','EState_VSA10', 'NHOHCount', 'NumHDonors', 'fr_Al_OH','fr_Al_OH_noTert','qed']\n",
    "descList = desc_corr\n",
    "descList"
   ]
  },
  {
   "cell_type": "code",
   "execution_count": 71,
   "metadata": {
    "colab": {},
    "colab_type": "code",
    "id": "IbaaamWLl2QC"
   },
   "outputs": [],
   "source": [
    "descs=[]\n",
    "for smi in set(df_rdkit['SMILES'].values):\n",
    "    res = calc_descrs_for_smiles(smi,descList)\n",
    "    descs.append(res)\n"
   ]
  },
  {
   "cell_type": "code",
   "execution_count": 72,
   "metadata": {
    "colab": {},
    "colab_type": "code",
    "id": "cl1kyunJl2QG"
   },
   "outputs": [],
   "source": [
    "df_rdkit = df_rdkit.merge(pd.DataFrame(descs),left_on='SMILES',right_on='SMILES',how='left')"
   ]
  },
  {
   "cell_type": "code",
   "execution_count": 73,
   "metadata": {
    "colab": {
     "base_uri": "https://localhost:8080/",
     "height": 419
    },
    "colab_type": "code",
    "executionInfo": {
     "elapsed": 517,
     "status": "ok",
     "timestamp": 1583076712054,
     "user": {
      "displayName": "Christoph Loschen",
      "photoUrl": "",
      "userId": "06846131955017515958"
     },
     "user_tz": -60
    },
    "id": "AFz2UrCKl2QH",
    "outputId": "0aab2965-0b5f-4c2a-ffbd-b4a74887f129"
   },
   "outputs": [
    {
     "data": {
      "text/html": [
       "<div>\n",
       "<style scoped>\n",
       "    .dataframe tbody tr th:only-of-type {\n",
       "        vertical-align: middle;\n",
       "    }\n",
       "\n",
       "    .dataframe tbody tr th {\n",
       "        vertical-align: top;\n",
       "    }\n",
       "\n",
       "    .dataframe thead th {\n",
       "        text-align: right;\n",
       "    }\n",
       "</style>\n",
       "<table border=\"1\" class=\"dataframe\">\n",
       "  <thead>\n",
       "    <tr style=\"text-align: right;\">\n",
       "      <th></th>\n",
       "      <th>SMILES</th>\n",
       "      <th>original name</th>\n",
       "      <th>qed</th>\n",
       "      <th>MinPartialCharge</th>\n",
       "      <th>MaxAbsPartialCharge</th>\n",
       "      <th>PEOE_VSA6</th>\n",
       "      <th>SMR_VSA1</th>\n",
       "      <th>TPSA</th>\n",
       "      <th>EState_VSA10</th>\n",
       "      <th>NHOHCount</th>\n",
       "      <th>NOCount</th>\n",
       "      <th>NumHAcceptors</th>\n",
       "      <th>NumHDonors</th>\n",
       "      <th>MolLogP</th>\n",
       "      <th>fr_Al_OH</th>\n",
       "      <th>fr_Al_OH_noTert</th>\n",
       "    </tr>\n",
       "  </thead>\n",
       "  <tbody>\n",
       "    <tr>\n",
       "      <th>0</th>\n",
       "      <td>CO</td>\n",
       "      <td>Methanol</td>\n",
       "      <td>0.385284</td>\n",
       "      <td>-0.399630</td>\n",
       "      <td>0.399630</td>\n",
       "      <td>0.000000</td>\n",
       "      <td>5.106527</td>\n",
       "      <td>20.23</td>\n",
       "      <td>0.000000</td>\n",
       "      <td>1</td>\n",
       "      <td>1</td>\n",
       "      <td>1</td>\n",
       "      <td>1</td>\n",
       "      <td>-0.3915</td>\n",
       "      <td>1</td>\n",
       "      <td>1</td>\n",
       "    </tr>\n",
       "    <tr>\n",
       "      <th>1</th>\n",
       "      <td>CCO</td>\n",
       "      <td>Ethanol 96%</td>\n",
       "      <td>0.406808</td>\n",
       "      <td>-0.396664</td>\n",
       "      <td>0.396664</td>\n",
       "      <td>0.000000</td>\n",
       "      <td>5.106527</td>\n",
       "      <td>20.23</td>\n",
       "      <td>0.000000</td>\n",
       "      <td>1</td>\n",
       "      <td>1</td>\n",
       "      <td>1</td>\n",
       "      <td>1</td>\n",
       "      <td>-0.0014</td>\n",
       "      <td>1</td>\n",
       "      <td>1</td>\n",
       "    </tr>\n",
       "    <tr>\n",
       "      <th>2</th>\n",
       "      <td>CCO</td>\n",
       "      <td>Ethanol 99%</td>\n",
       "      <td>0.406808</td>\n",
       "      <td>-0.396664</td>\n",
       "      <td>0.396664</td>\n",
       "      <td>0.000000</td>\n",
       "      <td>5.106527</td>\n",
       "      <td>20.23</td>\n",
       "      <td>0.000000</td>\n",
       "      <td>1</td>\n",
       "      <td>1</td>\n",
       "      <td>1</td>\n",
       "      <td>1</td>\n",
       "      <td>-0.0014</td>\n",
       "      <td>1</td>\n",
       "      <td>1</td>\n",
       "    </tr>\n",
       "    <tr>\n",
       "      <th>3</th>\n",
       "      <td>CCCO</td>\n",
       "      <td>n-Propanol</td>\n",
       "      <td>0.463784</td>\n",
       "      <td>-0.396387</td>\n",
       "      <td>0.396387</td>\n",
       "      <td>6.923737</td>\n",
       "      <td>5.106527</td>\n",
       "      <td>20.23</td>\n",
       "      <td>0.000000</td>\n",
       "      <td>1</td>\n",
       "      <td>1</td>\n",
       "      <td>1</td>\n",
       "      <td>1</td>\n",
       "      <td>0.3887</td>\n",
       "      <td>1</td>\n",
       "      <td>1</td>\n",
       "    </tr>\n",
       "    <tr>\n",
       "      <th>4</th>\n",
       "      <td>CCCCO</td>\n",
       "      <td>n-Butanol</td>\n",
       "      <td>0.512822</td>\n",
       "      <td>-0.396377</td>\n",
       "      <td>0.396377</td>\n",
       "      <td>13.344559</td>\n",
       "      <td>5.106527</td>\n",
       "      <td>20.23</td>\n",
       "      <td>0.000000</td>\n",
       "      <td>1</td>\n",
       "      <td>1</td>\n",
       "      <td>1</td>\n",
       "      <td>1</td>\n",
       "      <td>0.7788</td>\n",
       "      <td>1</td>\n",
       "      <td>1</td>\n",
       "    </tr>\n",
       "    <tr>\n",
       "      <th>...</th>\n",
       "      <td>...</td>\n",
       "      <td>...</td>\n",
       "      <td>...</td>\n",
       "      <td>...</td>\n",
       "      <td>...</td>\n",
       "      <td>...</td>\n",
       "      <td>...</td>\n",
       "      <td>...</td>\n",
       "      <td>...</td>\n",
       "      <td>...</td>\n",
       "      <td>...</td>\n",
       "      <td>...</td>\n",
       "      <td>...</td>\n",
       "      <td>...</td>\n",
       "      <td>...</td>\n",
       "      <td>...</td>\n",
       "    </tr>\n",
       "    <tr>\n",
       "      <th>83</th>\n",
       "      <td>OC(C)=O</td>\n",
       "      <td>Acetic acid</td>\n",
       "      <td>0.429883</td>\n",
       "      <td>-0.481433</td>\n",
       "      <td>0.481433</td>\n",
       "      <td>0.000000</td>\n",
       "      <td>9.901065</td>\n",
       "      <td>37.30</td>\n",
       "      <td>0.000000</td>\n",
       "      <td>1</td>\n",
       "      <td>2</td>\n",
       "      <td>1</td>\n",
       "      <td>1</td>\n",
       "      <td>0.0909</td>\n",
       "      <td>0</td>\n",
       "      <td>0</td>\n",
       "    </tr>\n",
       "    <tr>\n",
       "      <th>84</th>\n",
       "      <td>OC=O</td>\n",
       "      <td>Formic acid 90%</td>\n",
       "      <td>0.380161</td>\n",
       "      <td>-0.483467</td>\n",
       "      <td>0.483467</td>\n",
       "      <td>0.000000</td>\n",
       "      <td>9.901065</td>\n",
       "      <td>37.30</td>\n",
       "      <td>0.000000</td>\n",
       "      <td>1</td>\n",
       "      <td>2</td>\n",
       "      <td>1</td>\n",
       "      <td>1</td>\n",
       "      <td>-0.2992</td>\n",
       "      <td>0</td>\n",
       "      <td>0</td>\n",
       "    </tr>\n",
       "    <tr>\n",
       "      <th>85</th>\n",
       "      <td>CCCC(=O)O</td>\n",
       "      <td>Butyric acid</td>\n",
       "      <td>0.543441</td>\n",
       "      <td>-0.481231</td>\n",
       "      <td>0.481231</td>\n",
       "      <td>6.923737</td>\n",
       "      <td>9.901065</td>\n",
       "      <td>37.30</td>\n",
       "      <td>4.794537</td>\n",
       "      <td>1</td>\n",
       "      <td>2</td>\n",
       "      <td>1</td>\n",
       "      <td>1</td>\n",
       "      <td>0.8711</td>\n",
       "      <td>0</td>\n",
       "      <td>0</td>\n",
       "    </tr>\n",
       "    <tr>\n",
       "      <th>86</th>\n",
       "      <td>O=Cc1ccccc1</td>\n",
       "      <td>Benzaldehyde</td>\n",
       "      <td>0.495636</td>\n",
       "      <td>-0.297896</td>\n",
       "      <td>0.297896</td>\n",
       "      <td>30.331835</td>\n",
       "      <td>4.794537</td>\n",
       "      <td>17.07</td>\n",
       "      <td>4.794537</td>\n",
       "      <td>0</td>\n",
       "      <td>1</td>\n",
       "      <td>1</td>\n",
       "      <td>0</td>\n",
       "      <td>1.4991</td>\n",
       "      <td>0</td>\n",
       "      <td>0</td>\n",
       "    </tr>\n",
       "    <tr>\n",
       "      <th>87</th>\n",
       "      <td>CC(OC(C)=O)=O</td>\n",
       "      <td>Acetic anhydride</td>\n",
       "      <td>0.321470</td>\n",
       "      <td>-0.393562</td>\n",
       "      <td>0.393562</td>\n",
       "      <td>0.000000</td>\n",
       "      <td>14.325937</td>\n",
       "      <td>43.37</td>\n",
       "      <td>9.589074</td>\n",
       "      <td>0</td>\n",
       "      <td>3</td>\n",
       "      <td>3</td>\n",
       "      <td>0</td>\n",
       "      <td>0.0960</td>\n",
       "      <td>0</td>\n",
       "      <td>0</td>\n",
       "    </tr>\n",
       "  </tbody>\n",
       "</table>\n",
       "<p>88 rows × 16 columns</p>\n",
       "</div>"
      ],
      "text/plain": [
       "           SMILES      original name       qed  MinPartialCharge  \\\n",
       "0              CO          Methanol   0.385284         -0.399630   \n",
       "1             CCO        Ethanol 96%  0.406808         -0.396664   \n",
       "2             CCO        Ethanol 99%  0.406808         -0.396664   \n",
       "3            CCCO        n-Propanol   0.463784         -0.396387   \n",
       "4           CCCCO         n-Butanol   0.512822         -0.396377   \n",
       "..            ...                ...       ...               ...   \n",
       "83        OC(C)=O       Acetic acid   0.429883         -0.481433   \n",
       "84           OC=O    Formic acid 90%  0.380161         -0.483467   \n",
       "85      CCCC(=O)O   Butyric acid      0.543441         -0.481231   \n",
       "86    O=Cc1ccccc1      Benzaldehyde   0.495636         -0.297896   \n",
       "87  CC(OC(C)=O)=O  Acetic anhydride   0.321470         -0.393562   \n",
       "\n",
       "    MaxAbsPartialCharge  PEOE_VSA6   SMR_VSA1   TPSA  EState_VSA10  NHOHCount  \\\n",
       "0              0.399630   0.000000   5.106527  20.23      0.000000          1   \n",
       "1              0.396664   0.000000   5.106527  20.23      0.000000          1   \n",
       "2              0.396664   0.000000   5.106527  20.23      0.000000          1   \n",
       "3              0.396387   6.923737   5.106527  20.23      0.000000          1   \n",
       "4              0.396377  13.344559   5.106527  20.23      0.000000          1   \n",
       "..                  ...        ...        ...    ...           ...        ...   \n",
       "83             0.481433   0.000000   9.901065  37.30      0.000000          1   \n",
       "84             0.483467   0.000000   9.901065  37.30      0.000000          1   \n",
       "85             0.481231   6.923737   9.901065  37.30      4.794537          1   \n",
       "86             0.297896  30.331835   4.794537  17.07      4.794537          0   \n",
       "87             0.393562   0.000000  14.325937  43.37      9.589074          0   \n",
       "\n",
       "    NOCount  NumHAcceptors  NumHDonors  MolLogP  fr_Al_OH  fr_Al_OH_noTert  \n",
       "0         1              1           1  -0.3915         1                1  \n",
       "1         1              1           1  -0.0014         1                1  \n",
       "2         1              1           1  -0.0014         1                1  \n",
       "3         1              1           1   0.3887         1                1  \n",
       "4         1              1           1   0.7788         1                1  \n",
       "..      ...            ...         ...      ...       ...              ...  \n",
       "83        2              1           1   0.0909         0                0  \n",
       "84        2              1           1  -0.2992         0                0  \n",
       "85        2              1           1   0.8711         0                0  \n",
       "86        1              1           0   1.4991         0                0  \n",
       "87        3              3           0   0.0960         0                0  \n",
       "\n",
       "[88 rows x 16 columns]"
      ]
     },
     "execution_count": 73,
     "metadata": {},
     "output_type": "execute_result"
    }
   ],
   "source": [
    "df_rdkit"
   ]
  },
  {
   "cell_type": "code",
   "execution_count": 74,
   "metadata": {
    "colab": {},
    "colab_type": "code",
    "id": "TWRPdu_5l2QL"
   },
   "outputs": [],
   "source": [
    "df_rdkit['FAC0'] = fac0\n",
    "df_rdkit['FAC1'] = fac1\n",
    "df_rdkit['FAC2'] = fac2"
   ]
  },
  {
   "cell_type": "code",
   "execution_count": 75,
   "metadata": {
    "colab": {
     "base_uri": "https://localhost:8080/",
     "height": 634
    },
    "colab_type": "code",
    "executionInfo": {
     "elapsed": 2100,
     "status": "ok",
     "timestamp": 1583076717732,
     "user": {
      "displayName": "Christoph Loschen",
      "photoUrl": "",
      "userId": "06846131955017515958"
     },
     "user_tz": -60
    },
    "id": "FFjv7QN9l2QM",
    "outputId": "6c0bd2c7-395a-4037-f1e0-0a6ac3a5bc54"
   },
   "outputs": [
    {
     "data": {
      "image/png": "[encoded data removed]",
      "text/plain": [
       "<Figure size 792x648 with 2 Axes>"
      ]
     },
     "metadata": {
      "needs_background": "light"
     },
     "output_type": "display_data"
    }
   ],
   "source": [
    "ax, corr = compute_corr(df_rdkit)"
   ]
  },
  {
   "cell_type": "markdown",
   "metadata": {
    "colab_type": "text",
    "id": "yQOn0_Vkvmwc"
   },
   "source": [
    "Variables space projected on the first principle component (FAC0) shows strong correlation with **logP** and **TPSA** (Topological polar surface area).   \n",
    "\n",
    "The second principle component (FAC1) shows some correlation with the EState_VSA10 and the number of **H-bond acceptors and Donors**.\n",
    "\n",
    "It seems that the colloborative filtering model learned something about molecular polarity and basic chemical concepts!\n"
   ]
  },
  {
   "cell_type": "code",
   "execution_count": 76,
   "metadata": {
    "colab": {
     "base_uri": "https://localhost:8080/",
     "height": 323
    },
    "colab_type": "code",
    "executionInfo": {
     "elapsed": 941,
     "status": "ok",
     "timestamp": 1583076736129,
     "user": {
      "displayName": "Christoph Loschen",
      "photoUrl": "",
      "userId": "06846131955017515958"
     },
     "user_tz": -60
    },
    "id": "YokcYyvHl2QN",
    "outputId": "eac72dac-5a18-4934-b39b-317b7b88fb6f"
   },
   "outputs": [
    {
     "data": {
      "text/plain": [
       "FAC0                   1.000000e+00\n",
       "MolLogP                6.002239e-01\n",
       "TPSA                   5.035388e-01\n",
       "MinPartialCharge       4.231362e-01\n",
       "MaxAbsPartialCharge    4.074169e-01\n",
       "NOCount                4.009380e-01\n",
       "SMR_VSA1               3.881399e-01\n",
       "NumHAcceptors          3.751594e-01\n",
       "NumHDonors             3.648076e-01\n",
       "PEOE_VSA6              3.623790e-01\n",
       "NHOHCount              3.359465e-01\n",
       "fr_Al_OH               3.092490e-01\n",
       "fr_Al_OH_noTert        2.892210e-01\n",
       "qed                    2.696957e-02\n",
       "EState_VSA10           1.967952e-03\n",
       "FAC2                   7.288461e-15\n",
       "FAC1                   5.085565e-16\n",
       "Name: FAC0, dtype: float64"
      ]
     },
     "execution_count": 76,
     "metadata": {},
     "output_type": "execute_result"
    }
   ],
   "source": [
    "corr['FAC0'].sort_values(ascending=False)"
   ]
  },
  {
   "cell_type": "code",
   "execution_count": 77,
   "metadata": {
    "colab": {
     "base_uri": "https://localhost:8080/",
     "height": 323
    },
    "colab_type": "code",
    "executionInfo": {
     "elapsed": 782,
     "status": "ok",
     "timestamp": 1583076741647,
     "user": {
      "displayName": "Christoph Loschen",
      "photoUrl": "",
      "userId": "06846131955017515958"
     },
     "user_tz": -60
    },
    "id": "C5OEwo-ol2QQ",
    "outputId": "3b7cb772-bf01-4a4b-d5c8-4a9d280e0a71"
   },
   "outputs": [
    {
     "data": {
      "text/plain": [
       "FAC1                   1.000000e+00\n",
       "EState_VSA10           3.010945e-01\n",
       "NumHDonors             1.808664e-01\n",
       "NHOHCount              1.489846e-01\n",
       "fr_Al_OH_noTert        1.384980e-01\n",
       "fr_Al_OH               1.297483e-01\n",
       "NOCount                9.068335e-02\n",
       "qed                    8.447308e-02\n",
       "NumHAcceptors          7.801174e-02\n",
       "PEOE_VSA6              6.740623e-02\n",
       "TPSA                   2.230087e-02\n",
       "SMR_VSA1               1.719035e-02\n",
       "MolLogP                2.867912e-03\n",
       "MinPartialCharge       1.778389e-04\n",
       "MaxAbsPartialCharge    4.117874e-06\n",
       "FAC2                   5.845118e-15\n",
       "FAC0                   5.085565e-16\n",
       "Name: FAC1, dtype: float64"
      ]
     },
     "execution_count": 77,
     "metadata": {},
     "output_type": "execute_result"
    }
   ],
   "source": [
    "corr['FAC1'].sort_values(ascending=False)"
   ]
  },
  {
   "cell_type": "code",
   "execution_count": 0,
   "metadata": {
    "colab": {},
    "colab_type": "code",
    "id": "DKPaVPo5l2QU"
   },
   "outputs": [],
   "source": []
  }
 ],
 "metadata": {
  "colab": {
   "collapsed_sections": [],
   "name": "collab_polymers.ipynb",
   "provenance": []
  },
  "kernelspec": {
   "display_name": "Python 2",
   "language": "python",
   "name": "python2"
  },
  "language_info": {
   "codemirror_mode": {
    "name": "ipython",
    "version": 3
   },
   "file_extension": ".py",
   "mimetype": "text/x-python",
   "name": "python",
   "nbconvert_exporter": "python",
   "pygments_lexer": "ipython3",
   "version": "3.6.10"
  }
 },
 "nbformat": 4,
 "nbformat_minor": 1
}
